{
 "cells": [
  {
   "cell_type": "markdown",
   "metadata": {
    "colab_type": "text",
    "id": "TpmFfXsQ0dYI"
   },
   "source": [
    "<table>\n",
    "    <tr>\n",
    "        <td><img src=\"./imagenes/Macc.png\" width=\"400\"/></td>\n",
    "        <td>&nbsp;</td>\n",
    "        <td>\n",
    "            <h1 style=\"color:blue;text-align:left\">Inteligencia Artificial</h1></td>\n",
    "        <td>\n",
    "            <table><tr>\n",
    "            <tp><p style=\"font-size:150%;text-align:center\">Notebook</p></tp>\n",
    "            <tp><p style=\"font-size:150%;text-align:center\">Heurísticas</p></tp>\n",
    "            </tr></table>\n",
    "        </td>\n",
    "    </tr>\n",
    "</table>\n",
    "\n",
    "---"
   ]
  },
  {
   "cell_type": "markdown",
   "metadata": {
    "colab_type": "text",
    "id": "V3SkDSWJ0dYJ"
   },
   "source": [
    "## Objetivo <a class=\"anchor\" id=\"inicio\"></a>\n",
    "\n",
    "El objetivo principal de este notebook es el de desarrollar los algoritmos que usan información propia del problema para hacer una búsqueda más eficiente en el espacio de estados. A esta familia de algoritmos se le conoce como *búsqueda informada*. En el notebook pasado vimos el algoritmo de Dijkstra (que se pronuncia \"daecstra\"), el cual utiliza la información de costo dada por el entorno. En el ejemplo que venimos trabajando, el costo es la distancia en kilómetros entre ciudades. Ahora usaremos información que nos ayuda a estimar el costo que falta desde un estado hasta una solución del problema. Esta información se le conoce con el nombre de *heurística*. Veremos dos algoritmos, ambos basados en el mismo algoritmo de *primero el mejor*, a saber, el algoritmo avaro y el $A^*$. La única diferencia entre ambos es que el primero solo usa la heurística, mientras que el segundo combina heurística y costo."
   ]
  },
  {
   "cell_type": "markdown",
   "metadata": {},
   "source": [
    "[Ir al ejercicio 1](#ej1)"
   ]
  },
  {
   "cell_type": "markdown",
   "metadata": {},
   "source": [
    "## Dependencias\n",
    "\n",
    "Al iniciar el notebook o reiniciar el kerner se pueden cargar todas las dependencias de este notebook corriendo las siguientes celdas. Este también es el lugar para instalar las dependencias que podrían hacer falta."
   ]
  },
  {
   "cell_type": "code",
   "execution_count": null,
   "metadata": {},
   "outputs": [],
   "source": [
    "#!pip install -r requirements.txt"
   ]
  },
  {
   "cell_type": "markdown",
   "metadata": {},
   "source": [
    "**De Python:**"
   ]
  },
  {
   "cell_type": "code",
   "execution_count": null,
   "metadata": {},
   "outputs": [],
   "source": [
    "import pandas as pd\n",
    "import matplotlib.pyplot as plt\n",
    "import warnings\n",
    "warnings.filterwarnings('ignore')"
   ]
  },
  {
   "cell_type": "markdown",
   "metadata": {},
   "source": [
    "**Del notebook:**"
   ]
  },
  {
   "cell_type": "code",
   "execution_count": null,
   "metadata": {},
   "outputs": [],
   "source": [
    "from busqueda import *\n",
    "from utils_espacios import *\n",
    "from ambientes import ViajeRumania, Rompecabezas\n",
    "\n",
    "%reload_ext autoreload\n",
    "%autoreload 2"
   ]
  },
  {
   "cell_type": "markdown",
   "metadata": {
    "colab_type": "text",
    "id": "5HnQ_gA70dYL"
   },
   "source": [
    "## Secciones\n",
    "\n",
    "Desarrollaremos la explicación de la siguiente manera:\n",
    "\n",
    "* [Búsqueda avara](#avara).\n",
    "* [Problema del 8 puzzle](#8puzzle).\n",
    "* [Heurísticas para el 8 puzzle](#heuristicas).\n",
    "* [Comparación de las heurísticas](#compara).\n",
    "* [Algoritmo A*](#a_star)."
   ]
  },
  {
   "cell_type": "markdown",
   "metadata": {},
   "source": [
    "## Búsqueda avara <a class=\"anchor\" id=\"avara\"></a>\n",
    "\n",
    "([Volver al inicio](#inicio))\n",
    "\n",
    "En el notebook pasado usamos una función de costo para ordenar los nodos en la frontera. Esto nos permite explorar primero el nodo cuyo `costo_camino` sea óptimo hasta el momento. Esta no es la única manera de dar prioridad a los nodos en la exploración. También los podemos ordenar usando un criterio distinto, llamado una *función heurística*. La idea de una heurística es usar información del problema específico que se desea resolver, de tal manera que, para cada estado $s$, se pueda obtener un *costo estimado* (o una *distancia*) para llegar desde $s$ hasta el estado objetivo (o un estado objetivo en caso de que haya varios). Veremos esta idea con una serie de casos particulares.\n",
    "\n",
    "\n",
    "### Distancia lineal\n",
    "\n",
    "Ilustremos el concepto de una heurística en el contexto del problema del viaje a Rumania. Observe que cada ciudad tiene una coordenada $(x,y)$. Una estimación del costo de llegar a la ciudad objetivo desde una ciudad inicial puede ser la distancia euclidiana entre las dos ciudades.\n",
    "\n",
    "<img src=\"./imagenes/Rumania1.png\" width=\"auto\"/>\n",
    "\n",
    "Observe que cada ciudad tiene asociada una coordenada en el ambiente de tarea:"
   ]
  },
  {
   "cell_type": "code",
   "execution_count": null,
   "metadata": {},
   "outputs": [],
   "source": [
    "viaje = ViajeRumania('Arad', 'Bucharest')\n",
    "viaje.coordenadas"
   ]
  },
  {
   "cell_type": "markdown",
   "metadata": {},
   "source": [
    "<a class=\"anchor\" id=\"ej1\"></a>**Ejercicio 1:** \n",
    "\n",
    "([Próximo ejercicio](#ej2))\n",
    "\n",
    "Implemente la función de distancia euclidiana en el ambiente de tarea del viaje a Rumania."
   ]
  },
  {
   "cell_type": "code",
   "execution_count": null,
   "metadata": {},
   "outputs": [],
   "source": [
    "# Ejercicio 1\n",
    "def distancia(self, ciudad:str) -> float:\n",
    "    '''\n",
    "    Devuelve la distancia desde la ciudad hasta la ciudad objetivo\n",
    "    usando las coordenadas de cada una. Se implementa como un\n",
    "    método de la clase ViajeRumania.\n",
    "    Input:\n",
    "        - ciudad, que es el nombre de una ciudad\n",
    "    '''\n",
    "    pass\n",
    "    # AQUÍ SU CÓDIGO\n",
    "    \n",
    "    # HASTA AQUÍ SU CÓDIGO\n",
    "\n",
    "# Incluimos el método en la clase\n",
    "setattr(ViajeRumania, 'heuristica', distancia)\n",
    "# Instanciamos la clase con el problema de ir de Arad a Bucharest\n",
    "viaje = ViajeRumania('Arad', 'Bucharest')\n",
    "# Comprobamos la distancia de Arad a Bucharest\n",
    "viaje.heuristica('Arad')"
   ]
  },
  {
   "cell_type": "markdown",
   "metadata": {},
   "source": [
    "La respuesta debe ser:\n",
    "\n",
    "```\n",
    "493.6361150283255\n",
    "```"
   ]
  },
  {
   "cell_type": "markdown",
   "metadata": {},
   "source": [
    "---"
   ]
  },
  {
   "cell_type": "markdown",
   "metadata": {},
   "source": [
    "### Pseudo código de la búsqueda avara\n",
    "\n",
    "El siguiente es el pseudocódigo del algoritmo de búsqueda avara, el cual ordena los nodos en la frontera en una lista prioritaria, donde la prioridad es el valor dado por la heurística:\n",
    "\n",
    "<div style=\"background-color:rgba(0, 0, 0, 0.0470588); padding:10px 0;font-family:monospace;\">\n",
    "<font style=\"font-weight: bold;\" color = \"red\">function</font> avara(<font style=\"font-style: italic;\">problema</font>, <font style=\"font-style: italic;\">heuristica</font>) <font style=\"font-weight: bold;\" color = \"red\">returns</font> <font style=\"font-style: italic;\">nodo</font> o falla <br>\n",
    "&nbsp;&nbsp; <font style=\"font-style: italic;\">s</font> &#8592; <font style=\"font-style: italic;\">problema</font>.estado_inicial <br>\n",
    "&nbsp;&nbsp; <font style=\"font-style: italic;\">nodo</font> &#8592; NODO(<font style=\"font-style: italic;\">s</font>) <br>\n",
    "&nbsp;&nbsp; <font style=\"font-style: italic;\">v</font> &#8592; <font style=\"font-style: italic;\">heuristica</font>(<font style=\"font-style: italic;\">s</font>) <br>\n",
    "&nbsp;&nbsp; <font style=\"font-style: italic;\">frontera</font> &#8592; lista prioritaria con 1 item con key <font style=\"font-style: italic;\">nodo</font> y valor <font style=\"font-style: italic;\">v</font><br>\n",
    "&nbsp;&nbsp; <font style=\"font-weight: bold;\" color = \"red\">While not</font> VACIA(<font style=\"font-style: italic;\">frontera</font>) <font style=\"font-weight: bold;\" color = \"red\">do</font> <br> \n",
    "&nbsp;&nbsp;&nbsp;&nbsp; <font style=\"font-style: italic;\">nodo</font> &#8592; POP(<font style=\"font-style: italic;\">frontera</font>) <br>\n",
    "&nbsp;&nbsp;&nbsp;&nbsp; <font style=\"font-weight: bold;\" color = \"red\">if</font> <font style=\"font-style: italic;\">problema</font>.test_objetivo(<font style=\"font-style: italic;\">nodo</font>.estado) <font style=\"font-weight: bold;\" color = \"red\">then return</font> <font style=\"font-style: italic;\">nodo</font> <br>\n",
    "&nbsp;&nbsp;&nbsp;&nbsp; <font style=\"font-weight: bold;\" color = \"red\">for each</font> <font style=\"font-style: italic;\">accion</font> <font style=\"font-weight: bold;\" color = \"red\">in</font> <font style=\"font-style: italic;\">problema</font>.acciones_aplicables(<font style=\"font-style: italic;\">nodo</font>.estado) <font style=\"font-weight: bold;\" color = \"red\">do</font> <br>\n",
    "&nbsp;&nbsp;&nbsp;&nbsp;&nbsp;&nbsp; <font style=\"font-style: italic;\">hijo</font> &#8592; nodo_hijo(<font style=\"font-style: italic;\">problema</font>, <font style=\"font-style: italic;\">nodo</font>, <font style=\"font-style: italic;\">accion</font>) <br>\n",
    "&nbsp;&nbsp;&nbsp;&nbsp;&nbsp;&nbsp; <font style=\"font-weight: bold;\" color = \"red\">if not</font> is_cycle(<font style=\"font-style: italic;\">hijo</font>) <font style=\"font-weight: bold;\" color = \"red\">then</font> <br>\n",
    "&nbsp;&nbsp;&nbsp;&nbsp;&nbsp;&nbsp;&nbsp;&nbsp; <font style=\"font-style: italic;\">s</font> &#8592; <font style=\"font-style: italic;\">hijo</font>.estado<br>\n",
    "&nbsp;&nbsp;&nbsp;&nbsp;&nbsp;&nbsp;&nbsp;&nbsp; <font style=\"font-style: italic;\">v</font> &#8592; \n",
    "    <font style=\"font-style: italic;\">heuristica</font>(<font style=\"font-style: italic;\">s</font>) <br>\n",
    "&nbsp;&nbsp;&nbsp;&nbsp;&nbsp;&nbsp;&nbsp;&nbsp; ADD((<font style=\"font-style: italic;\">hijo</font>, <font style=\"font-style: italic;\">v</font>), <font style=\"font-style: italic;\">frontera</font>) <br>\n",
    "&nbsp;&nbsp; <font style=\"font-weight: bold;\" color = \"red\">return</font> falla <br>\n",
    "</div>\n",
    "\n",
    "\n"
   ]
  },
  {
   "cell_type": "markdown",
   "metadata": {},
   "source": [
    "<a class=\"anchor\" id=\"ej2\"></a>**Ejercicio 2:** \n",
    "\n",
    "([Anterior ejercicio](#ej1)) ([Próximo ejercicio](#ej3))\n",
    "\n",
    "Implemente el pseudocódigo de la función `avara` y utilícela para resolver el problema del viaje a Rumania.\n",
    "\n",
    "La respuesta debe ser:\n",
    "\n",
    "```\n",
    "La solución mediante la búsqueda avara es:\n",
    "['Arad', 'Sibiu', 'Fagaras', 'Bucharest']\n",
    "El costo de la solución es: 524\n",
    "```"
   ]
  },
  {
   "cell_type": "code",
   "execution_count": null,
   "metadata": {},
   "outputs": [],
   "source": [
    "# Ejercicio 2\n",
    "def avara(problema, heuristica):\n",
    "    s = problema.estado_inicial\n",
    "    nodo = Nodo(s, None, None, 0, problema.codigo(s))\n",
    "    # AQUÍ SU CÓDIGO\n",
    "    \n",
    "    # HASTA AQUÍ SU CÓDIGO\n",
    "    return None\n",
    "\n",
    "# Incluimos el método en la clase\n",
    "setattr(ViajeRumania, 'distancia', distancia)\n",
    "# Instanciamos la clase con el problema de ir de Arad a Bucharest\n",
    "viaje = ViajeRumania('Arad', 'Bucharest')\n",
    "solucion_avara = avara(viaje, viaje.heuristica)\n",
    "camino_anchura = [viaje.estado_inicial] + solucion(solucion_avara)\n",
    "print('La solución mediante la búsqueda avara es:')\n",
    "print(camino_anchura)\n",
    "print('El costo de la solución es:', solucion_avara.costo_camino)"
   ]
  },
  {
   "cell_type": "markdown",
   "metadata": {},
   "source": [
    "---"
   ]
  },
  {
   "cell_type": "markdown",
   "metadata": {},
   "source": [
    "### Complejidad de los algoritmos\n",
    "\n",
    "Vamos a comparar los algoritmos en términos de tres medidas:\n",
    "\n",
    "1. Tiempo de ejecución en CPU.\n",
    "2. Número de ciudades visitadas.\n",
    "3. Costo en número de kilómetros recorridos.\n",
    "\n",
    "Comenzamos creando un objeto de clase `Experiment` del módulo `utils_espacios`. Luego le pedimos al experimento que cargue el entorno y compare el desempeño de las funciones sobre dicho entorno. El insumo que necesitamos es el siguiente:\n",
    "\n",
    "* Un ambiente de tarea\n",
    "* Una lista de algoritmos\n",
    "* Una lista con los nombres de los algoritmos\n",
    "* Número de iteraciones sobre cada algoritmo"
   ]
  },
  {
   "cell_type": "code",
   "execution_count": null,
   "metadata": {},
   "outputs": [],
   "source": [
    "# Create experiment\n",
    "exp = Experiment()\n",
    "# Create state space\n",
    "viaje = ViajeRumania('Arad', 'Bucharest')\n",
    "# load space\n",
    "exp.load_space(viaje, class_name='ViajeRumania')\n",
    "# Create list of search methods\n",
    "funs = [anchura,\n",
    "        profundidad,\n",
    "        lambda problema: backtracking(problema, Nodo(problema.estado_inicial, None, None, 0, problema.codigo(problema.estado_inicial))),\n",
    "        dijkstra\n",
    "       ]\n",
    "nombres = ['Primero en anchura', \n",
    "           'Primero en profundidad', \n",
    "           'Backtracking',\n",
    "           'Dijkstra'\n",
    "          ]\n",
    "# Compare methods\n",
    "exp.compara_funciones(lista_funs=funs,\n",
    "                      lista_nombres=nombres, \n",
    "                      num_it=1000\n",
    "                      )"
   ]
  },
  {
   "cell_type": "markdown",
   "metadata": {},
   "source": [
    "El resultado se guarda en un dataframe, que podemos inspeccionar así:"
   ]
  },
  {
   "cell_type": "code",
   "execution_count": null,
   "metadata": {},
   "outputs": [],
   "source": [
    "exp.data.head()"
   ]
  },
  {
   "cell_type": "markdown",
   "metadata": {},
   "source": [
    "El experimento trae dos métodos para visualizar los resultados. Ambos métodos reciben como argumento la medida de desempeño que se quiere inspeccionar:\n",
    "\n",
    "* `hallar_tabla()`, el cual recibe una medida y devuelve los resultados en forma tabular sobre dicha medida.\n",
    "* `plots()`, el cual recibe una medida y devuelve los resultados en forma gráfica sobre dicha medida.\n",
    "\n",
    "Veamos primero las tablas respecto a los tiempos en CPU, el número de ciudades recorridas y la cantidad total de kilómetros recorridos."
   ]
  },
  {
   "cell_type": "code",
   "execution_count": null,
   "metadata": {},
   "outputs": [],
   "source": [
    "# Aggregate data to find CPU times\n",
    "exp.hallar_tabla(medida='tiempo_CPU')\n",
    "# Visualize table\n",
    "print(exp.tabla)\n",
    "# Aggregate data to find number of steps\n",
    "exp.hallar_tabla(medida='Num_pasos')\n",
    "# Visualize table\n",
    "print('')\n",
    "print(exp.tabla)\n",
    "# Aggregate data to find costs\n",
    "exp.hallar_tabla(medida='Costo_camino')\n",
    "# Visualize table\n",
    "print('')\n",
    "print(exp.tabla)"
   ]
  },
  {
   "cell_type": "markdown",
   "metadata": {},
   "source": [
    "Se observa que el algoritmo más rápido en términos de tiempo de CPU es el backtracking, pero este no es óptimo para el número de pasos. Aquí el mejor es el primero en anchura, pero este no es el ganador para la cantidad de kilómetros. La optimalidad en este sentido es para el algoritmo de Dijkstra. Para este problema, el mejor algoritmo es el de Dijkstra, aunque observe que es el más demorado de los cuatro. En algunas condiciones podría preferirse otro algoritmo.\n",
    "\n",
    "Ahora veamos cómo visualizar mediante un gráfico las medidas de desempeño. Veamos el caso de los tiempos de CPU:"
   ]
  },
  {
   "cell_type": "code",
   "execution_count": null,
   "metadata": {},
   "outputs": [],
   "source": [
    "# Plot CPU times\n",
    "exp.plots(medida='tiempo_CPU')"
   ]
  },
  {
   "cell_type": "markdown",
   "metadata": {},
   "source": [
    "Este tipo de gráficas no es muy útil. No obstante, si queremos ver el desempeño de los algoritmos con respecto a la complejidad del entorno, las gráficas se vuelven interesantes."
   ]
  },
  {
   "cell_type": "markdown",
   "metadata": {},
   "source": [
    " ### Variando la complejidad del entorno\n",
    "\n",
    "Veamos primero cómo correr el experimento sobre una serie de entornos que van variando de complejidad. Para este ejercicio tenemos un \"test suite\", que es una serie de entornos en el viaje a Rumania. La diferencia entre uno y otro es la cantidad de ciudades intermedias que hay que recorrer para llegar desde Arad a la ciudad objetivo."
   ]
  },
  {
   "cell_type": "code",
   "execution_count": null,
   "metadata": {
    "scrolled": true
   },
   "outputs": [],
   "source": [
    "# Create experiment\n",
    "exp = Experiment()\n",
    "# load test_suite\n",
    "exp.load_test_suite(\"test_suite_viajerumania.json\")\n",
    "for i, test in enumerate(exp.test_suite):\n",
    "    print('-'*30)\n",
    "    print('Test name:', exp.test_suite_names[i])\n",
    "    print('Start city:', test[0].estado_inicial)\n",
    "    print('End city:', test[0].ciudad_objetivo)\n",
    "    print('Number of inbetween cities:', exp.test_suite_pasos[i] - 1)"
   ]
  },
  {
   "cell_type": "markdown",
   "metadata": {},
   "source": [
    "Ahora corremos el experimento, en el cual cada entorno será resuelto por cada uno de los algoritmos:"
   ]
  },
  {
   "cell_type": "code",
   "execution_count": null,
   "metadata": {
    "scrolled": true
   },
   "outputs": [],
   "source": [
    "# Create experiment\n",
    "exp = Experiment()\n",
    "# load test_suite\n",
    "exp.load_test_suite(\"test_suite_viajerumania.json\")\n",
    "# Create list of search methods\n",
    "funs = [anchura,\n",
    "        profundidad,\n",
    "        lambda problema: backtracking(problema, Nodo(problema.estado_inicial, None, None, 0, problema.codigo(problema.estado_inicial))),\n",
    "        dijkstra\n",
    "       ]\n",
    "nombres = ['Primero en anchura', \n",
    "           'Primero en profundidad', \n",
    "           'Backtracking',\n",
    "           'Dijkstra'\n",
    "          ]\n",
    "exp.compara_funciones(lista_funs=funs,\n",
    "                      lista_nombres=nombres, \n",
    "                      num_it=5000,\n",
    "                      lim_steps=10\n",
    "                      )"
   ]
  },
  {
   "cell_type": "markdown",
   "metadata": {},
   "source": [
    "Y ahora lo que estábamos esperando: las gráficas de las medidas con respecto a las medidas de desempeño."
   ]
  },
  {
   "cell_type": "code",
   "execution_count": null,
   "metadata": {
    "scrolled": false
   },
   "outputs": [],
   "source": [
    "# Plot CPU times\n",
    "exp.plots(medida='tiempo_CPU')"
   ]
  },
  {
   "cell_type": "markdown",
   "metadata": {},
   "source": [
    "Se observa un resultado esperado y es que el primero en anchura crece de manera exponencial con la cantidad de pasos. El backtracking tiene un comportamiento aparentemente independiente de esta cantidad. Los otros dos dependen más o menos linealmente con respecto a la cantidad de pasos. "
   ]
  },
  {
   "cell_type": "code",
   "execution_count": null,
   "metadata": {
    "scrolled": true
   },
   "outputs": [],
   "source": [
    "# Plot steps\n",
    "exp.plots(medida='Num_pasos')"
   ]
  },
  {
   "cell_type": "markdown",
   "metadata": {},
   "source": [
    "No hay sorpresas aquí. El óptimo en número de ciudades intermedias es el primero en anchura, seguido de Dijkstra. Esto ocurre independientemente de la complejidad del viaje. "
   ]
  },
  {
   "cell_type": "code",
   "execution_count": null,
   "metadata": {
    "scrolled": true
   },
   "outputs": [],
   "source": [
    "# Plot costs\n",
    "exp.plots(medida='Costo_camino')"
   ]
  },
  {
   "cell_type": "markdown",
   "metadata": {},
   "source": [
    "Tampoco hay sorpresas aquí. El óptimo en kilómetros del viaje es el primero en anchura, seguido de Dijkstra. Esto ocurre independientemente de la complejidad del viaje."
   ]
  },
  {
   "cell_type": "markdown",
   "metadata": {},
   "source": [
    "<a class=\"anchor\" id=\"ej3\"></a>**Ejercicio 3:** \n",
    "\n",
    "([Anterior ejercicio](#ej2)) ([Próximo ejercicio](#ej4))\n",
    "\n",
    "Utilice el test suite del viaje a Rumania para comparar los métodos `dijkstra` y `avara`. Encuentre:\n",
    "\n",
    "    1. Tiempos promedio en CPU (use 1000 iteraciones)\n",
    "    2. Cantidad en kilómetros de la solución.\n",
    "    \n",
    "Presente los dos gráficos de líneas con esta información y comente los resultados.\n",
    "\n",
    "**Nota: ¡No olvide comentar los resultados!**"
   ]
  },
  {
   "cell_type": "code",
   "execution_count": null,
   "metadata": {},
   "outputs": [],
   "source": [
    "# Ejercicio 3\n",
    "# Create experiment\n",
    "exp = Experiment()\n",
    "# load test_suite\n",
    "exp.load_test_suite(\"test_suite_viajerumania.json\")\n",
    "# Create list of search methods\n",
    "funs = [dijkstra, \n",
    "        lambda problema: avara(problema, problema.heuristica)\n",
    "       ]\n",
    "nombres = ['Dijkstra', \n",
    "           'Búsqueda Avara'\n",
    "          ]\n",
    "# AQUÍ SU CÓDIGO\n",
    "    \n",
    "# HASTA AQUÍ SU CÓDIGO"
   ]
  },
  {
   "cell_type": "markdown",
   "metadata": {},
   "source": [
    "---"
   ]
  },
  {
   "cell_type": "markdown",
   "metadata": {},
   "source": [
    "## El problema del rompecabezas de 8 piezas <a class=\"anchor\" id=\"8puzzle\"></a>\n",
    "\n",
    "([Volver al inicio](#inicio))\n",
    "\n",
    "Considere ocho piezas cuadradas, cada una con un número del 1 al 8. Estas piezas se ponen en una caja cuadrada  formando un rompecabezas, de tal manera que queda un espacio del mismo tamaño que las piezas, como en la figura siguiente:\n",
    "\n",
    "<img src=\"./imagenes/puzzle1.png\" width=\"350px\"/>\n",
    "\n",
    "Las piezas adyacentes al espacio pueden desplazarse desde su posición hasta ocupar el espacio vacío, de tal manera que es posible cambiar el orden de todas las piezas. El problema consiste en, dada una posición del rompecabezas, encontrar una manera de mover las piezas para lograr otra posición deseada.\n",
    "\n",
    "La descripción formal del problema es como sigue:\n",
    "\n",
    "* **Estado inicial**: Un rompezabezas donde las piezas están dispuestas aleatoriamente.\n",
    "\n",
    "* **Posibles acciones**: Mover una ficha al espacio vacío. En cada configuración hay maximo cuatro fichas que pueden moverse al espacio vacío (cuando este está en el centro). Usualmente solo pueden moverse tres fichas o solo dos, cuando el espacio vacío está en una esquina. \n",
    "\n",
    "* **Función de transiciones**: Mover la ficha y obtener el tablero correspondiente.\n",
    "\n",
    "* **Prueba de satisfacción del objetivo**: El tablero está organizado como sigue:\n",
    "\n",
    "<img src=\"./imagenes/objetivo.png\" width=\"350px\"/>\n",
    "\n",
    "* **Función de costo**: Cada acción cuesta 1 punto."
   ]
  },
  {
   "cell_type": "markdown",
   "metadata": {},
   "source": [
    "Observe que podemos usar el método `pintar_camino` para visualizar el movimiento correspondiente de las piezas:"
   ]
  },
  {
   "cell_type": "code",
   "execution_count": null,
   "metadata": {
    "scrolled": false
   },
   "outputs": [],
   "source": [
    "puz = Rompecabezas()\n",
    "s = np.matrix([[3,1,2], [4,5,8], [0,6,7]])\n",
    "puz.estado_inicial = s\n",
    "camino = [((1, 2), (0, 2)), ((2, 2), (1, 2)), ((2, 1), (2, 2)), ((1, 1), (2, 1)), ((0, 1), (1, 1)), ((0, 0), (0, 1))]\n",
    "puz.pintar_camino(camino)"
   ]
  },
  {
   "cell_type": "markdown",
   "metadata": {},
   "source": [
    "El problema del rompecabezas es difícil, y usualmente le cuesta un buen tiempo a los métodos de `primero en anchura` y `primero en profundidad` converger a una solución. El algoritmo de `dijkstra`, usando una función de costo en términos del número de movimientos, es exáctamente igual al primero en anchura.\n",
    "\n",
    "Vamos a hacer la comparación de primero en anchura y primero en profundidad usando un test suite creado de la siguiente manera. Los estados iniciales de los primeros entornos se obtienen a partir del estado final, moviendo alguna ficha. Luego estos se modifican moviendo otra ficha (evitando repeticiones) y se repite el proceso. Observe que estos entornos se pueden ordenar en términos de complejidad, entendida esta como la cantidad de movimientos que se requieren para obtener el estado final."
   ]
  },
  {
   "cell_type": "code",
   "execution_count": null,
   "metadata": {},
   "outputs": [],
   "source": [
    "# Create experiment\n",
    "exp = Experiment()\n",
    "# load test_suite\n",
    "exp.load_test_suite(\"test_suite_rompecabezas.json\")\n",
    "# Create list of search methods\n",
    "funs = [anchura,\n",
    "        profundidad,\n",
    "       ]\n",
    "nombres = ['Primero en anchura', \n",
    "           'Primero en profundidad',\n",
    "          ]\n",
    "data = exp.compara_funciones(lista_funs=funs,\n",
    "                             lista_nombres=nombres, \n",
    "                             num_it=5,\n",
    "                             lim_steps=1\n",
    "                            )"
   ]
  },
  {
   "cell_type": "markdown",
   "metadata": {},
   "source": [
    "Observe que hemos limitado la complejidad del problema a solo 1, mediante la opción`lim_steps=1` en el método `compara_funciones()`."
   ]
  },
  {
   "cell_type": "code",
   "execution_count": null,
   "metadata": {
    "scrolled": false
   },
   "outputs": [],
   "source": [
    "# Plot CPU times\n",
    "exp.plots(medida='tiempo_CPU')"
   ]
  },
  {
   "cell_type": "markdown",
   "metadata": {},
   "source": [
    "Se observa que el algoritmo primero en profundidad es el que más toma tiempo para encontrar una solución. Esto probablemente se debe a que hay muchos movimientos de fichas que llevan a estados diferentes, sin ningún acercamiento al estado final.\n",
    "\n",
    "Corramos solo el algoritmo de primero en anchura para ver su desempeño sobre una cantidad de rompecabezas más complejos. Vamos a cambiar la opción `lim_steps` a 5."
   ]
  },
  {
   "cell_type": "code",
   "execution_count": null,
   "metadata": {
    "scrolled": true
   },
   "outputs": [],
   "source": [
    "# Create experiment\n",
    "exp = Experiment()\n",
    "# load test_suite\n",
    "exp.load_test_suite(\"test_suite_rompecabezas.json\")\n",
    "# Create list of search methods\n",
    "funs = [anchura\n",
    "       ]\n",
    "nombres = ['Primero en anchura'\n",
    "          ]\n",
    "data = exp.compara_funciones(lista_funs=funs,\n",
    "                             lista_nombres=nombres, \n",
    "                             num_it=5,\n",
    "                             lim_steps=5\n",
    "                            )"
   ]
  },
  {
   "cell_type": "code",
   "execution_count": null,
   "metadata": {},
   "outputs": [],
   "source": [
    "# Plot CPU times\n",
    "exp.plots(medida='tiempo_CPU')"
   ]
  },
  {
   "cell_type": "markdown",
   "metadata": {},
   "source": [
    "Los tiempos en CPU presentan una hermosa curva exponencial con respecto a la complejidad del rompecabezas. Si usted corrió la celda anterior, pudo notar que el tiempo de procesamiento fue sustancial. Surge la pregunta: ¿podemos resolver el rompecabezas de manera más eficiente?"
   ]
  },
  {
   "cell_type": "markdown",
   "metadata": {
    "scrolled": false
   },
   "source": [
    "## Heurísticas para el 8 puzzle <a class=\"anchor\" id=\"heuristicas\"></a>\n",
    "\n",
    "([Volver al inicio](#inicio))\n",
    "\n",
    "Recordemos que el propósito de una heurística es ayudarnos a dar un estimado del costo desde un estado dado hasta la solución del problema. El problema del rompecabezas nos permite considerar distintas heurísticas. Podemos evaluar una especie de distancia entre un estado dado y el estado objetivo mediante el conteo de piezas que no se encuentran en el lugar objetivo. Por ejemplo, considere el siguiente tablero:"
   ]
  },
  {
   "cell_type": "code",
   "execution_count": null,
   "metadata": {},
   "outputs": [],
   "source": [
    "puz = Rompecabezas()\n",
    "s = np.matrix([[3,1,2], [6,4,5], [0,7,8]])\n",
    "puz.render(s)"
   ]
  },
  {
   "cell_type": "markdown",
   "metadata": {},
   "source": [
    "En este tablero hay dos piezas que no están en la posición objetivo, a saber, el 3 y el 6. Por lo tanto, la función heurística `piezas_mal_puestas` debe devolver el valor 2."
   ]
  },
  {
   "cell_type": "markdown",
   "metadata": {},
   "source": [
    "<a class=\"anchor\" id=\"ej4\"></a>**Ejercicio 4:** \n",
    "\n",
    "([Anterior ejercicio](#ej3)) ([Próximo ejercicio](#ej5))\n",
    "\n",
    "Implemente la función `piezas_mal_puestas`.\n",
    "\n",
    "**Nota: Para facilidad de la implementación, asuma que el espacio vacío es una pieza.**\n",
    "\n",
    "La respuesta de la siguiente celda debe ser:\n",
    "```\n",
    "Número de piezas mal puestas de s1: 3\n",
    "Número de piezas mal puestas de s2: 6\n",
    "Número de piezas mal puestas de s3: 7\n",
    "```"
   ]
  },
  {
   "cell_type": "code",
   "execution_count": null,
   "metadata": {},
   "outputs": [],
   "source": [
    "# Ejercicio 4\n",
    "def piezas_mal_puestas(self, estado:np.matrix) -> int:\n",
    "    '''\n",
    "    Devuelve el número de piezas mal puestas.\n",
    "    Debe ser implementado como el método de una clase.\n",
    "    Input:\n",
    "        - estado, que es una matriz con el estado a evaluar\n",
    "    Output:\n",
    "        - entero con el número de piezas mal puestas\n",
    "    '''\n",
    "    pass \n",
    "\n",
    "    objetivo = self.objetivo\n",
    "\n",
    "    # COMIENCE AQUÍ SU CÓDIGO\n",
    "\n",
    "    # AQUÍ TERMINA SU CÓDIGO\n",
    "\n",
    "# Incluimos el método en la clase\n",
    "setattr(Rompecabezas, 'piezas_mal_puestas', piezas_mal_puestas)\n",
    "# Instanciamos la clase con el problema del rompecabezas\n",
    "puz = Rompecabezas()\n",
    "# Hacemos las comprobaciones\n",
    "s1 = np.matrix([[3,1,2], [6,4,5], [0,7,8]])\n",
    "puz.render(s1)\n",
    "print('Número de piezas mal puestas de s1:', puz.piezas_mal_puestas(s1))\n",
    "s2 = np.matrix([[3,2,1], [5,4,6], [0,7,8]])\n",
    "puz.render(s2)\n",
    "print('Número de piezas mal puestas de s2:', puz.piezas_mal_puestas(s2))\n",
    "s3 = np.matrix([[6, 3, 2], [7, 4, 0], [8, 5, 1]])\n",
    "print('Número de piezas mal puestas de s3:', puz.piezas_mal_puestas(s3))\n",
    "puz.render(s3)"
   ]
  },
  {
   "cell_type": "markdown",
   "metadata": {},
   "source": [
    "---"
   ]
  },
  {
   "cell_type": "markdown",
   "metadata": {},
   "source": [
    "Otra heurística para el problema del rompecabezas es el siguiente. La distancia entre un estado y el objetivo se mide como la suma de las distancias entre cada pieza y su lugar objetivo. Esta última distancia se mide como la distancia del taxista, es decir, la suma de las distancias verticales y horizontales. Por ejemplo, suponga el siguiente estado:"
   ]
  },
  {
   "cell_type": "code",
   "execution_count": null,
   "metadata": {},
   "outputs": [],
   "source": [
    "puz = Rompecabezas()\n",
    "s = np.matrix([[0,3,2], [4,1,5], [6,7,8]])\n",
    "puz.render(s)"
   ]
  },
  {
   "cell_type": "markdown",
   "metadata": {},
   "source": [
    "Observe que el 1 está a una casilla de su lugar (una abajo), el cuatro está a una casilla de su lugar (una a la izquierda) y el 3 está a dos casillas de su lugar (una arriba y una a la derecha. El valor de la heurística `manhattan` debe ser 1 + 1 + 2 = 4. "
   ]
  },
  {
   "cell_type": "markdown",
   "metadata": {},
   "source": [
    "<a class=\"anchor\" id=\"ej5\"></a>**Ejercicio 5:** \n",
    "\n",
    "([Anterior ejercicio](#ej4)) ([Próximo ejercicio](#ej6))\n",
    "\n",
    "Implemente la función `manhattan`.\n",
    "\n",
    "**Nota: Para facilidad de la implementación, asuma que el espacio vacío es una pieza.**\n",
    "\n",
    "La respuesta debe ser:\n",
    "\n",
    "```\n",
    "Distancia Manhattan de s1: 4\n",
    "Distancia Manhattan de s2: 10\n",
    "Distancia Manhattan de s3: 16\n",
    "```"
   ]
  },
  {
   "cell_type": "code",
   "execution_count": null,
   "metadata": {},
   "outputs": [],
   "source": [
    "# Ejercicio 5\n",
    "def manhattan(self, estado:np.matrix) -> int:\n",
    "    '''\n",
    "    Devuelve la suma de la distancia Manhattan de las piezas \n",
    "    respecto a su lugar objetivo en el rompecabezas.\n",
    "    Debe ser implementado como el método de una clase.\n",
    "    Input:\n",
    "        - estado, que es una matriz con el estado a evaluar\n",
    "    Output:\n",
    "        - entero con la distancia Manhattan\n",
    "    '''\n",
    "    pass\n",
    "\n",
    "    objetivo = self.objetivo\n",
    "\n",
    "    # COMIENCE AQUÍ SU CÓDIGO\n",
    "\n",
    "    # AQUÍ TERMINA SU CÓDIGO\n",
    "\n",
    "# Incluimos el método en la clase\n",
    "setattr(Rompecabezas, 'manhattan', manhattan)\n",
    "# Instanciamos la clase con el problema del rompecabezas\n",
    "puz = Rompecabezas()\n",
    "# Hacemos las comprobaciones\n",
    "s1 = np.matrix([[3,1,2], [6,4,5], [0,7,8]])\n",
    "puz.render(s1)\n",
    "print('Distancia Manhattan de s1:', puz.manhattan(s1))\n",
    "s2 = np.matrix([[3,2,1], [5,4,6], [0,7,8]])\n",
    "puz.render(s2)\n",
    "print('Distancia Manhattan de s2:', puz.manhattan(s2))\n",
    "s3 = np.matrix([[6, 3, 2], [7, 4, 0], [8, 5, 1]])\n",
    "print('Distancia Manhattan de s3:', puz.manhattan(s3))\n",
    "puz.render(s3)"
   ]
  },
  {
   "cell_type": "markdown",
   "metadata": {},
   "source": [
    "---"
   ]
  },
  {
   "cell_type": "markdown",
   "metadata": {},
   "source": [
    "## Comparando heurísticas <a class=\"anchor\" id=\"compara\"></a>\n",
    "\n",
    "([Volver al inicio](#inicio))\n",
    "\n",
    "Al ordenar los nodos explorados mediante una función heurística, lo que se busca es explorar primero aquel nodo que se acerque más al objetivo. Hemos definido dos maneras de estimar esta idea y es hora de compararlas mediante el tiempo de CPU."
   ]
  },
  {
   "cell_type": "markdown",
   "metadata": {},
   "source": [
    "<a class=\"anchor\" id=\"ej6\"></a>**Ejercicio 6:** \n",
    "\n",
    "([Anterior ejercicio](#ej5)) ([Próximo ejercicio](#ej7))\n",
    "\n",
    "Compare el tiempo de CPU de las dos heurísticas en el algoritmo de búsqueda `avara` e incluya el algoritmo de primero en anchura. ¿Cuál tiene mejor tiempo de búsqueda? \n",
    "\n",
    "Use los siguientes parámetros:\n",
    "\n",
    "* `num_it=5`\n",
    "* `lim_steps=4`\n",
    "\n",
    "**Nota: ¡No olvide comentar los resultados!**"
   ]
  },
  {
   "cell_type": "code",
   "execution_count": null,
   "metadata": {},
   "outputs": [],
   "source": [
    "# Ejercicio 6\n",
    "# Create experiment\n",
    "exp = Experiment()\n",
    "# load test_suite\n",
    "exp.load_test_suite(\"test_suite_rompecabezas.json\")\n",
    "# Create functions and their names\n",
    "nombres = ['Primero en anchura',\n",
    "           'Piezas mal puestas', \n",
    "           'Manhattan']\n",
    "# COMIENCE AQUÍ SU CÓDIGO\n",
    "\n",
    "# AQUÍ TERMINA SU CÓDIGO"
   ]
  },
  {
   "cell_type": "code",
   "execution_count": null,
   "metadata": {},
   "outputs": [],
   "source": [
    "nombres = ['Primero en anchura', 'Piezas mal puestas', 'Manhattan']\n",
    "for nombre in nombres:\n",
    "    values = exp.data[exp.data['Función'] == nombre]['Costo_camino'].tolist()\n",
    "    assert(len([x for x in values if x is None]) == 0), f'Error de resultados {nombre}. Revisar implementación.'\n",
    "print('¡Todos los tests superados!')"
   ]
  },
  {
   "cell_type": "markdown",
   "metadata": {},
   "source": [
    "---"
   ]
  },
  {
   "cell_type": "markdown",
   "metadata": {},
   "source": [
    "## Algoritmo A$^*$ <a class=\"anchor\" id=\"a_star\"></a>\n",
    "\n",
    "([Volver al inicio](#inicio))\n",
    "\n",
    "Ahroa veremos el algoritmo A$^*$, el cual es una forma de Best First Search. En este caso, la evaluación $f$ de los nodos se hace mediante la suma entre su costo_camino $g$ y una heurística $h$ que estima el costo mínimo desde el nodo hasta la solución.\n",
    "\n",
    "$$f(n) = g(n) + h(n)$$\n",
    "\n",
    "El siguiente es el pseudocódigo del algoritmo A$^*$:\n",
    "\n",
    "<div style=\"background-color:rgba(0, 0, 0, 0.0470588); padding:10px 0;font-family:monospace;\">\n",
    "<font style=\"font-weight: bold;\" color = \"red\">function</font> A_star(<font style=\"font-style: italic;\">problema</font>, <font style=\"font-style: italic;\">heuristica</font>) <font style=\"font-weight: bold;\" color = \"red\">returns</font> <font style=\"font-style: italic;\">nodo</font> o falla <br>\n",
    "&nbsp;&nbsp; <font style=\"font-style: italic;\">s</font> &#8592; <font style=\"font-style: italic;\">problema</font>.estado_inicial <br>\n",
    "&nbsp;&nbsp; <font style=\"font-style: italic;\">v</font> &#8592; <font style=\"font-style: italic;\">heuristica</font>(<font style=\"font-style: italic;\">s</font>) <br>\n",
    "&nbsp;&nbsp; <font style=\"font-style: italic;\">cod</font> &#8592; <font style=\"font-style: italic;\">problema</font>.codigo(<font style=\"font-style: italic;\">s</font>) <br>\n",
    "&nbsp;&nbsp; <font style=\"font-style: italic;\">nodo</font> &#8592; NODO(<font style=\"font-style: italic;\">s</font>) <br>\n",
    "&nbsp;&nbsp; <font style=\"font-style: italic;\">frontera</font> &#8592; lista prioritaria con 1 item con key <font style=\"font-style: italic;\">nodo</font> y valor v<br>\n",
    "&nbsp;&nbsp; <font style=\"font-style: italic;\">explorados</font> &#8592; diccionario con 1 item con key <font style=\"font-style: italic;\">cod</font> y valor v <br>\n",
    "&nbsp;&nbsp; <font style=\"font-weight: bold;\" color = \"red\">While not</font> VACIA(<font style=\"font-style: italic;\">frontera</font>) <font style=\"font-weight: bold;\" color = \"red\">do</font> <br> \n",
    "&nbsp;&nbsp;&nbsp;&nbsp; <font style=\"font-style: italic;\">nodo</font> &#8592; POP(<font style=\"font-style: italic;\">frontera</font>) <br>\n",
    "&nbsp;&nbsp;&nbsp;&nbsp; <font style=\"font-weight: bold;\" color = \"red\">if</font> <font style=\"font-style: italic;\">problema</font>.test_objetivo(<font style=\"font-style: italic;\">nodo</font>.estado) <font style=\"font-weight: bold;\" color = \"red\">then return</font> <font style=\"font-style: italic;\">nodo</font> <br>\n",
    "&nbsp;&nbsp;&nbsp;&nbsp; <font style=\"font-weight: bold;\" color = \"red\">for each</font> <font style=\"font-style: italic;\">accion</font> <font style=\"font-weight: bold;\" color = \"red\">in</font> <font style=\"font-style: italic;\">problema</font>.acciones_aplicables(<font style=\"font-style: italic;\">nodo</font>.estado) <font style=\"font-weight: bold;\" color = \"red\">do</font> <br>\n",
    "&nbsp;&nbsp;&nbsp;&nbsp;&nbsp;&nbsp; <font style=\"font-style: italic;\">hijo</font> &#8592; nodo_hijo(<font style=\"font-style: italic;\">problema</font>, <font style=\"font-style: italic;\">nodo</font>, <font style=\"font-style: italic;\">accion</font>) <br>\n",
    "&nbsp;&nbsp;&nbsp;&nbsp;&nbsp;&nbsp; <font style=\"font-style: italic;\">s</font> &#8592; <font style=\"font-style: italic;\">hijo</font>.estado<br>\n",
    "&nbsp;&nbsp;&nbsp;&nbsp;&nbsp;&nbsp; <font style=\"font-style: italic;\">v</font> &#8592; <font style=\"font-style: italic;\">heuristica</font>(<font style=\"font-style: italic;\">s</font>) <br>\n",
    "&nbsp;&nbsp;&nbsp;&nbsp;&nbsp;&nbsp; <font style=\"font-style: italic;\">cod</font> &#8592; <font style=\"font-style: italic;\">hijo</font>.codigo <br>\n",
    "&nbsp;&nbsp;&nbsp;&nbsp;&nbsp;&nbsp; <font style=\"font-style: italic;\">c</font> &#8592; <font style=\"font-style: italic;\">hijo</font>.costo_camino <br>\n",
    "&nbsp;&nbsp;&nbsp;&nbsp;&nbsp;&nbsp; <font style=\"font-style: italic;\">h</font> &#8592; <font style=\"font-style: italic;\">v</font> + <font style=\"font-style: italic;\">c</font><br>\n",
    "&nbsp;&nbsp;&nbsp;&nbsp;&nbsp;&nbsp; <font style=\"font-weight: bold;\" color = \"red\">if</font> <font style=\"font-style: italic;\">cod</font> <font style=\"font-weight: bold;\" color = \"red\">not in</font> <font style=\"font-style: italic;\">explorados</font>.keys <font style=\"font-weight: bold;\" color = \"red\">or</font> <font style=\"font-style: italic;\">h</font> &#60; <font style=\"font-style: italic;\">explorados</font>[<font style=\"font-style: italic;\">cod</font>] <font style=\"font-weight: bold;\" color = \"red\">then</font> <br>\n",
    "&nbsp;&nbsp;&nbsp;&nbsp;&nbsp;&nbsp;&nbsp;&nbsp; ADD((<font style=\"font-style: italic;\">hijo</font>, <font style=\"font-style: italic;\">h</font>), <font style=\"font-style: italic;\">frontera</font>) <br>\n",
    "&nbsp;&nbsp;&nbsp;&nbsp;&nbsp;&nbsp;&nbsp;&nbsp; <font style=\"font-style: italic;\">explorados</font>[<font style=\"font-style: italic;\">cod</font>] &#8592; <font style=\"font-style: italic;\">h</font> <br>\n",
    "    &nbsp;&nbsp; <font style=\"font-weight: bold;\" color = \"red\">return</font> falla <br>\n",
    "</div>\n",
    "\n",
    "**$A^*$ con pesos**\n",
    "\n",
    "Una versión más poderosa del algoritmo $A^*$ es el llamado $A^*$ con pesos, en el cual la función de evaluación incluye una modificación del término heurístico por un factor $W$, de la siguiente manera:\n",
    "\n",
    "$$f(n) = g(n) + W\\times h(n)$$\n",
    "\n",
    "donde $W > 1$. Esto significa que la función de evaluación da mayor peso al estimado de la función heurística, sin dejar de considerar el costo camino."
   ]
  },
  {
   "cell_type": "markdown",
   "metadata": {},
   "source": [
    "<a class=\"anchor\" id=\"ej7\"></a>**Ejercicio 7:** \n",
    "\n",
    "([Anterior ejercicio](#ej6))  ([Próximo ejercicio](#ej8))\n",
    "\n",
    "Para resolver este ejercicio debe realizar lo siguiente:\n",
    "\n",
    "1. Implementar el algoritmo $A^*$ con pesos. Un parámetro de la función debe ser el peso `W`.\n",
    "2. Realizar un experimento de tiempos de CPU que compare el desempeño de $A^*$ con heurística manhatta, para dos valores de `W`: 1 y 3. Para este experimento use los siguientes parámetros: `num_it=5`, `lim_steps=7`.\n",
    "3. Crear una gráfica de los resultados y comentar. ¿Cuál es el mejor valor para `W` en este problema?"
   ]
  },
  {
   "cell_type": "code",
   "execution_count": null,
   "metadata": {},
   "outputs": [],
   "source": [
    "# Ejercicio 7a\n",
    "def A_star(problema, heuristica, W):\n",
    "    pass\n",
    "    # AQUÍ SU CÓDIGO\n",
    "    \n",
    "    # HASTA AQUÍ SU CÓDIGO"
   ]
  },
  {
   "cell_type": "code",
   "execution_count": null,
   "metadata": {},
   "outputs": [],
   "source": [
    "# Ejercicio 7b\n",
    "# Create experiment\n",
    "exp = Experiment()\n",
    "# load test_suite\n",
    "exp.load_test_suite(\"test_suite_rompecabezas.json\")\n",
    "# Create functions and their names\n",
    "Ws = ...\n",
    "nombres = [f'W={w}' for w in Ws]\n",
    "funs = [lambda puz: A_star(puz, manhattan, W=w) for w in Ws]\n",
    "..."
   ]
  },
  {
   "cell_type": "markdown",
   "metadata": {},
   "source": [
    "## En este notebook usted aprendió\n",
    "\n",
    "([Volver al inicio](#inicio))\n",
    "\n",
    "* Cómo realizar una búsqueda mediante el algoritmo de Dijkstra, la búsqueda avara y el algoritmo $A^*$.\n",
    "* Implementar y comparar distintas heurísticas para resolver el problema del rompecabezas."
   ]
  }
 ],
 "metadata": {
  "colab": {
   "name": "arboles_busqueda.ipynb",
   "provenance": []
  },
  "kernelspec": {
   "display_name": "Python 3",
   "language": "python",
   "name": "python3"
  },
  "language_info": {
   "codemirror_mode": {
    "name": "ipython",
    "version": 3
   },
   "file_extension": ".py",
   "mimetype": "text/x-python",
   "name": "python",
   "nbconvert_exporter": "python",
   "pygments_lexer": "ipython3",
   "version": "3.9.16"
  }
 },
 "nbformat": 4,
 "nbformat_minor": 1
}
