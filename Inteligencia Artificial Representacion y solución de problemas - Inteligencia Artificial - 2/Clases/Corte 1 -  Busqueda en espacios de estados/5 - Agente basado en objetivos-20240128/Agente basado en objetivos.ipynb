{
 "cells": [
  {
   "cell_type": "markdown",
   "id": "c88136d6",
   "metadata": {},
   "source": [
    "<table>\n",
    "    <tr>\n",
    "        <td><img src=\"./imagenes/Macc.png\" width=\"400\"/></td>\n",
    "        <td>&nbsp;</td>\n",
    "        <td>\n",
    "            <h1 style=\"color:blue;text-align:left\">Inteligencia Artificial</h1></td>\n",
    "        <td>\n",
    "            <table><tr>\n",
    "            <tp><p style=\"font-size:150%;text-align:center\">Notebook</p></tp>\n",
    "            <tp><p style=\"font-size:150%;text-align:center\">Un agente basado en objetivos</p></tp>\n",
    "            </tr></table>\n",
    "        </td>\n",
    "    </tr>\n",
    "</table>\n",
    "\n",
    "---\n"
   ]
  },
  {
   "cell_type": "markdown",
   "id": "2f979537",
   "metadata": {},
   "source": [
    "## De nuevo el laberinto\n",
    "\n",
    "Volvemos a nuestro problema crear un agente que pueda salir del laberinto.\n",
    "\n",
    "<img src=\"./imagenes/laberinto.png\" width=\"350\"/>\n",
    "\n",
    "La solución de este problema es mediante un agente basado en objetivos, que pasamos a describir."
   ]
  },
  {
   "cell_type": "markdown",
   "id": "fc8c9aa4",
   "metadata": {},
   "source": [
    "## Un agente basado en objetivos \n",
    "\n",
    "Una manera de mejorar el desempeño del agente para salir del laberinto es dotarlo de la posibilidad de crear un mapa a medida que lo va explorando. Usando sus percepciones, el agente incluirá la información de si en cierto lugar hay un muro o un pasadizo. El agente actualizará su mapa cada vez que ejecute una acción. Recordemos que la función principal de este es tomar una decisión para actuar en el entorno, mediante el método `make_decision()`.\n",
    "\n",
    "**make_decision():**\n",
    "\n",
    "<img src=\"./imagenes/make_decision.png\" width=\"550\"/>"
   ]
  },
  {
   "cell_type": "markdown",
   "id": "137dd914",
   "metadata": {},
   "source": [
    "El agente guarda sus percepciones de dónde hay un muro y dónde un pasadizo en un mapa parcial del laberinto. Mediante este mapa, el agente sabrá qué partes ha visitado y cuales no. La idea es visitar sistemáticamente aquellos pasadizos que no haya visitado. Este procedimiento le asegura encontrar la salida, si tiene suficiente tiempo, y no se quedará en ciclos infinitos. Esta idea se implementa en el siguiente programa de agente.\n",
    "\n",
    "**program():**\n",
    "<img src=\"./imagenes/program_.png\" width=\"450\"/>\n",
    "\n",
    "**Nota:** Como el agente no sabe su localización en el laberinto, su posición y dirección iniciales en su mapa mental son arbitrarias."
   ]
  },
  {
   "cell_type": "markdown",
   "id": "3c790ad6",
   "metadata": {},
   "source": [
    "**Planeación de rutas**\n",
    "\n",
    "Planear una ruta desde la casilla actual hasta una casilla objetivo a la cual se desea ir es un problema muy similar a los que ya hemos encontrado en sesiones pasadas. \n",
    "\n",
    "Al incluir la planeación de rutas en la arquitectura del agente estamos dos pasos más arriba en la jerarquía propuesta por Russell & Norvig. En efecto, estamos considerando una arquitectura de *agente basado en objetivos* (*goal-based agent*). La siguiente imagen presenta un esquema de este tipo de arquitectura:\n",
    "\n",
    "<img src=\"./imagenes/goal-based.png\" width=\"400\">\n",
    "\n",
    "La razón por la cual estamos dos pasos más arriba es porque también estamos incluyendo un modelo del mundo para planear nuestras acciones. El agente que hemos implementado crea un mapa, inicialmente vacío, y lo va completando a medida que va percibiendo el entorno. Esta característica ubica el agente como un agente basado en modelos (un paso arriba). Pero él también va considerando objetivos (llegar a un pasadizo no visitado) y para lograrlo realiza una planeación sobre el mapa. Este es un paso adicional en la jerarquía, ubicándose en la categoría de agente basado en objetivos. \n"
   ]
  },
  {
   "cell_type": "markdown",
   "id": "80ff8bb5",
   "metadata": {},
   "source": [
    "**Rejillas:**\n",
    "\n",
    "Debemos definir un ambiente de tarea `Rejilla` y luego usar un algoritmo de búsqueda sobre este. El ambiente se inicializa con una casilla `actual`, una `objetivo` y un atributo `mapa`, el cual permitirá determinar cuáles casillas son un pasadizo. Los aspectos más importantes de la definición formal del ambiente de tarea son los siguientes:\n",
    "\n",
    "* **acciones_aplicables**(`casilla`): Las casillas adyacentes a `casilla` que estén incluidas en el `mapa` como pasadizos.\n",
    "* **heurística**(`casilla`): distancia euclidiana entre `casilla` y la casilla objetivo."
   ]
  },
  {
   "cell_type": "markdown",
   "id": "2fce1134",
   "metadata": {},
   "source": [
    "### Taller\n",
    "\n",
    "1. Cree un entorno Rejilla que el agente pueda utilizar para trazar una ruta desde su posición actual hasta una casilla por visitar.\n",
    "\n",
    "2. Complete la implementación del agente basado en objetivos.\n",
    "\n",
    "3. Determine el desempeño del agente comparado con el agente basado en reglas."
   ]
  }
 ],
 "metadata": {
  "kernelspec": {
   "display_name": "Python 3",
   "language": "python",
   "name": "python3"
  },
  "language_info": {
   "codemirror_mode": {
    "name": "ipython",
    "version": 3
   },
   "file_extension": ".py",
   "mimetype": "text/x-python",
   "name": "python",
   "nbconvert_exporter": "python",
   "pygments_lexer": "ipython3",
   "version": "3.9.16"
  }
 },
 "nbformat": 4,
 "nbformat_minor": 5
}
