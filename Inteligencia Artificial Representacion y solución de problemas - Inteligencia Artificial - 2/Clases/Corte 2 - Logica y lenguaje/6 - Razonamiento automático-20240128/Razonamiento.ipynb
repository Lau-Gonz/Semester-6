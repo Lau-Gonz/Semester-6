{
 "cells": [
  {
   "cell_type": "markdown",
   "metadata": {},
   "source": [
    "<table>\n",
    "    <tr>\n",
    "        <td><img src=\"./imagenes/Macc.png\" width=\"400\"/></td>\n",
    "        <td>&nbsp;</td>\n",
    "        <td>\n",
    "            <h1 style=\"color:blue;text-align:left\">Inteligencia Artificial</h1></td>\n",
    "        <td>\n",
    "            <table><tr>\n",
    "            <tp><p style=\"font-size:150%;text-align:center\">Notebook</p></tp>\n",
    "            <tp><p style=\"font-size:150%;text-align:center\">Razonamiento automático</p></tp>\n",
    "            </tr></table>\n",
    "        </td>\n",
    "    </tr>\n",
    "</table>\n",
    "\n",
    "---\n"
   ]
  },
  {
   "cell_type": "markdown",
   "metadata": {},
   "source": [
    "## Objetivo <a class=\"anchor\" id=\"inicio\"></a>\n",
    "\n",
    "En este notebook veremos una manera de implementar una base lógica de conocimiento para hacer consultas. "
   ]
  },
  {
   "cell_type": "markdown",
   "metadata": {},
   "source": [
    "[Ir a ejercicio 1](#ej1)"
   ]
  },
  {
   "cell_type": "markdown",
   "metadata": {},
   "source": [
    "## Dependencias\n",
    "\n",
    "Al iniciar el notebook o reiniciar el kerner, se pueden cargar todas las dependencias de este notebook al correr las siguientes celdas. Este también es el lugar para instalar las dependencias que podrían hacer falta."
   ]
  },
  {
   "cell_type": "code",
   "execution_count": null,
   "metadata": {},
   "outputs": [],
   "source": [
    "from logica import Regla, LPQuery"
   ]
  },
  {
   "cell_type": "markdown",
   "metadata": {},
   "source": [
    "## Secciones\n",
    "\n",
    "Desarrollaremos la explicación en las siguientes secciones:\n",
    "\n",
    "* [Base de conocimiento.](#base)\n",
    "* [Forward chaining.](#forward)\n",
    "* [Backward chaining.](#backward)\n",
    "* [Consultas.](#tell)"
   ]
  },
  {
   "cell_type": "markdown",
   "metadata": {},
   "source": [
    "## Base de conocimiento <a class=\"anchor\" id=\"base\"></a>\n",
    "\n",
    "([Volver al inicio](#inicio))\n",
    "\n",
    "Una base de conocimiento es una estructura sobre la cual se pueden hacer consultas de objetivos. Más adelante usaremos las estrategias de forward y backward chaining para hacer las consultas. Lo que necesitamos ahora es una implementación de la base de conocimiento en python. \n",
    "\n",
    "Una base de conocimiento tiene dos partes: \n",
    "\n",
    "* Los hechos, que son literales que ya sabemos como verdaderos; \n",
    "* Las reglas, que representan el conocimiento que se aplicará sobre los datos para obtener nuevos hechos."
   ]
  },
  {
   "cell_type": "markdown",
   "metadata": {},
   "source": [
    "**Reglas**\n",
    "\n",
    "Para simplificar el uso de reglas en una base de conocimiento, la librería `logica` implementa una clase `Regla`, la cual contiene objetos con los siguientes atributos:\n",
    "\n",
    "   * nombre, que es una cadena con la regla.\n",
    "   * antencedente, que es una lista con los literales del antecedente de la regla.\n",
    "   * consecuente, que es un literal con el consecuente de la regla."
   ]
  },
  {
   "cell_type": "code",
   "execution_count": null,
   "metadata": {},
   "outputs": [],
   "source": [
    "regla = Regla('p&r&-s>q')\n",
    "print(f'Esta la regla:\\n\\n\\t{regla.nombre}\\n')\n",
    "print(f'Este es su antecedente:\\n\\n\\t{regla.antecedente}\\n')\n",
    "print(f'Y este su consecuente:\\n\\n\\t{regla.consecuente}\\n')"
   ]
  },
  {
   "cell_type": "markdown",
   "metadata": {},
   "source": [
    "**Bases:**\n",
    "\n",
    "Implementaremos una base de conocimiento mediante la clase `LPQuery`, que se encuentra en la librería `logica`:\n",
    "\n",
    "Inicializamos una base de conocimiento con el siguiente ejemplo:"
   ]
  },
  {
   "cell_type": "code",
   "execution_count": null,
   "metadata": {},
   "outputs": [],
   "source": [
    "formulas = ['q>r', 'r&p>t', '-s','p']\n",
    "BaseEjemplo = LPQuery(formulas)\n",
    "print(BaseEjemplo)"
   ]
  },
  {
   "cell_type": "markdown",
   "metadata": {},
   "source": [
    "La clase `LPQuery` tiene los siguientes atributos:\n",
    "\n",
    "* hechos: lista de literales que ya sabemos como verdaderos.\n",
    "* reglas: lista de reglas que representan el conocimiento.\n",
    "* atomos: lista de los átomos que aparecen en los datos y las reglas."
   ]
  },
  {
   "cell_type": "code",
   "execution_count": null,
   "metadata": {},
   "outputs": [],
   "source": [
    "print('Estos son los átomos que componen todas las fórmulas de la base:')\n",
    "BaseEjemplo.atomos"
   ]
  },
  {
   "cell_type": "markdown",
   "metadata": {},
   "source": [
    "También tiene los siguientes métodos:\n",
    "\n",
    "* reglas_aplicables(`literal`): que devuelve una lista de reglas en la base cuyo consecuente es el `literal`.\n",
    "* test_objetivo(`literal`): que devuelve verdadero si el `literal` está en los datos. \n",
    "* tell(`formula`): que incluye en la base de conocimiento la `formula`en el lugar adecuado, dependiendo de si es un dato o una regla."
   ]
  },
  {
   "cell_type": "code",
   "execution_count": null,
   "metadata": {},
   "outputs": [],
   "source": [
    "objetivo = 'r'\n",
    "print(f'Estas son las reglas cuyo consecuente es {objetivo}:')\n",
    "for regla in BaseEjemplo.reglas_aplicables(objetivo):\n",
    "    print('\\t', regla)"
   ]
  },
  {
   "cell_type": "code",
   "execution_count": null,
   "metadata": {},
   "outputs": [],
   "source": [
    "print(f'Probamos si {objetivo} es un hecho en la base:')\n",
    "print('\\t', BaseEjemplo.test_objetivo(objetivo))"
   ]
  },
  {
   "cell_type": "code",
   "execution_count": null,
   "metadata": {},
   "outputs": [],
   "source": [
    "regla = 'p&-s>r'\n",
    "print(f'\\nIncluimos la regla {regla} en la base.\\n')\n",
    "BaseEjemplo.tell(regla)\n",
    "print(BaseEjemplo)"
   ]
  },
  {
   "cell_type": "markdown",
   "metadata": {},
   "source": [
    "## Forward chaining <a class=\"anchor\" id=\"forward\"></a>\n",
    "\n",
    "([Volver al inicio](#inicio))"
   ]
  },
  {
   "cell_type": "markdown",
   "metadata": {},
   "source": [
    "El siguiente es el pseudo código del algoritmo forward chaining:\n",
    "\n",
    "<img src=\"./imagenes/forwardA.png\" width=\"550\"/>"
   ]
  },
  {
   "cell_type": "markdown",
   "metadata": {},
   "source": [
    "<a class=\"anchor\" id=\"ej1\"></a>**Ejercicio 1:** \n",
    "\n",
    "([Próximo ejercicio](#ej2))\n",
    "\n",
    "Implemente un código python con el algoritmo forward chaining. Verifique cuáles de los literales 'p', 'q', 'r', y '-s' se pueden deducir a partir de la base de conocimiento creada anteriormente.\n",
    "\n",
    "**Nota:** Observe que al inicializar `lista`como la lista de literales en los hechos, es importante que sea una copia. Si se usa la instrucción `lista=self.hechos`, entonces al modificar `lista` se modifica también `base.hechos`. Para que no suceda esto, se puede utilizar `lista=deepcopy(self.hechos)` (observe que hay que importar `deepcopy` de la libería `copy`).\n",
    "\n",
    "La respuesta debe ser:\n",
    "\n",
    "```\n",
    "El literal p se deduce de la base?: True\n",
    "El literal -s se deduce de la base?: True\n",
    "El literal r se deduce de la base?: True\n",
    "El literal q se deduce de la base?: False\n",
    "```"
   ]
  },
  {
   "cell_type": "code",
   "execution_count": null,
   "metadata": {},
   "outputs": [],
   "source": [
    "from copy import deepcopy\n",
    "\n",
    "def forward(self, objetivo:str) -> bool:\n",
    "    '''\n",
    "    Implementa el algoritmo de forward chaining.\n",
    "    Este es un método de la clase LPQuery.\n",
    "    Input:\n",
    "        - objetivo, que es una cadena con un literal.\n",
    "    Output:\n",
    "        - True/False dependiendo si se logra obtener el objetivo.\n",
    "    '''\n",
    "    pass\n",
    "    # AQUÍ SU CÓDIGO\n",
    "    \n",
    "    # HASTA AQUÍ SU CÓDIGO\n",
    "\n",
    "setattr(LPQuery, 'forward', forward) # añadimos el método a la clase"
   ]
  },
  {
   "cell_type": "markdown",
   "metadata": {},
   "source": [
    "---"
   ]
  },
  {
   "cell_type": "markdown",
   "metadata": {},
   "source": [
    "## Backward chaining <a class=\"anchor\" id=\"backward\"></a>\n",
    "\n",
    "([Volver al inicio](#inicio))\n",
    "\n",
    "El algoritmo de backward chaining comienza haciendo una búsqueda or para el objetivo, como se plantea en el siguiente código:"
   ]
  },
  {
   "cell_type": "code",
   "execution_count": null,
   "metadata": {},
   "outputs": [],
   "source": [
    "def backward(self, objetivo:str) -> bool:\n",
    "    '''\n",
    "    Implementa el algoritmo de backward search.\n",
    "    Este es un método de la clase LPQuery.\n",
    "    Input:\n",
    "        - objetivo, que es una cadena con un literal.\n",
    "    Output:\n",
    "        - True/False dependiendo si se logra obtener el objetivo.\n",
    "    '''\n",
    "    return self.or_search(objetivo, [])\n",
    "\n",
    "setattr(LPQuery, 'backward', backward) # añadimos el método a la clase"
   ]
  },
  {
   "cell_type": "markdown",
   "metadata": {},
   "source": [
    "El siguiente es el pseudocódigo de los algoritmos `or_search` y `and_search`:\n",
    "\n",
    "<img src=\"./imagenes/or_search2.png\" width=\"520\"/>\n",
    "\n",
    "<img src=\"./imagenes/and_search.png\" width=\"520\"/>"
   ]
  },
  {
   "cell_type": "markdown",
   "metadata": {},
   "source": [
    "<a class=\"anchor\" id=\"ej2\"></a>**Ejercicio 2:** \n",
    "\n",
    "([Anterior ejercicio](#ej1)) ([Próximo ejercicio](#ej3))\n",
    "\n",
    "Implemente un código python para los algoritmos `or_search()` y `and_search()`. Verifique cuáles de los literales '-p' y 't' se puede deducir a partir de la base de conocimiento creada anteriormente.\n",
    "\n",
    "La respuesta debe ser:\n",
    "\n",
    "```\n",
    "El literal -p se deduce de la base?: False\n",
    "El literal t se deduce de la base?: True\n",
    "```"
   ]
  },
  {
   "cell_type": "code",
   "execution_count": null,
   "metadata": {},
   "outputs": [],
   "source": [
    "def or_search(self, consecuente:str, camino:list) -> bool:\n",
    "    '''\n",
    "    Busca deducir el consecuente en alguna de las posibles reglas aplicables.\n",
    "    Input:\n",
    "        - consecuente, que es un literal.\n",
    "        - camino, que es una lista de literales ya visitados.\n",
    "    Output:\n",
    "        - True/False dependiendo si se encuentra el objetivo.\n",
    "    '''\n",
    "    pass\n",
    "    # AQUÍ SU CÓDIGO\n",
    "    \n",
    "    # HASTA AQUÍ SU CÓDIGO\n",
    "\n",
    "setattr(LPQuery, 'or_search', or_search) # añadimos el método a la clase\n",
    "\n",
    "def and_search(self, literales:list, camino:list) -> bool:\n",
    "    '''\n",
    "    Busca si se deducen todos los literales.\n",
    "    Input:\n",
    "        - literales, que es una lista de literales.\n",
    "        - camino, que es una lista de literales ya visitados.\n",
    "    Output:\n",
    "        - True/False dependiendo si se encuentra el objetivo.\n",
    "    '''\n",
    "    pass\n",
    "    # AQUÍ SU CÓDIGO\n",
    "    \n",
    "    # HASTA AQUÍ SU CÓDIGO\n",
    "\n",
    "setattr(LPQuery, 'and_search', and_search) # añadimos el método a la clase"
   ]
  },
  {
   "cell_type": "markdown",
   "metadata": {},
   "source": [
    "---"
   ]
  },
  {
   "cell_type": "markdown",
   "metadata": {},
   "source": [
    "## Consultas <a class=\"anchor\" id=\"tell\"></a>\n",
    "\n",
    "([Volver al inicio](#inicio))\n",
    "\n",
    "Vamos a ver ahora cómo usar una base de conocimiento. Para ello, usaremos un ejemplo. Considere el *mundo de los bloques*, el cual consiste en un conjunto de bloques de forma cúbica, los cuales se encuentran encima de una mesa arbitrariamente grande. Los bloques se pueden apilar, poniendo un bloque directamente encima de otro.\n",
    "\n",
    "<img src=\"./imagenes/bloques2.png\" width=\"auto\"/>\n",
    "\n",
    "Podemos crear una base de conocimiento que describa el mundo en la figura anterior. Por ejemplo, sabemos que:\n",
    "\n",
    "* $A$ está debajo de $C$.\n",
    "* $B$ está a la izquierda de $A$.\n",
    "* $C$ es morado.\n",
    "\n",
    "Podemos usar la siguiente representación de estos hechos:\n",
    "\n",
    "* `debajo(a,c)`\n",
    "* `izquierda(b,a)`\n",
    "* `morado(c)`\n",
    "\n",
    "También sabemos, por sentido común, que:\n",
    "\n",
    "* Si $B$ está a la izquierda de $A$, entonces $A$ está a la derecha de $B$.\n",
    "* Si $C$ es morado, entonces no es verde.\n",
    "\n",
    "Podemos usar la siguiente representación de estas reglas:\n",
    "\n",
    "* `izquierda(b,a)>derecha(a,b)`\n",
    "* `morado(c)>-verde(c)`"
   ]
  },
  {
   "cell_type": "markdown",
   "metadata": {},
   "source": [
    "**Método para consultas:**\n",
    "\n",
    "Una base de conocimiento sirve para hacer consultas. Para hacer una consulta, debemos tener un objetivo, que es un hecho que queremos conocer si se deduce o no de la base.\n",
    "\n",
    "Usaremos la siguiente función ASK:"
   ]
  },
  {
   "cell_type": "code",
   "execution_count": null,
   "metadata": {},
   "outputs": [],
   "source": [
    "def ask(self, objetivo:str, metodo:str='forward') -> str:\n",
    "    '''\n",
    "    Intenta deducir un objetivo a partir de la base usando el método proporcionado.\n",
    "    Input:\n",
    "        - objetivo, que es una cadena con un literal.\n",
    "        - metodo, que reconoce las siguientes opciones:\n",
    "            * 'forward', para el método forward chaining.\n",
    "            * 'backward', para el método backward chaining.\n",
    "    Output:\n",
    "        - Cadena con el resultado dependiendo si se logra obtener el objetivo.\n",
    "    '''\n",
    "    if metodo == 'forward':\n",
    "        resultado = self.forward(objetivo, verbose=verbose)\n",
    "    elif metodo == 'backward':\n",
    "        resultado = self.backward(objetivo, verbose=verbose)\n",
    "    else:\n",
    "        raise Exception(f'El método {metodo} no se reconoce')\n",
    "    if not resultado:\n",
    "        return '¡Objetivo no se deduce de la base!'\n",
    "    else:\n",
    "        return 'exito'\n",
    "\n",
    "setattr(LPQuery, 'ask', ask)"
   ]
  },
  {
   "cell_type": "markdown",
   "metadata": {},
   "source": [
    "**Inicalizando la base de conocimiento:**\n",
    "\n",
    "El método `tell()` de una base lógica de conocimiento nos sirve para actualizarla, diciéndole que una fórmula es verdadera. El método reconoce si la fórmula es un hecho o una regla y lo incluye en el lugar apropiado (evitando repeticiones)."
   ]
  },
  {
   "cell_type": "code",
   "execution_count": null,
   "metadata": {},
   "outputs": [],
   "source": [
    "from logica import LPQuery\n",
    "\n",
    "base = LPQuery([])\n",
    "base.tell('debajo(a,c)')\n",
    "base.tell('izquierda(b,a)')\n",
    "base.tell('morado(c)')\n",
    "print(base)"
   ]
  },
  {
   "cell_type": "markdown",
   "metadata": {},
   "source": [
    "<a class=\"anchor\" id=\"ej3\"></a>**Ejercicio 3:** \n",
    "\n",
    "([Anterior ejercicio](#ej2)) ([Próximo ejercicio](#ej4))\n",
    "\n",
    "Pregunte a la base de conocimiento si sabemos que $C$ es verde, si sabemos que $A$ está a la derecha de $B$ y si sabemos que $C$ está a la derecha de $B$.\n",
    "\n",
    "**Nota:**\n",
    "\n",
    "La respuesta debe ser:\n",
    "```\n",
    "Sabemos que C es verde?: ¡Objetivo no se deduce de la base!\n",
    "Sabemos que C no es verde?: ¡Objetivo no se deduce de la base!\n",
    "```"
   ]
  },
  {
   "cell_type": "markdown",
   "metadata": {},
   "source": [
    "---"
   ]
  },
  {
   "cell_type": "markdown",
   "metadata": {},
   "source": [
    "**Incluyendo conocimiento:**\n",
    "\n",
    "Podemos incluir una regla de los colores que le diga a la base que si un bloque es de un color, entonces no es de ningún otro color:"
   ]
  },
  {
   "cell_type": "code",
   "execution_count": null,
   "metadata": {},
   "outputs": [],
   "source": [
    "# Creamos un conjunto de bloques y otro de colores\n",
    "bloques = ['a', 'b', 'c']\n",
    "colores = ['verde', 'morado', 'naranja']\n",
    "\n",
    "# Creamos las reglas de conocimiento\n",
    "for bloque in bloques:\n",
    "    for color in colores:\n",
    "        for otro_color in [c for c in colores if c != color]:\n",
    "            base.tell(f'{color}({bloque})>-{otro_color}({bloque})')\n",
    "            \n",
    "print(base)"
   ]
  },
  {
   "cell_type": "code",
   "execution_count": null,
   "metadata": {},
   "outputs": [],
   "source": [
    "print('Sabemos que C no es verde?:', base.ask('-verde(c)'))"
   ]
  },
  {
   "cell_type": "markdown",
   "metadata": {},
   "source": [
    "---"
   ]
  },
  {
   "cell_type": "markdown",
   "metadata": {},
   "source": [
    "<a class=\"anchor\" id=\"ej4\"></a>**Ejercicio 4:** \n",
    "\n",
    "([Anterior ejercicio](#ej3)) ([Próximo ejercicio](#ej5))\n",
    "\n",
    "\n",
    "En este ejercicio se pide hacer lo siguiente:\n",
    "\n",
    "* Incluya la regla que diga que si un bloque está a la derecha de otro bloque, entonces este último está a la izquierda del primero. \n",
    "* Lo mismo debe suceder en el sentido contrario.\n",
    "* Consulte si sabemos que $A$ está a la derecha de $B$."
   ]
  },
  {
   "cell_type": "markdown",
   "metadata": {},
   "source": [
    "---"
   ]
  },
  {
   "cell_type": "markdown",
   "metadata": {},
   "source": [
    "<a class=\"anchor\" id=\"ej5\"></a>**Ejercicio 5:** \n",
    "\n",
    "([Anterior ejercicio](#ej4)) ([Próximo ejercicio](#ej6))\n",
    "\n",
    "En este ejercicio se pide hacer lo siguiente:\n",
    "\n",
    "* Incluya las reglas de que si un bloque está debajo de otro, este último está arriba del primero. \n",
    "* Lo mismo debe suceder en el sentido contrario.\n",
    "* Consulte si sabemos que $C$ está arriba de $A$."
   ]
  },
  {
   "cell_type": "markdown",
   "metadata": {},
   "source": [
    "---"
   ]
  },
  {
   "cell_type": "markdown",
   "metadata": {},
   "source": [
    "<a class=\"anchor\" id=\"ej6\"></a>**Ejercicio 6:** \n",
    "\n",
    "([Anterior ejercicio](#ej5))\n",
    "\n",
    "En este ejercicio se pide hacer lo siguiente:\n",
    "\n",
    "* Observe que si un bloque está arriba o debajo de otro, entonces el primero hereda todas las relaciones de izquierda y derecha del segundo. Incluya estas reglas en la base de conocimiento. \n",
    "* Consulte si sabemos que $C$ está a la derecha de $B$."
   ]
  },
  {
   "cell_type": "markdown",
   "metadata": {},
   "source": [
    "---"
   ]
  },
  {
   "cell_type": "markdown",
   "metadata": {},
   "source": [
    "## En este notebook usted aprendió\n",
    "\n",
    "* Las reglas como un fragmento de la lógica proposicional para la deducción automática.\n",
    "* El algoritmo de deducción mediante forward-chaining.\n",
    "* El algoritmo de deducción mediante backward-chaining.\n",
    "* El uso de una base de conocimiento para obtener nueva información.\n"
   ]
  }
 ],
 "metadata": {
  "kernelspec": {
   "display_name": "Python 3",
   "language": "python",
   "name": "python3"
  },
  "language_info": {
   "codemirror_mode": {
    "name": "ipython",
    "version": 3
   },
   "file_extension": ".py",
   "mimetype": "text/x-python",
   "name": "python",
   "nbconvert_exporter": "python",
   "pygments_lexer": "ipython3",
   "version": "3.9.16"
  }
 },
 "nbformat": 4,
 "nbformat_minor": 4
}
