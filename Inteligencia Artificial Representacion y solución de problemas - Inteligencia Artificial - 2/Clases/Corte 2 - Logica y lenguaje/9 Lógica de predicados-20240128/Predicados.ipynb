{
 "cells": [
  {
   "cell_type": "markdown",
   "metadata": {},
   "source": [
    "<table>\n",
    "    <tr>\n",
    "        <td><img src=\"./imagenes/Macc.png\" width=\"400\"/></td>\n",
    "        <td>&nbsp;</td>\n",
    "        <td>\n",
    "            <h1 style=\"color:blue;text-align:left\">Inteligencia Artificial</h1></td>\n",
    "        <td>\n",
    "            <table><tr>\n",
    "            <tp><p style=\"font-size:150%;text-align:center\">Notebook</p></tp>\n",
    "            <tp><p style=\"font-size:150%;text-align:center\">Lógica de predicados</p></tp>\n",
    "            </tr></table>\n",
    "        </td>\n",
    "    </tr>\n",
    "</table>\n",
    "\n",
    "---"
   ]
  },
  {
   "cell_type": "markdown",
   "metadata": {},
   "source": [
    "## Objetivo <a class=\"anchor\" id=\"inicio\"></a>\n",
    "\n",
    "En este notebook veremos una manera de implementar en Python la lógica proposicional y el cálculo $\\lambda$ usando el módulo de lógica de la librería `nlkt`. También veremos una manera de responder preguntas sobre un texto de manera automática usando una base de conocimiento. "
   ]
  },
  {
   "cell_type": "markdown",
   "metadata": {},
   "source": [
    "[Ir al ejercicio 1](#ej1)"
   ]
  },
  {
   "cell_type": "markdown",
   "metadata": {},
   "source": [
    "## Dependencias\n",
    "\n",
    "Al iniciar el notebook o reiniciar el kerner, se pueden cargar todas las dependencias de este notebook al correr las siguientes celdas. Este también es el lugar para instalar las dependencias que podrían hacer falta."
   ]
  },
  {
   "cell_type": "markdown",
   "metadata": {},
   "source": [
    "**De Python:**"
   ]
  },
  {
   "cell_type": "code",
   "execution_count": null,
   "metadata": {},
   "outputs": [],
   "source": [
    "from nltk.sem.logic import LogicParser\n",
    "from nltk import load_parser\n",
    "from nltk.grammar import FeatureGrammar\n",
    "from nltk.parse import FeatureEarleyChartParser\n",
    "from nltk.tree import Tree\n",
    "from itertools import product"
   ]
  },
  {
   "cell_type": "markdown",
   "metadata": {},
   "source": [
    "**Del notebook:**"
   ]
  },
  {
   "cell_type": "code",
   "execution_count": null,
   "metadata": {},
   "outputs": [],
   "source": [
    "import utils\n",
    "from logica import LPQuery\n",
    "from parseMod import Modelo\n",
    "from logUtils import Ytoria\n",
    "from resPreg import pipeline_responder_preguntas"
   ]
  },
  {
   "cell_type": "markdown",
   "metadata": {},
   "source": [
    "## Secciones\n",
    "\n",
    "Desarrollaremos la explicación en las siguientes secciones:\n",
    "\n",
    "* [Fórmulas de la lógica de predicados.](#predicados)\n",
    "* [Fórmulas del cálculo $\\lambda$.](#calculo)\n",
    "* [Gramática lógica.](#gramatica)\n",
    "* [Ejemplo con el mundo de los bloques.](#bloques)\n",
    "* [Representación de preguntas.](#preguntas)\n",
    "* [Resolución de preguntas.](#answer)"
   ]
  },
  {
   "cell_type": "markdown",
   "metadata": {},
   "source": [
    "## Fórmulas de la lógica de predicados <a class=\"anchor\" id=\"predicados\"></a>\n",
    "\n",
    "([Volver al inicio](#inicio))\n",
    "\n",
    "La librería `nltk` tiene un módulo mediante el cual se pueden representar las fórmulas de la lógica de predicados como objetos ([ver módulo nltk.sem.logic](https://www.nltk.org/api/nltk.sem.logic.html#module-nltk.sem.logic) y ver la explicación [aquí](https://www.nltk.org/book_1ed/ch10.html)). Más aún, `nltk` tiene implementado un parser que nos sirve para leer una fórmula como cadena y representarla como un objeto."
   ]
  },
  {
   "cell_type": "code",
   "execution_count": null,
   "metadata": {},
   "outputs": [],
   "source": [
    "# Cargamos el parser\n",
    "lp = LogicParser()"
   ]
  },
  {
   "cell_type": "markdown",
   "metadata": {},
   "source": [
    "Veamos esta funcionalidad para el caso de las fórmulas atómicas, los conectivos lógicos y las fórmulas cuantificadas de la lógica de predicados."
   ]
  },
  {
   "cell_type": "markdown",
   "metadata": {},
   "source": [
    "**Caso 1: Fórmulas atómicas**\n",
    "\n",
    "Comenzamos por considerar las fórmulas atómicas, las cuales se componen de un predicado aplicado a una o varias constantes (dependiendo de la aridad del predicado). "
   ]
  },
  {
   "cell_type": "code",
   "execution_count": null,
   "metadata": {},
   "outputs": [],
   "source": [
    "# Escribimos la fórmula\n",
    "formula_cadena = r'AMAR(pedro, x)'\n",
    "#                ^\n",
    "#                observe el \"r\"\n",
    "# usamos \"r\" al comienzo de la cadena para poder usar\n",
    "# símbolos reservados, como el \"\\\"\n",
    "\n",
    "# Creamos el objeto mediante el parser\n",
    "formula_objeto = lp.parse(formula_cadena)\n",
    "print(formula_objeto)"
   ]
  },
  {
   "cell_type": "markdown",
   "metadata": {},
   "source": [
    "Una fórmula atómica como objeto tiene algunos atributos, como sus argumentos: "
   ]
  },
  {
   "cell_type": "code",
   "execution_count": null,
   "metadata": {},
   "outputs": [],
   "source": [
    "print(formula_objeto.args)"
   ]
  },
  {
   "cell_type": "markdown",
   "metadata": {},
   "source": [
    "O como sus variables libres"
   ]
  },
  {
   "cell_type": "code",
   "execution_count": null,
   "metadata": {},
   "outputs": [],
   "source": [
    "print(formula_objeto.free())"
   ]
  },
  {
   "cell_type": "markdown",
   "metadata": {},
   "source": [
    "Revise el [módulo de logica](https://www.nltk.org/api/nltk.sem.logic.html#module-nltk.sem.logic) para examinar los demás atributos de las fórmulas atómicas."
   ]
  },
  {
   "cell_type": "markdown",
   "metadata": {},
   "source": [
    "**Caso 2: Conectivos lógicos**\n",
    "\n",
    "Los conectivos lógicos deben escribirse de la siguiente manera:\n",
    "\n",
    "| Nombre | nltk |\n",
    "| :---: | :---: |\n",
    "| Negación | - |\n",
    "| Y | &|\n",
    "| O | \\| |\n",
    "| Implicación | -> |\n",
    "| Equivalencia | <-> |"
   ]
  },
  {
   "cell_type": "code",
   "execution_count": null,
   "metadata": {},
   "outputs": [],
   "source": [
    "formula_cadena = r'CAMINA(pedro) & MIRA(pedro, maria)'\n",
    "formula_objeto = lp.parse(formula_cadena)\n",
    "print(formula_objeto)"
   ]
  },
  {
   "cell_type": "markdown",
   "metadata": {},
   "source": [
    "Observe que el parser asume que unos operadores preceden a otros, de tal manera que no hay riesgo de ambigüedad en las expresiones. Por ejemplo, observe que la siguiente fórmula es ambigua, pero el parser asume que \"&\" tiene precedencia sobre \"|\":"
   ]
  },
  {
   "cell_type": "code",
   "execution_count": null,
   "metadata": {},
   "outputs": [],
   "source": [
    "formula_cadena = r'CAMINA(pedro) & MIRA(pedro,maria) | CANTAR(PEDRO)'\n",
    "formula_objeto = lp.parse(formula_cadena)\n",
    "print(formula_objeto)"
   ]
  },
  {
   "cell_type": "markdown",
   "metadata": {},
   "source": [
    "**Caso 3: Cuantificadores**\n",
    "\n",
    "El cuantificador universal y el existencial se incorporan fácilmente:"
   ]
  },
  {
   "cell_type": "code",
   "execution_count": null,
   "metadata": {},
   "outputs": [],
   "source": [
    "formula_cadena = r'exists x.CAMINA(x)'\n",
    "#                          ^\n",
    "#                      observe el punto\n",
    "formula_objeto = lp.parse(formula_cadena)\n",
    "print(formula_objeto)"
   ]
  },
  {
   "cell_type": "code",
   "execution_count": null,
   "metadata": {},
   "outputs": [],
   "source": [
    "formula_cadena = r'all x.CAMINA(x)'\n",
    "#                       ^\n",
    "#                   observe el punto\n",
    "formula_objeto = lp.parse(formula_cadena)\n",
    "print(formula_objeto)"
   ]
  },
  {
   "cell_type": "markdown",
   "metadata": {},
   "source": [
    "La variable del cuantificador se puede acceder fácilmente mediante el atributo `variable`:"
   ]
  },
  {
   "cell_type": "code",
   "execution_count": null,
   "metadata": {},
   "outputs": [],
   "source": [
    "formula_objeto.variable"
   ]
  },
  {
   "cell_type": "markdown",
   "metadata": {},
   "source": [
    "Y la fórmula en el rango del cuantificador se puede acceder mediante el atributo `term`:"
   ]
  },
  {
   "cell_type": "code",
   "execution_count": null,
   "metadata": {},
   "outputs": [],
   "source": [
    "print(formula_objeto.term)"
   ]
  },
  {
   "cell_type": "markdown",
   "metadata": {},
   "source": [
    "<a class=\"anchor\" id=\"ej1\"></a>**Ejercicio 1:** \n",
    "\n",
    "([Próximo ejercicio](#ej2))\n",
    "\n",
    "Considere el *mundo de los bloques*, el cual consiste en un conjunto de bloques bidimensionales de forma cuadrada, con un color y con una letra única para cada bloque. Ellos se encuentran encima de una mesa y pueden estar apilados unos encima de otros.\n",
    "\n",
    "<img src=\"./imagenes/bloques2.png\" width=\"auto\"/>\n",
    "\n",
    "Cree las fórmulas como objetos correspondientes a las siguientes expresiones:\n",
    "\n",
    "* $A$ no está a la izquierda de $B$ y $C$ es morado.\n",
    "* Si $C$ es morado, entonces no es verde.\n",
    "* No es cierto que todo bloque está debajo de $C$.\n",
    "\n",
    "**Nota:** use la expresión `bloque_A` para referirse al bloque $A$ y así para los tres bloques. Esto debemos hacerlo porque si usamos `A`, el parser pensará que es una variable y lo que queremos es una constante."
   ]
  },
  {
   "cell_type": "code",
   "execution_count": null,
   "metadata": {},
   "outputs": [],
   "source": [
    "f1_ = ... # AQUÍ LA FÓRMULA PARA LA PRIMERA EXPRESIÓN\n",
    "f1 = lp.parse(f1_)\n",
    "print('La fórmula correspondiente a')\n",
    "print('\\n\\t 𝐴  no está a la izquierda de 𝐵 y 𝐶 es morado.')\n",
    "print('es:')\n",
    "print('\\n\\t', f1)\n",
    "\n",
    "f2_ = ... # AQUÍ LA FÓRMULA PARA LA SEGUNDA EXPRESIÓN\n",
    "f2 = lp.parse(f2_)\n",
    "print('\\nLa fórmula correspondiente a')\n",
    "print('\\n\\t Si  𝐶  es morado, entonces no es verde.')\n",
    "print('es:')\n",
    "print('\\n\\t', f2)\n",
    "\n",
    "f3_ = ... # AQUÍ LA FÓRMULA PARA LA TERCERA EXPRESIÓN\n",
    "f3 = lp.parse(f3_)\n",
    "print('\\nLa fórmula correspondiente a')\n",
    "print('\\n\\t No es cierto que todo bloque está debajo de  𝐶 .')\n",
    "print('es:')\n",
    "print('\\n\\t', f2)"
   ]
  },
  {
   "cell_type": "markdown",
   "metadata": {},
   "source": [
    "---"
   ]
  },
  {
   "cell_type": "markdown",
   "metadata": {},
   "source": [
    "## Fórmulas del cálculo $\\lambda$ <a class=\"anchor\" id=\"calculo\"></a>\n",
    "\n",
    "([Volver al inicio](#inicio))\n",
    "\n",
    "Recordemos que el cálculo $\\lambda$ es muy útil, pues sirve para crear funciones anónimas que pueden operarse entre sí. El operador $\\lambda$ funciona como un cuantificador, pero no se escribe \"lambda\", sino solo \"\\\\\":"
   ]
  },
  {
   "cell_type": "code",
   "execution_count": null,
   "metadata": {},
   "outputs": [],
   "source": [
    "formula_cadena1 = r'\\x.CAMINAR(x)'\n",
    "formula_objeto1 = lp.parse(formula_cadena1)\n",
    "print(formula_objeto1)"
   ]
  },
  {
   "cell_type": "markdown",
   "metadata": {},
   "source": [
    "Esta expresión representa una función que toma constantes y devuelve una fórmula. Por ejemplo, podemos aplicarle la constante `pedro` a la anterior expresión para obtener la fórmula `CAMINAR(pedro)`:"
   ]
  },
  {
   "cell_type": "code",
   "execution_count": null,
   "metadata": {},
   "outputs": [],
   "source": [
    "formula_cadena2 = fr'{formula_objeto1}(pedro)'\n",
    "formula_objeto2 = lp.parse(formula_cadena2)\n",
    "print(formula_objeto2)"
   ]
  },
  {
   "cell_type": "markdown",
   "metadata": {},
   "source": [
    "Observe que debemos simplificar la expresión mediante el método `simplify()` para obtener el resultado deseado:"
   ]
  },
  {
   "cell_type": "code",
   "execution_count": null,
   "metadata": {
    "scrolled": true
   },
   "outputs": [],
   "source": [
    "print(formula_objeto2.simplify())"
   ]
  },
  {
   "cell_type": "markdown",
   "metadata": {},
   "source": [
    "Un ejemplo más complicado es el siguiente. Considere la representación lógica de las siguientes expresiones (como se definió en las diapositivas de clase):\n",
    "\n",
    "* \"hombre\" $\\Rightarrow$ $\\lambda x~HOMBRE(x)$\n",
    "* \"camina\" $\\Rightarrow$ $\\lambda x~CAMINAR(x)$ \n",
    "* \"un\" $\\Rightarrow$ $\\lambda X~\\lambda Y~\\exists y\\left(X(y)\\land Y(y)\\right)$\n",
    "\n",
    "Creamos las fórmulas para cada expresión:"
   ]
  },
  {
   "cell_type": "code",
   "execution_count": null,
   "metadata": {},
   "outputs": [],
   "source": [
    "hombre_ = r'\\x.HOMBRE(x)'\n",
    "camina_ = r'\\x.CAMINAR(x)'\n",
    "un_ = r'\\X.(\\Y.(exists y.(X(y) & Y(y))))'\n",
    "hombre = lp.parse(hombre_)\n",
    "camina = lp.parse(camina_)\n",
    "un = lp.parse(un_)"
   ]
  },
  {
   "cell_type": "markdown",
   "metadata": {},
   "source": [
    "Aplicamos la expresión \"hombre\" a la expresión \"un\" para obtener \"un hombre\":"
   ]
  },
  {
   "cell_type": "code",
   "execution_count": null,
   "metadata": {},
   "outputs": [],
   "source": [
    "un_hombre_ = fr'({un})({hombre})'\n",
    "un_hombre = lp.parse(un_hombre_).simplify()\n",
    "print(un_hombre)"
   ]
  },
  {
   "cell_type": "markdown",
   "metadata": {},
   "source": [
    "Ahora aplicamos la expresión \"camina\" a la expresión \"un hombre\" para obtener \"un hombre camina\":"
   ]
  },
  {
   "cell_type": "code",
   "execution_count": null,
   "metadata": {},
   "outputs": [],
   "source": [
    "un_hombre_camina_ = fr'({un_hombre})({camina})'\n",
    "un_hombre_camina = lp.parse(un_hombre_camina_).simplify()\n",
    "print(un_hombre_camina)"
   ]
  },
  {
   "cell_type": "markdown",
   "metadata": {},
   "source": [
    "<a class=\"anchor\" id=\"ej2\"></a>**Ejercicio 2:** \n",
    "\n",
    "([Anterior ejercicio](#ej1)) ([Próximo ejercicio](#ej3))\n",
    "\n",
    "A partir de la representación de las expresiones \"pedro\", \"ama\" y \"maria\" que vimos en las diapositivas de clase, realice un procedimiento similar al que acabamos de usar para obtener la representación de \"pedro ama maria\". Observe que en este caso **debemos obtener primero la expresión \"ama maria\"** para luego obtener la expresión \"pedro ama maria\", que debe resultar en \"AMAR(pedro,maria)\".  \n",
    "\n",
    "Recuerde que las representaciones léxicas son:\n",
    "\n",
    "* \"pedro\" $\\Rightarrow$ $\\lambda X~X(pedro)$\n",
    "* \"maria\" $\\Rightarrow$ $\\lambda X~X(maria)$\n",
    "* \"amar\" $\\Rightarrow$ $\\lambda P(\\lambda x(P(\\lambda y~AMAR(x,y))))$ "
   ]
  },
  {
   "cell_type": "markdown",
   "metadata": {},
   "source": [
    "***"
   ]
  },
  {
   "cell_type": "markdown",
   "metadata": {},
   "source": [
    "## Gramática lógica <a class=\"anchor\" id=\"gramatica\"></a>\n",
    "\n",
    "([Volver al inicio](#inicio))\n",
    "\n",
    "¿Cómo sabemos que debemos encontrar primero la expresión \"ama maria\" antes que la expresión \"pedro ama\"? La respuesta la da la sintaxis. En el árbol de la derecha, vemos que las hojas \"ama\" y \"maria\" se unen primero y que su resultado se une con \"pedro\" para obtener la oración completa. También podemos ver en el árbol de la izquierda que el orden de aplicación es diferente. Primero se unen \"un\" y \"hombre\" para luego unirse con \"camina\" y así formar la oración completa:\n",
    "\n",
    "<img src=\"./imagenes/arboles.png\" width=\"400\"/>\n",
    "\n",
    "La simplificación de las expresiones se realiza de acuerdo a la manera en que los nodos se unen en el árbol de análisis de la expresión. Observe que estamos juntando dos ideas: cálculo $\\lambda$ con gramáticas. Esto es lo que se conoce como una gramática lógica.\n",
    "\n",
    "En una gramática lógica, debemos representar las expresiones de acuerdo a su fórma lógica y unirlas de acuerdo a lo que nos diga su árbol de análisis. Resulta que la librería `nltk` nos da esta funcionalidad, gracias al uso de gramáticas independientes del contexto con características gramaticales.\n",
    "\n",
    "En efecto, una de las características de las expresiones puede ser su representación semántica. De esta manera, cada expresión puede asignarse a una fórmula del cálculo $\\lambda$. Adicionalmente, las reglas gramaticales pueden decirnos la manera de obtener la fórmula correspondiente a la madre con respecto a las fórmulas de sus hijos.\n",
    "\n",
    "Ilustremos esta idea mediante un ejemplo sencillo. Considere la siguiente gramática:"
   ]
  },
  {
   "cell_type": "code",
   "execution_count": null,
   "metadata": {
    "scrolled": false
   },
   "outputs": [],
   "source": [
    "# Definimos la gramática\n",
    "reglas1 = r\"\"\"\n",
    "% start O\n",
    "#############################\n",
    "# Reglas gramaticales\n",
    "#############################\n",
    "\n",
    "# La oración es un sintagma nominal (SN) seguido de un verbo (V)\n",
    "O[SEM=<?sn(?v)>] -> SN[SEM=?sn] V[SEM=?v] \n",
    "# Un sintagma nominal (SN) puede ser un término (T)\n",
    "SN[SEM=?t] -> T[SEM=?t]\n",
    "# Un verbo (V) puede ser un verbo intansitivo (VI)\n",
    "V[SEM=?v] -> VI[SEM=?v]\n",
    "\n",
    "#############################\n",
    "# Reglas léxicas\n",
    "#############################\n",
    "\n",
    "T[SEM=<\\X.X(pedro)>] -> 'pedro'\n",
    "VI[SEM=<\\x.CAMINAR(x)>] -> 'camina'\n",
    "\"\"\"\n",
    "\n",
    "# Instanciamos el objeto\n",
    "gramatica = FeatureGrammar.fromstring(reglas1)\n",
    "\n",
    "# Instanciamos el parser\n",
    "parser = FeatureEarleyChartParser(gramatica)\n",
    "\n",
    "# Procesamos la oración\n",
    "oracion = 'pedro camina'.split()\n",
    "tree1 = utils.parsear(oracion, parser, verbose=True)\n",
    "print('El árbol bidimensional es:')\n",
    "tree1"
   ]
  },
  {
   "cell_type": "markdown",
   "metadata": {},
   "source": [
    "<a class=\"anchor\" id=\"ej3\"></a>**Ejercicio 3:** \n",
    "\n",
    "([Anterior ejercicio](#ej2)) ([Próximo ejercicio](#ej4))\n",
    "\n",
    "Modifique la gramática `reglas1` para poder encontrar la representación de \"un hombre camina\"."
   ]
  },
  {
   "cell_type": "code",
   "execution_count": null,
   "metadata": {},
   "outputs": [],
   "source": [
    "# Definimos la gramática\n",
    "reglas1 = r\"\"\"\n",
    "% start O\n",
    "#############################\n",
    "# Reglas gramaticales\n",
    "#############################\n",
    "\n",
    "# La oración es un sintagma nominal (SN) seguido de un verbo (V)\n",
    "O[SEM=<?sn(?v)>] -> SN[SEM=?sn] V[SEM=?v] \n",
    "# Un sintagma nominal (SN) puede ser un término (T)\n",
    "SN[SEM=?t] -> T[SEM=?t]\n",
    "# Un verbo (V) puede ser un verbo intansitivo (VI)\n",
    "V[SEM=?v] -> VI[SEM=?v]\n",
    "# Un sintagma nominal (SN) puede ser un determinante (D) seguido de un sustativo (N)\n",
    ">>>>>>>>>>> AQUI LA EXPRESIÓN DE LA GRAMÁTICA CON CARACTERÍSTICAS SEMÁNTICAS <<<<<<<<<<\n",
    "\n",
    "#############################\n",
    "# Reglas léxicas\n",
    "#############################\n",
    "\n",
    "T[SEM=<\\X.X(pedro)>] -> 'pedro'\n",
    "VI[SEM=<\\x.CAMINAR(x)>] -> 'camina'\n",
    ">>>>>>>>>>> AQUI LA REPRESENTACIÓN DE HOMBRE <<<<<<<<<<\n",
    ">>>>>>>>>>> AQUI LA REPRESENTACIÓN DE UN <<<<<<<<<<\n",
    "\"\"\"\n",
    "\n",
    "# Instanciamos el objeto\n",
    "gramatica = FeatureGrammar.fromstring(reglas1)\n",
    "\n",
    "# Instanciamos el parser\n",
    "parser = FeatureEarleyChartParser(gramatica)\n",
    "\n",
    "# Procesamos la oración\n",
    "oracion = 'un hombre camina'.split()\n",
    "tree1 = utils.parsear(oracion, parser, verbose=True)\n",
    "print('El árbol bidimensional es:')\n",
    "tree1"
   ]
  },
  {
   "cell_type": "markdown",
   "metadata": {},
   "source": [
    "---"
   ]
  },
  {
   "cell_type": "markdown",
   "metadata": {},
   "source": [
    "<a class=\"anchor\" id=\"ej4\"></a>**Ejercicio 4:** \n",
    "\n",
    "([Anterior ejercicio](#ej3)) ([Próximo ejercicio](#ej5))\n",
    "\n",
    "Modifique la gramática `reglas1` para poder encontrar la representación de \"pedro ama maria\"."
   ]
  },
  {
   "cell_type": "code",
   "execution_count": null,
   "metadata": {},
   "outputs": [],
   "source": [
    "# Definimos la gramática\n",
    "reglas1 = r\"\"\"\n",
    "% start O\n",
    "#############################\n",
    "# Reglas gramaticales\n",
    "#############################\n",
    "\n",
    "# La oración es un sintagma nominal (SN) seguido de un verbo (V)\n",
    "O[SEM=<?v(?sn)>] -> SN[SEM=?sn] V[SEM=?v] \n",
    "# Un sintagma nominal (SN) puede ser un término (T)\n",
    "SN[SEM=?t] -> T[SEM=?t]\n",
    "# Un verbo (V) puede ser un verbo intansitivo (VI)\n",
    "V[SEM=?v] -> VI[SEM=?v]\n",
    "# Un sintagma nominal (SN) puede ser un determinante (D) seguido de un sustativo (N)\n",
    ">>>>>>>>>>> AQUI LA EXPRESIÓN DE LA GRAMÁTICA CON CARACTERÍSTICAS SEMÁNTICAS <<<<<<<<<<\n",
    "# Un verbo (V) puede ser un verbo tansitivo (VT) seguido de un sintagma nominal (SN)\n",
    ">>>>>>>>>>> AQUI LA EXPRESIÓN DE LA GRAMÁTICA CON CARACTERÍSTICAS SEMÁNTICAS <<<<<<<<<<\n",
    "\n",
    "#############################\n",
    "# Reglas léxicas\n",
    "#############################\n",
    "\n",
    "T[SEM=<pedro>] -> 'pedro'\n",
    "VI[SEM=<\\x.CAMINAR(x)>] -> 'camina'\n",
    ">>>>>>>>>>> AQUI LA REPRESENTACIÓN DE HOMBRE <<<<<<<<<<\n",
    ">>>>>>>>>>> AQUI LA REPRESENTACIÓN DE UN <<<<<<<<<<\n",
    ">>>>>>>>>>> AQUI LA REPRESENTACIÓN DE MARIA <<<<<<<<<<\n",
    ">>>>>>>>>>> AQUI LA REPRESENTACIÓN DE AMAR <<<<<<<<<<\n",
    "\"\"\"\n",
    "\n",
    "# Instanciamos el objeto\n",
    "gramatica = FeatureGrammar.fromstring(reglas1)\n",
    "\n",
    "# Instanciamos el parser\n",
    "parser = FeatureEarleyChartParser(gramatica)\n",
    "\n",
    "# Procesamos la oración\n",
    "oracion = 'pedro ama maria'.split()\n",
    "tree1 = utils.parsear(oracion, parser, verbose=True)\n",
    "print('El árbol bidimensional es:')\n",
    "tree1"
   ]
  },
  {
   "cell_type": "markdown",
   "metadata": {},
   "source": [
    "---"
   ]
  },
  {
   "cell_type": "markdown",
   "metadata": {},
   "source": [
    "## Ejemplo con el mundo de los bloques <a class=\"anchor\" id=\"bloques\"></a>\n",
    "\n",
    "([Volver al inicio](#inicio))\n",
    "\n",
    "El mundo de los bloques es suficientemente sencillo para nuestros propósitos. Vamos a crear la gramática que procesará las oraciones en español y devolverá fórmulas de la lógica de predicados que representan situaciones en el mundo de los bloques. Una opción es la siguiente gramática:"
   ]
  },
  {
   "cell_type": "code",
   "execution_count": null,
   "metadata": {},
   "outputs": [],
   "source": [
    "# Definimos la gramática para el mundo de los bloques\n",
    "reglas_bloques = r\"\"\"\n",
    "% start O\n",
    "#############################\n",
    "# Reglas gramaticales\n",
    "#############################\n",
    "\n",
    "# La oración es un bloque (BL) seguido de 'está' y un vector (VE)\n",
    "O[SEM=<?ve(?b)>] -> BL[SEM=?b] 'está' VE[SEM=?ve]\n",
    "\n",
    "# Un vector (VE) es una dirección (D) seguida de un bloque (BL)\n",
    "VE[SEM=<?d(?b)>] -> D[SEM=?d] BL[SEM=?b]\n",
    "\n",
    "#############################\n",
    "# Reglas léxicas\n",
    "#############################\n",
    "\n",
    "BL[SEM=<bloque_A>] -> 'A'\n",
    "BL[SEM=<bloque_B>] -> 'B'\n",
    "D[SEM=<\\y.(\\x.DERECHA(x,y))>] -> 'a' 'la' 'derecha' 'de'\n",
    "\"\"\"\n",
    "\n",
    "# Instanciamos el objeto\n",
    "gramatica_bloques = FeatureGrammar.fromstring(reglas_bloques)\n",
    "\n",
    "# Instanciamos el parser\n",
    "parser_bloques = FeatureEarleyChartParser(gramatica_bloques)"
   ]
  },
  {
   "cell_type": "markdown",
   "metadata": {},
   "source": [
    "Veámos su funcionamiento, aplicado sobre la oración:\n",
    "\n",
    "* \"A está a la derecha de B\"."
   ]
  },
  {
   "cell_type": "code",
   "execution_count": null,
   "metadata": {},
   "outputs": [],
   "source": [
    "# Procesamos la oración\n",
    "oracion = 'A está a la derecha de B'.split()\n",
    "tree1 = utils.parsear(oracion, parser_bloques)\n",
    "tree1"
   ]
  },
  {
   "cell_type": "markdown",
   "metadata": {},
   "source": [
    "Los anteriores comandos obtienen el árbol de análisis de la oración. No obstante, para obtener la fórmula podemos usar el siguiente comando:"
   ]
  },
  {
   "cell_type": "code",
   "execution_count": null,
   "metadata": {},
   "outputs": [],
   "source": [
    "formula = utils.obtener_formula(oracion, parser_bloques)\n",
    "print(formula)"
   ]
  },
  {
   "cell_type": "markdown",
   "metadata": {},
   "source": [
    "<a class=\"anchor\" id=\"ej5\"></a>**Ejercicio 5:** \n",
    "\n",
    "([Anterior ejercicio](#ej4)) ([Próximo ejercicio](#ej6))\n",
    "\n",
    "Modifique la gramática `reglas_bloques` para poder representar las siguientes oraciones:\n",
    "\n",
    "* B está a la izquierda de C.\n",
    "* C está encima de A.\n",
    "* A está debajo de D.\n"
   ]
  },
  {
   "cell_type": "code",
   "execution_count": null,
   "metadata": {},
   "outputs": [],
   "source": [
    "# Definimos la gramática para el mundo de los bloques\n",
    "reglas_bloques = r\"\"\"\n",
    "% start O\n",
    "#############################\n",
    "# Reglas gramaticales\n",
    "#############################\n",
    "\n",
    "# La oración es un bloque (BL) seguido de 'está' y un vector (VE)\n",
    "O[SEM=<?ve(?b)>] -> BL[SEM=?b] 'está' VE[SEM=?ve]\n",
    "\n",
    "# Un vector (VE) es una dirección (D) seguida de un bloque (BL)\n",
    "VE[SEM=<?d(?b)>] -> D[SEM=?d] BL[SEM=?b]\n",
    "\n",
    "#############################\n",
    "# Reglas léxicas\n",
    "#############################\n",
    "\n",
    "BL[SEM=<bloque_A>] -> 'A'\n",
    "BL[SEM=<bloque_B>] -> 'B'\n",
    ">>>>>>>>>>> AQUI LA REPRESENTACIÓN DE C <<<<<<<<<<\n",
    ">>>>>>>>>>> AQUI LA REPRESENTACIÓN DE D <<<<<<<<<<\n",
    "D[SEM=<\\y.(\\x.DERECHA(x,y))>] -> 'a' 'la' 'derecha' 'de'\n",
    ">>>>>>>>>>> AQUI LA REPRESENTACIÓN DE IZQUIERDA <<<<<<<<<<\n",
    ">>>>>>>>>>> AQUI LA REPRESENTACIÓN DE ENCIMA <<<<<<<<<<\n",
    ">>>>>>>>>>> AQUI LA REPRESENTACIÓN DE DEBAJO <<<<<<<<<<\n",
    "\"\"\"\n",
    "\n",
    "# Instanciamos el objeto\n",
    "gramatica_bloques = FeatureGrammar.fromstring(reglas_bloques)\n",
    "\n",
    "# Instanciamos el parser\n",
    "parser_bloques = FeatureEarleyChartParser(gramatica_bloques)"
   ]
  },
  {
   "cell_type": "code",
   "execution_count": null,
   "metadata": {},
   "outputs": [],
   "source": [
    "# Procesamos la oración\n",
    "oracion = 'B está a la izquierda de C'.split()\n",
    "formula = utils.obtener_formula(oracion, parser_bloques)\n",
    "print(formula)"
   ]
  },
  {
   "cell_type": "code",
   "execution_count": null,
   "metadata": {},
   "outputs": [],
   "source": [
    "# Procesamos la oración\n",
    "oracion = 'C está encima de A'.split()\n",
    "formula = utils.obtener_formula(oracion, parser_bloques)\n",
    "print(formula)"
   ]
  },
  {
   "cell_type": "code",
   "execution_count": null,
   "metadata": {},
   "outputs": [],
   "source": [
    "# Procesamos la oración\n",
    "oracion = 'A está debajo de D'.split()\n",
    "formula = utils.obtener_formula(oracion, parser_bloques)\n",
    "print(formula)"
   ]
  },
  {
   "cell_type": "markdown",
   "metadata": {},
   "source": [
    "---"
   ]
  },
  {
   "cell_type": "markdown",
   "metadata": {},
   "source": [
    "## Representación de preguntas <a class=\"anchor\" id=\"preguntas\"></a>\n",
    "\n",
    "([Volver al inicio](#inicio))\n",
    "\n",
    "Es hora de pasar al tema de cómo verificar la comprensión que el sistema tiene del texto. Recordemos que esto se comprueba de manera indirecta, mediante preguntas. Así pues, debemos implementar una manera automática de responder preguntas. Para ello requerimos tanto de una representación de las preguntas como de una manera de responderlas. Comenzaremos por lo primero.\n",
    "\n",
    "Las preguntas las representaremos mediante fórmulas abiertas. La idea es la siguiente. La respuesta a una pregunta factual es una entidad que hace verdadero un hecho. Por ejemplo, la pregunta ¿dónde está el gato? puede representarse mediante la fórmula `ESTAR(e) & SUJETO(e, gato) & EN(x)`. De esta manera, textos como \"El gato está en el tapete\", el cual se representa mediante `ESTAR(e) & SUJETO(e, gato) & EN(tapete)`, hacen evidente que la respuesta es la entidad `tapete`, la cual puede reemplazar a `x` en la pregunta y producir una oración verdadera. Veremos este método de solución de preguntas con más detalle en un momento.\n",
    "\n",
    "Por ahora, para representar preguntas, requerimos el siguiente parser:"
   ]
  },
  {
   "cell_type": "code",
   "execution_count": null,
   "metadata": {},
   "outputs": [],
   "source": [
    "parser_preguntas = load_parser('preguntas_bloques.fcfg', trace=0)"
   ]
  },
  {
   "cell_type": "markdown",
   "metadata": {},
   "source": [
    "Observe que las preguntas de tipo factual pueden representarse como fórmulas abiertas:"
   ]
  },
  {
   "cell_type": "code",
   "execution_count": null,
   "metadata": {},
   "outputs": [],
   "source": [
    "pregunta1_ = '¿ qué está encima de A ?'.split()\n",
    "pregunta1 = utils.obtener_formula(pregunta1_, parser_preguntas)\n",
    "print(pregunta1)"
   ]
  },
  {
   "cell_type": "code",
   "execution_count": null,
   "metadata": {},
   "outputs": [],
   "source": [
    "pregunta2_ = '¿ dónde está A ?'.split()\n",
    "pregunta2 = utils.obtener_formula(pregunta2_, parser_preguntas)\n",
    "print(pregunta2)"
   ]
  },
  {
   "cell_type": "markdown",
   "metadata": {},
   "source": [
    "Las variables libres de la fórmula que representa la pregunta tienen un tipo, el cual restringe los posibles candidatos de respuesta a la pregunta."
   ]
  },
  {
   "cell_type": "code",
   "execution_count": null,
   "metadata": {},
   "outputs": [],
   "source": [
    "def tipo_variable(var):\n",
    "    if var.name in ['x']:\n",
    "        return 'bloque'\n",
    "    elif var.name in ['D']:\n",
    "        return 'direccion'\n",
    "    else:\n",
    "        raise Exception(f'¡El tipo de la variable {var.name} es desconocido!')\n",
    "    \n",
    "for var in pregunta1.free():\n",
    "    print(f'El tipo de la variable {var} de la pregunta 1 es: {tipo_variable(var)}')\n",
    "\n",
    "print('')\n",
    "\n",
    "for var in pregunta2.free():\n",
    "    print(f'El tipo de la variable {var} de la pregunta 2 es: {tipo_variable(var)}')"
   ]
  },
  {
   "cell_type": "markdown",
   "metadata": {},
   "source": [
    "---"
   ]
  },
  {
   "cell_type": "markdown",
   "metadata": {},
   "source": [
    "## Resolución de preguntas <a class=\"anchor\" id=\"answer\"></a>\n",
    "\n",
    "([Volver al inicio](#inicio))\n",
    "\n",
    "La solución de preguntas sobre un texto usará el siguiente pipeline:\n",
    "\n",
    "   1. Representamos el texto mediante una base de conocimiento.\n",
    "   2. Representamos la pregunta tipo factual mediante una fórmula abierta.\n",
    "   3. Encontramos una lista de candidatos.\n",
    "   4. Por cada candidato, creamos una fórmula $\\psi$.\n",
    "   5. Verificamos si $\\psi$ se obtiene a partir de la base de conocimiento.\n",
    "   \n",
    "Veámos el siguiente ejemplo en forma diagramática:\n",
    "   \n",
    "   <img src=\"./imagenes/pipeline.png\" width=\"600\"/>\n",
    "   \n",
    "Explicaremos cada uno de los pasos a continuación."
   ]
  },
  {
   "cell_type": "markdown",
   "metadata": {},
   "source": [
    "**Representación del texto mediante una base de conocimiento**\n",
    "\n",
    "En este paso creamos una base de conocimiento, la cual alimentamos con el texto y con información de dominio. El texto debemos representarlo mediante fórmulas de la lógica proposicional y las incluimos en los hechos de la base. La información de dominio las representamos mediante reglas que incluimos en las reglas de la base. Explicaremos los pasos mediante el siguiente texto:\n",
    "\n",
    "* Dominio: El mundo de los bloques.\n",
    "* Texto: \"A está a la izquierda de B. C está a la derecha de B. C está encima de D.\"\n",
    "\n"
   ]
  },
  {
   "cell_type": "code",
   "execution_count": null,
   "metadata": {},
   "outputs": [],
   "source": [
    "texto = \"A está a la izquierda de B. C está a la derecha de B. C está encima de D.\"\n",
    "texto = [oracion for oracion in texto.split('.') if oracion != '']\n",
    "formulas = []\n",
    "# Por cada oración del texto\n",
    "for oracion_ in texto:\n",
    "    oracion = oracion_.split()\n",
    "    formula = utils.obtener_formula(oracion, parser_bloques)\n",
    "    formulas.append(formula)\n",
    "bk = LPQuery([str(f) for f in formulas])\n",
    "print(bk)"
   ]
  },
  {
   "cell_type": "markdown",
   "metadata": {},
   "source": [
    "El texto menciona tanto las entidades como los predicados, los cuales podemos extraer de las fórmulas usando la clase `Modelo` del módulo `parseMod`:"
   ]
  },
  {
   "cell_type": "code",
   "execution_count": null,
   "metadata": {},
   "outputs": [],
   "source": [
    "# Instaciamos la clase Modelo para obtener la lista de candidatos\n",
    "M = Modelo()\n",
    "M.poblar_con(Ytoria(formulas))\n",
    "print(M)"
   ]
  },
  {
   "cell_type": "markdown",
   "metadata": {},
   "source": [
    "**Representación de la pregunta y lista de candidatos**\n",
    "\n",
    "Vamos a representar las preguntas:\n",
    "\n",
    "    * ¿qué está a la izquierda de B?\n",
    "    * ¿dónde está C?"
   ]
  },
  {
   "cell_type": "code",
   "execution_count": null,
   "metadata": {},
   "outputs": [],
   "source": [
    "pregunta1_ = '¿ qué está a la izquierda de B ?'.split()\n",
    "pregunta1 = utils.obtener_formula(pregunta1_, parser_preguntas)\n",
    "print('La representación de la pregunta')\n",
    "print('\\n\\t¿qué está a la izquierda de B?')\n",
    "print('es:\\n\\t', pregunta1)\n",
    "pregunta2_ = '¿ dónde está C ?'.split()\n",
    "pregunta2 = utils.obtener_formula(pregunta2_, parser_preguntas)\n",
    "print('La representación de la pregunta')\n",
    "print('\\n\\t¿dónde está C?')\n",
    "print('es:\\n\\t', pregunta2)"
   ]
  },
  {
   "cell_type": "markdown",
   "metadata": {},
   "source": [
    "Ahora debemos crear una lista de fórmulas que corresponden a los candidatos. Para ello, echaremos mano del objeto `Modelo`, el cual tiene guardados los bloques y direcciones:"
   ]
  },
  {
   "cell_type": "code",
   "execution_count": null,
   "metadata": {},
   "outputs": [],
   "source": [
    "print('Candidatos pregunta 1:')\n",
    "candidatos_pregunta1 = {}\n",
    "# Obtenemos la lista de bloques a partir del modelo\n",
    "bloques = M.entidades[\"individuo\"]\n",
    "# Iteramos por cada bloque para producir una fórmula\n",
    "for bloque in bloques:\n",
    "    formula = lp.parse(fr'\\x.{pregunta1}({bloque})').simplify()\n",
    "    print(formula)\n",
    "    # Guardamos la fórmula correspondiente al candidato\n",
    "    candidatos_pregunta1[str(bloque)] = str(formula)   \n",
    "print('')\n",
    "print('Candidatos pregunta 2:')\n",
    "candidatos_pregunta2 = {}\n",
    "# Obtenemos los predicados a partir del modelo\n",
    "direcciones = M.predicados\n",
    "# Iteramos sobre la combinación de predicados y bloques\n",
    "for direccion, bloque in product(direcciones, bloques):\n",
    "    formula = lp.parse(fr'\\D(\\x.{pregunta2}({bloque}))({direccion})').simplify()\n",
    "    print(formula)\n",
    "    # Guardamos la fórmula correspondiente a la combinación\n",
    "    candidatos_pregunta2[(str(direccion),str(bloque))] = str(formula)"
   ]
  },
  {
   "cell_type": "markdown",
   "metadata": {},
   "source": [
    "**Verificación de implicación**\n",
    "\n",
    "El último paso es verificar, por cada fórmula candidata $\\psi$, si esta se sigue lógicamente de la fórmula $\\phi$ que representa el texto. Para lograr esto, usaremos el método `ask()` de la base de conocimiento:"
   ]
  },
  {
   "cell_type": "code",
   "execution_count": null,
   "metadata": {},
   "outputs": [],
   "source": [
    "print('Nuestra base de conocimiento es:')\n",
    "print('')\n",
    "print(bk)\n",
    "print('='*10, 'Pregunta 1', '='*10)\n",
    "print(f'\\n\\t {\" \".join(pregunta1_)}')\n",
    "for variables in candidatos_pregunta1.keys():\n",
    "    formula_candidata = candidatos_pregunta1[variables]\n",
    "    res = bk.ask(formula_candidata)\n",
    "    if res == 'exito':\n",
    "        print(f'\\nRespuesta:\\n\\n\\t{variables}')\n",
    "print('\\n\\n')\n",
    "print('='*10, 'Pregunta 2', '='*10)\n",
    "print(f'\\n\\t {\" \".join(pregunta2_)}')\n",
    "for variables in candidatos_pregunta2.keys():\n",
    "    formula_candidata = candidatos_pregunta2[variables]\n",
    "    res = bk.ask(formula_candidata)\n",
    "    if res == 'exito':\n",
    "        print(f'\\nRespuesta:\\n\\n\\t{variables}')"
   ]
  },
  {
   "cell_type": "markdown",
   "metadata": {},
   "source": [
    "<a class=\"anchor\" id=\"ej6\"></a>**Ejercicio 6:** \n",
    "\n",
    "([Anterior ejercicio](#ej5))\n",
    "\n",
    "Incluya las reglas del notebook \"Razomaniento automático\" (y también aquellas reglas de dominio geométrico que sean relevantes) en la base de conocimiento para responder de manera automática las siguientes preguntas:\n",
    "\n",
    "* ¿qué está a la derecha de A?\n",
    "* ¿qué está debajo de C?\n",
    "* ¿dónde está B?\n",
    "\n",
    "Utilice la siguiente celda para comprobar su base de conocimiento."
   ]
  },
  {
   "cell_type": "code",
   "execution_count": null,
   "metadata": {},
   "outputs": [],
   "source": [
    "text_data = {\\\n",
    "    \"id\":\"texto_bloques\", \\\n",
    "    \"texto\": \"A está a la izquierda de B. C está a la derecha de B. C está encima de D.\", \\\n",
    "    \"preguntas\": [\"¿qué está encima de D?\",\n",
    "                  \"¿qué está a la derecha de B?\"], \\\n",
    "    \"respuestas\": [[('bloque_C',)], \n",
    "                   [('bloque_C',), ('bloque_D',)]]\\\n",
    "}\n",
    "\n",
    "pipeline_responder_preguntas(text_data=text_data, \n",
    "                             gramatica_texto=reglas_bloques, \n",
    "                             gramatica_preguntas='preguntas_bloques.fcfg',\n",
    "                             bk=bk,\n",
    "                             verbose=True)"
   ]
  },
  {
   "cell_type": "markdown",
   "metadata": {},
   "source": [
    "## En este notebook usted aprendió\n",
    "\n",
    "([Volver al inicio](#inicio))\n",
    "\n",
    "Usar la librería `nltk` para:\n",
    "\n",
    "* Representar fórmulas de la lógica de predicados.\n",
    "* Representar fórmulas del cálculo $\\lambda$.\n",
    "* Implementar gramáticas lógicas.\n",
    "* Combinar gramáticas lógicas y bases de conocimiento para responder preguntas."
   ]
  }
 ],
 "metadata": {
  "kernelspec": {
   "display_name": "Python 3",
   "language": "python",
   "name": "python3"
  },
  "language_info": {
   "codemirror_mode": {
    "name": "ipython",
    "version": 3
   },
   "file_extension": ".py",
   "mimetype": "text/x-python",
   "name": "python",
   "nbconvert_exporter": "python",
   "pygments_lexer": "ipython3",
   "version": "3.11.5"
  }
 },
 "nbformat": 4,
 "nbformat_minor": 4
}
