{
 "cells": [
  {
   "cell_type": "markdown",
   "metadata": {},
   "source": [
    "<table>\n",
    "    <tr>\n",
    "        <td><img src=\"./imagenes/Macc.png\" width=\"400\"/></td>\n",
    "        <td>&nbsp;</td>\n",
    "        <td>\n",
    "            <h1 style=\"color:blue;text-align:left\">Inteligencia Artificial</h1></td>\n",
    "        <td>\n",
    "            <table><tr>\n",
    "            <tp><p style=\"font-size:150%;text-align:center\">Notebook</p></tp>\n",
    "            <tp><p style=\"font-size:150%;text-align:center\">Bases de conocimiento</p></tp>\n",
    "            </tr></table>\n",
    "        </td>\n",
    "    </tr>\n",
    "</table>\n",
    "\n",
    "---\n"
   ]
  },
  {
   "cell_type": "markdown",
   "metadata": {},
   "source": [
    "## Objetivo <a class=\"anchor\" id=\"inicio\"></a>\n",
    "\n",
    "En este notebook veremos una manera de implementar una base de conocimiento sobre la cual se ejecutan los algoritmos de deducción forward-chaining y backward-chaining. \n",
    "\n",
    "## Secciones\n",
    "\n",
    "Desarrollaremos la explicación en las siguientes secciones:\n",
    "\n",
    "* [Base de conocimiento.](#base)\n",
    "* [Forward chaining.](#forward)\n",
    "* [Backward chaining.](#backward)\n",
    "* [TELL y ASK.](#tell)\n"
   ]
  },
  {
   "cell_type": "markdown",
   "metadata": {},
   "source": [
    "## Base de conocimiento <a class=\"anchor\" id=\"base\"></a>\n",
    "\n",
    "([Volver al inicio](#inicio))\n",
    "\n",
    "Una base de conocimiento es una estructura sobre la cual se pueden hacer consultas de objetivos. Más adelante usaremos las estrategias de forward y backward chaining para hacer las consultas. Lo que necesitamos ahora es una implementación de la base de conocimiento en python. \n",
    "\n",
    "Una base de conocimiento tiene dos partes: \n",
    "\n",
    "* Los hechos, que son literales que ya sabemos como verdaderos; \n",
    "* Las reglas, que representan el conocimiento que se aplicará sobre los datos para obtener nuevos hechos.\n",
    "\n",
    "Implementaremos una base de conocimiento mediante la clase `LPQuery`, que se encuentra en la librería `logica`:"
   ]
  },
  {
   "cell_type": "code",
   "execution_count": 1,
   "metadata": {},
   "outputs": [],
   "source": [
    "from logica import LPQuery"
   ]
  },
  {
   "cell_type": "markdown",
   "metadata": {},
   "source": [
    "Inicializamos una base de conocimiento con el ejemplo de las diapositivas:"
   ]
  },
  {
   "cell_type": "code",
   "execution_count": 2,
   "metadata": {},
   "outputs": [
    {
     "name": "stdout",
     "output_type": "stream",
     "text": [
      "Hechos:\n",
      "s\n",
      "p\n",
      "\n",
      "Reglas:\n",
      "q>r\n",
      "pYs>r\n",
      "\n"
     ]
    }
   ],
   "source": [
    "formulas = ['q>r','pYs>r','s','p']\n",
    "base_ejemplo = LPQuery(formulas)\n",
    "print(base_ejemplo)"
   ]
  },
  {
   "cell_type": "markdown",
   "metadata": {},
   "source": [
    "La clase `LPQuery` tiene los siguientes atributos:\n",
    "\n",
    "* hechos: lista de literales que ya sabemos como verdaderos.\n",
    "* reglas: lista de reglas que representan el conocimiento.\n",
    "* atomos: lista de los átomos que aparecen en los datos y las reglas.\n",
    "\n",
    "También tiene los siguientes métodos:\n",
    "\n",
    "* reglas_aplicables(`literal`): que devuelve una lista de reglas en la base cuya cabeza es el `literal`.\n",
    "* test_objetivo(`literal`): que devuelve verdadero si el `literal` está en los datos. \n",
    "* TELL(`formula`): que incluye en la base de conocimiento la `formula`en el lugar adecuado, dependiendo de si es un dato o una regla."
   ]
  },
  {
   "cell_type": "code",
   "execution_count": 3,
   "metadata": {},
   "outputs": [
    {
     "name": "stdout",
     "output_type": "stream",
     "text": [
      "pYs>r\n",
      "['p', 's']\n",
      "r\n"
     ]
    }
   ],
   "source": [
    "reglas = base_ejemplo.reglas\n",
    "print(reglas[1].nombre)\n",
    "print(reglas[1].antecedente)\n",
    "print(reglas[1].consecuente)"
   ]
  },
  {
   "cell_type": "code",
   "execution_count": 4,
   "metadata": {},
   "outputs": [
    {
     "data": {
      "text/plain": [
       "['q', 'r', 'p', 's']"
      ]
     },
     "execution_count": 4,
     "metadata": {},
     "output_type": "execute_result"
    }
   ],
   "source": [
    "base_ejemplo.atomos"
   ]
  },
  {
   "cell_type": "code",
   "execution_count": 5,
   "metadata": {},
   "outputs": [
    {
     "data": {
      "text/plain": [
       "['s', 'p']"
      ]
     },
     "execution_count": 5,
     "metadata": {},
     "output_type": "execute_result"
    }
   ],
   "source": [
    "base_ejemplo.hechos"
   ]
  },
  {
   "cell_type": "markdown",
   "metadata": {},
   "source": [
    "## Forward chaining <a class=\"anchor\" id=\"forward\"></a>\n",
    "\n",
    "([Volver al inicio](#inicio))"
   ]
  },
  {
   "cell_type": "markdown",
   "metadata": {},
   "source": [
    "El siguiente es el pseudo código de la función `pl_fc_entails`, que implementa la estratégia de deducción forward chaining:\n",
    "\n",
    "<img src=\"./imagenes/forward-chaining.png\" width=\"550\"/>"
   ]
  },
  {
   "cell_type": "markdown",
   "metadata": {},
   "source": [
    "**Ejercicio 2:**\n",
    "\n",
    "Implemente un código python con el algoritmo `pl_fc_entails`. Verifique cuáles de las letras 'p', 'q', 'r', o 's' se puede deducir a partir de la base de conocimiento creada anteriormente.\n",
    "\n",
    "**Nota:** Observe que al inicializar `queue`como la lista de literales en los hechos, es importante que `queue` sea una copia. Si se usa la instrucción `queue=base.hechos`, entonces al modificar `queue` se modifica también `base.hechos`. Para que no suceda esto, se puede utilizar `queue=deepcopy(base.hechos)` (observe que hay que importar `deepcopy` de la libería `copy`)."
   ]
  },
  {
   "cell_type": "code",
   "execution_count": 6,
   "metadata": {},
   "outputs": [],
   "source": [
    "from copy import deepcopy"
   ]
  },
  {
   "cell_type": "code",
   "execution_count": 7,
   "metadata": {},
   "outputs": [],
   "source": [
    "def pl_fc_entails(kb: LPQuery, q: str):\n",
    "    \n",
    "    # dictionary with the rule (as plain text) as a key\n",
    "    # and the number of requirements (facts needed) in order to \n",
    "    # \"unlock\" the conclusion from the precedent.\n",
    "    count    = {r.nombre: len(r.antecedente) for r in kb.reglas}\n",
    "    \n",
    "    # keeps track of the facts we have visited, and wheter we \n",
    "    # unlocked them\n",
    "    inferred = {s: False for s in kb.atomos}\n",
    "    \n",
    "    # list of facts we will be expanding in order \n",
    "    # to derive q\n",
    "    queue    = deepcopy(kb.hechos)\n",
    "    \n",
    "    # when we run out of facts to expand the inferred letters\n",
    "    # we stop\n",
    "    while len(queue) != 0:\n",
    "        \n",
    "        # take one of the facts we have\n",
    "        p = queue.pop()\n",
    "        \n",
    "        # check if it is the fact we were searching for\n",
    "        if p == q:\n",
    "            return True\n",
    "        \n",
    "        # if it was not the fact and if we have not inferred that clause\n",
    "        # then we are going to infer that atom\n",
    "        if not inferred[p]:\n",
    "            inferred[p] = True\n",
    "        \n",
    "            # after we infer that atom \n",
    "            # it is now a fact \n",
    "            for clause in kb.reglas:\n",
    "                \n",
    "                # because we have a new fact we are going to decrease \n",
    "                # the count on the requirements we had on our dict \"count\"\n",
    "                if p in clause.nombre:\n",
    "                    count[clause.nombre] -= 1\n",
    "                \n",
    "                # if we have unlocked everything we needed for a clause\n",
    "                # to hapen then, we should add the consequence from it \n",
    "                # to the list of facts (for later use).\n",
    "                if count[clause.nombre] == 0:\n",
    "                    queue.append(clause.consecuente)\n",
    "                    \n",
    "    return False"
   ]
  },
  {
   "cell_type": "markdown",
   "metadata": {},
   "source": [
    "La respuesta debe ser:\n",
    "\n",
    "```\n",
    "El átomo p se deduce de la base?: True\n",
    "El átomo q se deduce de la base?: False\n",
    "El átomo r se deduce de la base?: True\n",
    "El átomo s se deduce de la base?: True\n",
    "```"
   ]
  },
  {
   "cell_type": "code",
   "execution_count": 8,
   "metadata": {},
   "outputs": [
    {
     "name": "stdout",
     "output_type": "stream",
     "text": [
      "El átomo p se deduce de la base?: True\n",
      "El átomo q se deduce de la base?: False\n",
      "El átomo r se deduce de la base?: True\n",
      "El átomo s se deduce de la base?: True\n"
     ]
    }
   ],
   "source": [
    "print(\"El átomo p se deduce de la base?: {}\".format(pl_fc_entails(base_ejemplo, 'p')))\n",
    "print(\"El átomo q se deduce de la base?: {}\".format(pl_fc_entails(base_ejemplo, 'q')))\n",
    "print(\"El átomo r se deduce de la base?: {}\".format(pl_fc_entails(base_ejemplo, 'r')))\n",
    "print(\"El átomo s se deduce de la base?: {}\".format(pl_fc_entails(base_ejemplo, 's')))"
   ]
  },
  {
   "cell_type": "markdown",
   "metadata": {},
   "source": [
    "---"
   ]
  },
  {
   "cell_type": "markdown",
   "metadata": {},
   "source": [
    "## Backward chaining <a class=\"anchor\" id=\"backward\"></a>\n",
    "\n",
    "([Volver al inicio](#inicio))"
   ]
  },
  {
   "cell_type": "markdown",
   "metadata": {},
   "source": [
    "El siguiente es el pseudocódigo de la función `and_or_graph_search`, el cual implementa la estratégia de deducción backward chaining:\n",
    "\n",
    "<img src=\"./imagenes/and-or-search.png\" width=\"520\"/>"
   ]
  },
  {
   "cell_type": "markdown",
   "metadata": {},
   "source": [
    "**Ejercicio 3:**\n",
    "\n",
    "Implemente un código python con el algoritmo `and_or_graph_search`. Verifique cuáles de las letras 'p', 'q', 'r', o 's' se puede deducir a partir de la base de conocimiento creada anteriormente."
   ]
  },
  {
   "cell_type": "code",
   "execution_count": 9,
   "metadata": {},
   "outputs": [],
   "source": [
    "def and_or_graph_search(objetive: str,\n",
    "                        base:     LPQuery) -> bool:\n",
    "    \n",
    "    return or_search(objetive, base, [])\n",
    "\n",
    "def or_search(consequent: str,\n",
    "              base:       LPQuery,\n",
    "              path:       list) -> bool:\n",
    "    \n",
    "    # checks if the objetive is acomplished\n",
    "    if base.test_objetivo(consequent): return True\n",
    "    \n",
    "    # if not and the consequent is is still in the path \n",
    "    # return Failure\n",
    "    elif consequent in path: return False\n",
    "\n",
    "    # if the consequent is not in the path \n",
    "    # then check the available rules for it\n",
    "    for available_rule in base.reglas_aplicables(consequent):\n",
    "        \n",
    "        # prepend the consequent to the path \n",
    "        # and pass this new path to the and search to get a result\n",
    "        path2  = [consequent] + path\n",
    "        result = and_search(available_rule.consecuente, \n",
    "                            base, \n",
    "                            path2)\n",
    "        \n",
    "        if result:\n",
    "            return result\n",
    "\n",
    "    return False\n",
    "\n",
    "def and_search(literals: str, \n",
    "               base:     LPQuery, \n",
    "               path:     list):\n",
    "    \n",
    "    # for each literal in the consequent\n",
    "    # make a plan\n",
    "    for consequent in literals:\n",
    "        \n",
    "        # \n",
    "        plan = or_search(consequent, base, path)\n",
    "        \n",
    "        if not plan:\n",
    "            return False\n",
    "        \n",
    "    return True"
   ]
  },
  {
   "cell_type": "markdown",
   "metadata": {},
   "source": [
    "La respuesta debe ser:\n",
    "\n",
    "```\n",
    "El átomo p se deduce de la base?: success\n",
    "El átomo q se deduce de la base?: failure\n",
    "El átomo r se deduce de la base?: success\n",
    "El átomo s se deduce de la base?: success\n",
    "```"
   ]
  },
  {
   "cell_type": "code",
   "execution_count": 16,
   "metadata": {},
   "outputs": [
    {
     "name": "stdout",
     "output_type": "stream",
     "text": [
      "El átomo p se deduce de la base?: success\n",
      "El átomo q se deduce de la base?: failure\n",
      "El átomo r se deduce de la base?: success\n",
      "El átomo s se deduce de la base?: success\n"
     ]
    }
   ],
   "source": [
    "print(\"El átomo p se deduce de la base?: {}\".format(and_or_graph_search('p', base_ejemplo)))\n",
    "print(\"El átomo q se deduce de la base?: {}\".format(and_or_graph_search('q', base_ejemplo)))\n",
    "print(\"El átomo r se deduce de la base?: {}\".format(and_or_graph_search('r', base_ejemplo)))\n",
    "print(\"El átomo s se deduce de la base?: {}\".format(and_or_graph_search('s', base_ejemplo)))"
   ]
  },
  {
   "cell_type": "markdown",
   "metadata": {},
   "source": [
    "## TELL y ASK <a class=\"anchor\" id=\"tell\"></a>\n",
    "\n",
    "([Volver al inicio](#inicio))\n",
    "\n",
    "Vamos a ver ahora cómo usar una base de conocimiento. Para ello, usaremos un ejemplo. Considere el *mundo de los bloques*, el cual consiste en un conjunto de bloques de forma cúbica, los cuales se encuentran encima de una mesa arbitrariamente grande. Los bloques se pueden apilar, pero solo se puede poner un bloque directamente encima de otro. El agente puede levantar un bloque y moverlo a otra posición, ya sea encima de la mesa o encima de otro bloque. El brazo no puede levantar un bloque que tiene otro encima.\n",
    "\n",
    "<img src=\"./imagenes/bloques2.png\" width=\"auto\"/>\n",
    "\n",
    "Podemos crear una base de conocimiento que describa el mundo en la figura anterior. Por ejemplo, sabemos que:\n",
    "\n",
    "* $A$ está debajo de $C$.\n",
    "* $B$ está a la izquierda de $A$.\n",
    "* $C$ es morado.\n",
    "\n",
    "Podemos usar la siguiente representación de estos hechos:\n",
    "\n",
    "* `debajo(a,c)`\n",
    "* `izquierda(b,a)`\n",
    "* `morado(c)`\n",
    "\n",
    "También sabemos, por sentido común, que:\n",
    "\n",
    "* Si $B$ está a la izquierda de $A$, entonces $A$ está a la derecha de $B$.\n",
    "* Si $C$ es morado, entonces no es verde.\n",
    "\n",
    "Podemos usar la siguiente representación de estas reglas:\n",
    "\n",
    "* `izquierda(b,a)>derecha(a,b)`\n",
    "* `morado(c)>-verde(c)`"
   ]
  },
  {
   "cell_type": "markdown",
   "metadata": {},
   "source": [
    "**La función TELL:**\n",
    "\n",
    "La función TELL nos sirve para actualizar la base de conocimiento. Le podemos decir que una fórmula es verdadera. La función reconoce si la fórmula es un hecho o una regla, y lo incluye en el lugar apropiado (evitando repeticiones)."
   ]
  },
  {
   "cell_type": "code",
   "execution_count": 11,
   "metadata": {},
   "outputs": [
    {
     "name": "stdout",
     "output_type": "stream",
     "text": [
      "Hechos:\n",
      "debajo(a,c)\n",
      "izquierda(b,a)\n",
      "morado(c)\n",
      "\n",
      "Reglas:\n",
      "izquierda(b,a)>derecha(a,b)\n",
      "morado(c)>-verde(c)\n",
      "\n"
     ]
    }
   ],
   "source": [
    "from logica import LPQuery\n",
    "\n",
    "base = LPQuery([])\n",
    "base.TELL('debajo(a,c)')\n",
    "base.TELL('izquierda(b,a)')\n",
    "base.TELL('morado(c)')\n",
    "base.TELL('izquierda(b,a)>derecha(a,b)')\n",
    "base.TELL('morado(c)>-verde(c)')\n",
    "print(base)"
   ]
  },
  {
   "cell_type": "markdown",
   "metadata": {},
   "source": [
    "**La función ASK:**\n",
    "\n",
    "Una base de conocimiento sirve para hacer consultas. Para hacer una consulta, debemos tener un objetivo, que es un hecho que queremos conocer si se deduce o no de la base.\n",
    "\n",
    "Usaremos la siguiente función ASK:\n",
    "\n",
    "<img src=\"./imagenes/ask.png\" width=\"520\"/>"
   ]
  },
  {
   "cell_type": "markdown",
   "metadata": {},
   "source": [
    "**Ejercicio 4:**\n",
    "\n",
    "Implemente la función ASK para preguntarle a la base de conocimiento si sabemos que $C$ es verde, si NO sabemos que $C$ es naranja y si sabemos que $A$. está a la derecha de $B$."
   ]
  },
  {
   "cell_type": "code",
   "execution_count": 12,
   "metadata": {},
   "outputs": [
    {
     "name": "stdout",
     "output_type": "stream",
     "text": [
      "Sabemos que C es verde?: None\n",
      "No sabemos que C es naranja?: None\n",
      "Sabemos que A está a la derecha de B?: None\n"
     ]
    }
   ],
   "source": [
    "def ASK(objetivo, valor, base):\n",
    "    pass\n",
    "\n",
    "print('Sabemos que C es verde?:', ASK('verde(c)', 'success', base))\n",
    "print('No sabemos que C es naranja?:', ASK('naranja(c)', 'failure', base))\n",
    "print('Sabemos que A está a la derecha de B?:', ASK('derecha(a,b)', 'success', base))"
   ]
  },
  {
   "cell_type": "markdown",
   "metadata": {},
   "source": [
    "**Nota:**\n",
    "\n",
    "La respuesta debe ser:\n",
    "```\n",
    "Sabemos que C es verde?: False\n",
    "No sabemos que C es naranja?: True\n",
    "Sabemos que A está a la derecha de B?: True\n",
    "```"
   ]
  },
  {
   "cell_type": "markdown",
   "metadata": {},
   "source": [
    "---"
   ]
  },
  {
   "cell_type": "markdown",
   "metadata": {},
   "source": [
    "Podemos generalizar la regla de los colores de la siguiente manera. Creamos un conjunto de bloques y otro de colores:"
   ]
  },
  {
   "cell_type": "code",
   "execution_count": 13,
   "metadata": {},
   "outputs": [],
   "source": [
    "bloques = ['a', 'b', 'c']\n",
    "colores = ['verde', 'morado', 'naranja']"
   ]
  },
  {
   "cell_type": "markdown",
   "metadata": {},
   "source": [
    "Le decimos a la base de conocimiento que si un bloque es de un color, entonces no es del otro color:"
   ]
  },
  {
   "cell_type": "code",
   "execution_count": 14,
   "metadata": {},
   "outputs": [],
   "source": [
    "for bloque in bloques:\n",
    "    for color in colores:\n",
    "        for otro_color in [c for c in colores if c != color]:\n",
    "            base.TELL(f'{color}({bloque})>-{otro_color}({bloque})')"
   ]
  },
  {
   "cell_type": "markdown",
   "metadata": {},
   "source": [
    "**Ejercicio 5:**\n",
    "\n",
    "Dígale a la base de conocimiento el color de los bloques y consulte si sabemos que $A$ no es morado."
   ]
  },
  {
   "cell_type": "markdown",
   "metadata": {},
   "source": [
    "---"
   ]
  },
  {
   "cell_type": "markdown",
   "metadata": {},
   "source": [
    "**Ejercicio 6:**\n",
    "\n",
    "En este ejercicio se pide hacer lo siguiente:\n",
    "\n",
    "* Generalice las reglas de que si un bloque está debajo de otro, este último está arriba del primero. \n",
    "* Consulte si sabemos que $C$ está arriba de $A$."
   ]
  },
  {
   "cell_type": "markdown",
   "metadata": {},
   "source": [
    "---"
   ]
  },
  {
   "cell_type": "markdown",
   "metadata": {},
   "source": [
    "**Ejercicio 7:**\n",
    "\n",
    "En este ejercicio se pide hacer lo siguiente:\n",
    "\n",
    "* Observe que si un bloque está arriba o debajo de otro, entonces el primero hereda todas las relaciones de izquierda y derecha del segundo. Incluya estas reglas en la base de conocimiento. \n",
    "* Consulte si sabemos que $C$ está a la derecha de $B$."
   ]
  },
  {
   "cell_type": "markdown",
   "metadata": {},
   "source": [
    "---"
   ]
  },
  {
   "cell_type": "markdown",
   "metadata": {},
   "source": [
    "## En este notebook usted aprendió\n",
    "\n",
    "* Las reglas como un fragmento de la lógica proposicional para la deducción automática.\n",
    "* El algoritmo de deducción mediante forward-chaining.\n",
    "* El algoritmo de deducción mediante backward-chaining.\n",
    "* El uso de reglas y de las bases de conocimiento para obtener nueva información.\n"
   ]
  }
 ],
 "metadata": {
  "kernelspec": {
   "display_name": "Python 3 (ipykernel)",
   "language": "python",
   "name": "python3"
  },
  "language_info": {
   "codemirror_mode": {
    "name": "ipython",
    "version": 3
   },
   "file_extension": ".py",
   "mimetype": "text/x-python",
   "name": "python",
   "nbconvert_exporter": "python",
   "pygments_lexer": "ipython3",
   "version": "3.9.12"
  }
 },
 "nbformat": 4,
 "nbformat_minor": 4
}
