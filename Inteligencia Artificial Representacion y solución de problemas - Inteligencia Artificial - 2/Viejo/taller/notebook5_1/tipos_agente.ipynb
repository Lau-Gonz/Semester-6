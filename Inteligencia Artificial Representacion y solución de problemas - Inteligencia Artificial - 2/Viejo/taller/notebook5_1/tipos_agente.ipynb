{
 "cells": [
  {
   "cell_type": "markdown",
   "metadata": {},
   "source": [
    "<table>\n",
    "    <tr>\n",
    "        <td><img src=\"./imagenes/Macc.png\" width=\"400\"/></td>\n",
    "        <td>&nbsp;</td>\n",
    "        <td>\n",
    "            <h1 style=\"color:blue;text-align:left\">Inteligencia Artificial</h1></td>\n",
    "        <td>\n",
    "            <table><tr>\n",
    "            <tp><p style=\"font-size:150%;text-align:center\">Notebook</p></tp>\n",
    "            <tp><p style=\"font-size:150%;text-align:center\">Arquitecturas de agentes</p></tp>\n",
    "            </tr></table>\n",
    "        </td>\n",
    "    </tr>\n",
    "</table>\n",
    "\n",
    "---\n"
   ]
  },
  {
   "cell_type": "markdown",
   "metadata": {},
   "source": [
    "## Objetivo <a class=\"anchor\" id=\"inicio\"></a>\n",
    "\n",
    "En este notebook ejemplificaremos los dos tipos más sencillos de agente: dirigido por tabla y de respuesta simple. Usaremos el problema del laberinto para implementar los programa de agente para intentar salir del laberinto.\n"
   ]
  },
  {
   "cell_type": "markdown",
   "metadata": {},
   "source": [
    "## Secciones\n",
    "\n",
    "Desarrollaremos la explicación en las siguientes secciones:\n",
    "\n",
    "1. [El ambiente del laberinto](#lab)\n",
    "2. [Un agente dirigido por tabla](#agenteTD)\n",
    "3. [Un agente de reflejo simple](#agenteSR)\n",
    "4. [Pruebas de desempeño](#pruebas)"
   ]
  },
  {
   "cell_type": "markdown",
   "metadata": {},
   "source": [
    "## El ambiente del laberinto <a class=\"anchor\" id=\"lab\"></a>\n",
    "\n",
    "([Volver al inicio](#inicio))\n",
    "\n",
    "En el problema del laberinto la percepción del agente está basada en una colección de sensores que se encienden cuando detectan un obstáculo, organizados de la siguiente manera:\n",
    "\n",
    "`[sensor frontal, sensor izquierdo, sensor derecho, sensor trasero]`\n",
    "\n",
    "Los valores de los sensores se obtienen mediante el método `para_sentidos()` de la clase `Laberinto` y se almacenan en el atributo `perceptos` de un objeto de clase `Agente`. Veamos la implementación de la percepción del agente directamente en el ejemplo donde el agente comienza en la casilla $(11,11)$:"
   ]
  },
  {
   "cell_type": "code",
   "execution_count": 5,
   "metadata": {},
   "outputs": [
    {
     "data": {
      "image/png": "[encoded data removed]",
      "text/plain": [
       "<Figure size 576x576 with 1 Axes>"
      ]
     },
     "metadata": {
      "needs_background": "light"
     },
     "output_type": "display_data"
    },
    {
     "name": "stdout",
     "output_type": "stream",
     "text": [
      "La lista de sensores es:\n",
      "[sensor frontal, sensor izquierdo, sensor derecho, sensor trasero]\n",
      "Los valores en la casilla (11,11) son:\n",
      "[False, False, True, True]\n"
     ]
    }
   ],
   "source": [
    "from agentes import *\n",
    "lab = Laberinto(pos_inicial=(11,11))\n",
    "lab.pintar()\n",
    "agente = Agente()\n",
    "agente.perceptos = lab.para_sentidos()\n",
    "print('La lista de sensores es:')\n",
    "print('[sensor frontal, sensor izquierdo, sensor derecho, sensor trasero]')\n",
    "print('Los valores en la casilla (11,11) son:')\n",
    "print(agente.perceptos)"
   ]
  },
  {
   "cell_type": "markdown",
   "metadata": {},
   "source": [
    "Las acciones posibles del agente son:\n",
    "\n",
    "* adelante: el agente avanza una casilla.\n",
    "* voltearIzquierda: el agente gira 90º en contra de las manecillas del reloj.\n",
    "* voltearDerecha: el agente gira 90º a favor de las manecillas del reloj.\n",
    "\n",
    "Cada acción del agente tiene un efecto en el entorno, implementado mediante el método `transicion()` de la clase `Laberinto`. Veamos un ejemplo en donde el agente parte de la casilla $(11,11)$ y deambula un poco por el laberinto:"
   ]
  },
  {
   "cell_type": "code",
   "execution_count": 274,
   "metadata": {},
   "outputs": [
    {
     "data": {
      "image/png": "[encoded data removed]",
      "text/plain": [
       "<Figure size 576x576 with 1 Axes>"
      ]
     },
     "metadata": {
      "needs_background": "light"
     },
     "output_type": "display_data"
    },
    {
     "name": "stdout",
     "output_type": "stream",
     "text": [
      "[False, False, False, False]\n"
     ]
    }
   ],
   "source": [
    "from agentes import *\n",
    "from time import sleep\n",
    "from IPython.display import clear_output\n",
    "import matplotlib.pyplot as plt\n",
    "\n",
    "lab = Laberinto(pos_inicial=(11,11))\n",
    "acciones = ['adelante', 'adelante', 'voltearIzquierda', \n",
    "            'adelante', 'adelante', 'adelante', 'voltearDerecha', 'adelante']\n",
    "\n",
    "lab.pintar()\n",
    "\n",
    "for a in acciones:\n",
    "    lab.transicion(a)\n",
    "    clear_output(wait=True)\n",
    "    lab.pintar()\n",
    "    plt.show()\n",
    "    sleep(.95)    \n",
    "    print(lab.para_sentidos())\n"
   ]
  },
  {
   "cell_type": "markdown",
   "metadata": {},
   "source": [
    "**Ejercicio 1:**\n",
    "\n",
    "Deambule aleatoriamente por diez pasos y presente en cada una de ellas lo que perciben los sensores del agente."
   ]
  },
  {
   "cell_type": "markdown",
   "metadata": {},
   "source": [
    "---"
   ]
  },
  {
   "cell_type": "code",
   "execution_count": 8,
   "metadata": {},
   "outputs": [
    {
     "data": {
      "image/png": "[encoded data removed]",
      "text/plain": [
       "<Figure size 576x576 with 1 Axes>"
      ]
     },
     "metadata": {
      "needs_background": "light"
     },
     "output_type": "display_data"
    },
    {
     "name": "stdout",
     "output_type": "stream",
     "text": [
      "[False, True, False, True]\n"
     ]
    }
   ],
   "source": [
    "from random import random, choice\n",
    "\n",
    "lab = Laberinto(pos_inicial=(11,11))\n",
    "acciones_posibles = ('voltearIzquierda', 'voltearDerecha', 'adelante')\n",
    "lab.pintar()\n",
    "\n",
    "nSteps = 10\n",
    "countSteps = 0\n",
    "\n",
    "while countSteps < nSteps:\n",
    "    lab.transicion(choice(acciones_posibles))\n",
    "    clear_output(wait=True)\n",
    "    lab.pintar()\n",
    "    plt.show()\n",
    "    sleep(.95)    \n",
    "    countSteps += 1\n",
    "    print(lab.para_sentidos())"
   ]
  },
  {
   "cell_type": "markdown",
   "metadata": {},
   "source": [
    "## Un agente dirigido por tabla <a class=\"anchor\" id=\"agenteTD\"></a>\n",
    "\n",
    "([Volver al inicio](#inicio))\n",
    "\n",
    "El tipo más sencillo de un programa de agente es cuando hacemos una asociación directa entre input y output, en este caso, entre percepción y acción. Esta asociación se puede realizar mediante una tabla. \n",
    "\n",
    "Definimos la siguiente tabla (que hasta ahora sólo está definida parcialmente), la cual vincula perceptos con acciones. La tabla implementa la idea de que si el agente percibe que el frente no está bloqueado y el flanco derecho está bloqueado, entonces avanza una casilla:"
   ]
  },
  {
   "cell_type": "code",
   "execution_count": 11,
   "metadata": {},
   "outputs": [],
   "source": [
    "# (sensor frontal, sensor izquierdo, sensor derecho, sensor trasero)\n",
    "tabla = {\n",
    "    # Si el frente no está bloqueado y el flanco derecho está\n",
    "    # bloqueado, avanzar una casilla\n",
    "    (False, True, True, True):['adelante'],\n",
    "    (False, True, True, False):['adelante'],\n",
    "    (False, False, True, True):['adelante'],\n",
    "    (False, False, True, False):['adelante'],\n",
    "}"
   ]
  },
  {
   "cell_type": "markdown",
   "metadata": {},
   "source": [
    "Observe que esta regla tan simple requiere ser expresada mediante cuatro filas de la tabla.\n",
    "\n",
    "\n",
    "Ahora incluimos el programa dirigido por tabla como el método `programa()` de la clase `Agente`:"
   ]
  },
  {
   "cell_type": "code",
   "execution_count": 12,
   "metadata": {},
   "outputs": [],
   "source": [
    "def programaTD(self):\n",
    "    self.acciones += self.tabla[tuple(self.perceptos)]\n",
    "\n",
    "setattr(Agente, 'programa', programaTD)"
   ]
  },
  {
   "cell_type": "markdown",
   "metadata": {},
   "source": [
    "Observemos cómo trabaja el agente que implementa este programa:"
   ]
  },
  {
   "cell_type": "code",
   "execution_count": 13,
   "metadata": {},
   "outputs": [
    {
     "data": {
      "image/png": "[encoded data removed]",
      "text/plain": [
       "<Figure size 576x576 with 1 Axes>"
      ]
     },
     "metadata": {
      "needs_background": "light"
     },
     "output_type": "display_data"
    },
    {
     "ename": "KeyError",
     "evalue": "(True, False, True, False)",
     "output_type": "error",
     "traceback": [
      "\u001b[0;31m---------------------------------------------------------------------------\u001b[0m",
      "\u001b[0;31mKeyError\u001b[0m                                  Traceback (most recent call last)",
      "\u001b[0;32m/tmp/ipykernel_260047/1402388445.py\u001b[0m in \u001b[0;36m<module>\u001b[0;34m\u001b[0m\n\u001b[1;32m     10\u001b[0m \u001b[0;32mfor\u001b[0m \u001b[0mi\u001b[0m \u001b[0;32min\u001b[0m \u001b[0mrange\u001b[0m\u001b[0;34m(\u001b[0m\u001b[0;36m20\u001b[0m\u001b[0;34m)\u001b[0m\u001b[0;34m:\u001b[0m\u001b[0;34m\u001b[0m\u001b[0;34m\u001b[0m\u001b[0m\n\u001b[1;32m     11\u001b[0m     \u001b[0magente\u001b[0m\u001b[0;34m.\u001b[0m\u001b[0mperceptos\u001b[0m \u001b[0;34m=\u001b[0m \u001b[0mlab\u001b[0m\u001b[0;34m.\u001b[0m\u001b[0mpara_sentidos\u001b[0m\u001b[0;34m(\u001b[0m\u001b[0;34m)\u001b[0m\u001b[0;34m\u001b[0m\u001b[0;34m\u001b[0m\u001b[0m\n\u001b[0;32m---> 12\u001b[0;31m     \u001b[0ma\u001b[0m \u001b[0;34m=\u001b[0m \u001b[0magente\u001b[0m\u001b[0;34m.\u001b[0m\u001b[0mreaccionar\u001b[0m\u001b[0;34m(\u001b[0m\u001b[0;34m)\u001b[0m \u001b[0;31m# <= ver definición en agentes.py\u001b[0m\u001b[0;34m\u001b[0m\u001b[0;34m\u001b[0m\u001b[0m\n\u001b[0m\u001b[1;32m     13\u001b[0m     \u001b[0mlab\u001b[0m\u001b[0;34m.\u001b[0m\u001b[0mtransicion\u001b[0m\u001b[0;34m(\u001b[0m\u001b[0ma\u001b[0m\u001b[0;34m)\u001b[0m\u001b[0;34m\u001b[0m\u001b[0;34m\u001b[0m\u001b[0m\n\u001b[1;32m     14\u001b[0m     \u001b[0mclear_output\u001b[0m\u001b[0;34m(\u001b[0m\u001b[0mwait\u001b[0m\u001b[0;34m=\u001b[0m\u001b[0;32mTrue\u001b[0m\u001b[0;34m)\u001b[0m\u001b[0;34m\u001b[0m\u001b[0;34m\u001b[0m\u001b[0m\n",
      "\u001b[0;32m~/Documents/univ/6toSemestre/ia/taller/notebook5_1/agentes.py\u001b[0m in \u001b[0;36mreaccionar\u001b[0;34m(self)\u001b[0m\n\u001b[1;32m    171\u001b[0m         \u001b[0;32mdef\u001b[0m \u001b[0mreaccionar\u001b[0m\u001b[0;34m(\u001b[0m\u001b[0mself\u001b[0m\u001b[0;34m)\u001b[0m\u001b[0;34m:\u001b[0m\u001b[0;34m\u001b[0m\u001b[0;34m\u001b[0m\u001b[0m\n\u001b[1;32m    172\u001b[0m                 \u001b[0;32mif\u001b[0m \u001b[0mlen\u001b[0m\u001b[0;34m(\u001b[0m\u001b[0mself\u001b[0m\u001b[0;34m.\u001b[0m\u001b[0macciones\u001b[0m\u001b[0;34m)\u001b[0m \u001b[0;34m==\u001b[0m \u001b[0;36m0\u001b[0m\u001b[0;34m:\u001b[0m\u001b[0;34m\u001b[0m\u001b[0;34m\u001b[0m\u001b[0m\n\u001b[0;32m--> 173\u001b[0;31m                         \u001b[0mself\u001b[0m\u001b[0;34m.\u001b[0m\u001b[0mprograma\u001b[0m\u001b[0;34m(\u001b[0m\u001b[0;34m)\u001b[0m\u001b[0;34m\u001b[0m\u001b[0;34m\u001b[0m\u001b[0m\n\u001b[0m\u001b[1;32m    174\u001b[0m                 \u001b[0ma\u001b[0m \u001b[0;34m=\u001b[0m \u001b[0mself\u001b[0m\u001b[0;34m.\u001b[0m\u001b[0macciones\u001b[0m\u001b[0;34m.\u001b[0m\u001b[0mpop\u001b[0m\u001b[0;34m(\u001b[0m\u001b[0;36m0\u001b[0m\u001b[0;34m)\u001b[0m\u001b[0;34m\u001b[0m\u001b[0;34m\u001b[0m\u001b[0m\n\u001b[1;32m    175\u001b[0m                 \u001b[0mself\u001b[0m\u001b[0;34m.\u001b[0m\u001b[0mturno\u001b[0m \u001b[0;34m+=\u001b[0m \u001b[0;36m1\u001b[0m\u001b[0;34m\u001b[0m\u001b[0;34m\u001b[0m\u001b[0m\n",
      "\u001b[0;32m/tmp/ipykernel_260047/2684960535.py\u001b[0m in \u001b[0;36mprogramaTD\u001b[0;34m(self)\u001b[0m\n\u001b[1;32m      1\u001b[0m \u001b[0;32mdef\u001b[0m \u001b[0mprogramaTD\u001b[0m\u001b[0;34m(\u001b[0m\u001b[0mself\u001b[0m\u001b[0;34m)\u001b[0m\u001b[0;34m:\u001b[0m\u001b[0;34m\u001b[0m\u001b[0;34m\u001b[0m\u001b[0m\n\u001b[0;32m----> 2\u001b[0;31m     \u001b[0mself\u001b[0m\u001b[0;34m.\u001b[0m\u001b[0macciones\u001b[0m \u001b[0;34m+=\u001b[0m \u001b[0mself\u001b[0m\u001b[0;34m.\u001b[0m\u001b[0mtabla\u001b[0m\u001b[0;34m[\u001b[0m\u001b[0mtuple\u001b[0m\u001b[0;34m(\u001b[0m\u001b[0mself\u001b[0m\u001b[0;34m.\u001b[0m\u001b[0mperceptos\u001b[0m\u001b[0;34m)\u001b[0m\u001b[0;34m]\u001b[0m\u001b[0;34m\u001b[0m\u001b[0;34m\u001b[0m\u001b[0m\n\u001b[0m\u001b[1;32m      3\u001b[0m \u001b[0;34m\u001b[0m\u001b[0m\n\u001b[1;32m      4\u001b[0m \u001b[0msetattr\u001b[0m\u001b[0;34m(\u001b[0m\u001b[0mAgente\u001b[0m\u001b[0;34m,\u001b[0m \u001b[0;34m'programa'\u001b[0m\u001b[0;34m,\u001b[0m \u001b[0mprogramaTD\u001b[0m\u001b[0;34m)\u001b[0m\u001b[0;34m\u001b[0m\u001b[0;34m\u001b[0m\u001b[0m\n",
      "\u001b[0;31mKeyError\u001b[0m: (True, False, True, False)"
     ]
    }
   ],
   "source": [
    "from time import sleep\n",
    "from IPython.display import clear_output\n",
    "import matplotlib.pyplot as plt\n",
    "from agentes import *\n",
    "\n",
    "lab = Laberinto(pos_inicial=(11,11))\n",
    "agente = Agente()\n",
    "agente.tabla = tabla\n",
    "\n",
    "for i in range(20):\n",
    "    agente.perceptos = lab.para_sentidos()\n",
    "    a = agente.reaccionar() # <= ver definición en agentes.py\n",
    "    lab.transicion(a)\n",
    "    clear_output(wait=True)\n",
    "    lab.pintar()\n",
    "    plt.show()\n",
    "    sleep(.25)   "
   ]
  },
  {
   "cell_type": "markdown",
   "metadata": {},
   "source": [
    "El error `KeyError: (True, False, True, False)` ocurre porque la tabla no tiene ninguna fila para el percepto `(True, False, True, False)` y entonces no puede determinar ninguna acción a tomar. ¡Observe que el agente no sabe qué acción tomar en ninguna situación cuando hay un muro enfrente! "
   ]
  },
  {
   "cell_type": "markdown",
   "metadata": {},
   "source": [
    "**Ejercicio 2:**\n",
    "\n",
    "El agente llega hasta que se topa con un muro y no sabe qué hacer. Extienda la tabla anterior para incluir las líneas que determinan que \"si el frente y el flanco derecho están bloqueados y el flanco izquierdo no está bloqueado, voltear a la izquierda\".\n",
    "\n",
    "Visualice el funcionamiento del agente para comprobar su respuesta."
   ]
  },
  {
   "cell_type": "markdown",
   "metadata": {},
   "source": [
    "---"
   ]
  },
  {
   "cell_type": "code",
   "execution_count": 18,
   "metadata": {},
   "outputs": [],
   "source": [
    "# (sensor frontal, sensor izquierdo, sensor derecho, sensor trasero)\n",
    "tabla = {\n",
    "    # Si el frente no está bloqueado y el flanco derecho está\n",
    "    # bloqueado, avanzar una casilla\n",
    "    (False, True, True, True):['adelante'],\n",
    "    (False, True, True, False):['adelante'],\n",
    "    (False, False, True, True):['adelante'],\n",
    "    (False, False, True, False):['adelante'],\n",
    "    (True, False, False, False):[choice(('voltearIzquierda', 'voltearDerecha'))],\n",
    "    (True, True, False, False):['voltearDerecha'],\n",
    "    (True, False, True, False):['voltearIzquierda'],\n",
    "    \n",
    "    (False, True, False, False):['adelante'],\n",
    "    (False, False, False, False):[choice(('voltearIzquierda', 'voltearDerecha', 'adelante'))],\n",
    "}"
   ]
  },
  {
   "cell_type": "code",
   "execution_count": 19,
   "metadata": {},
   "outputs": [
    {
     "data": {
      "image/png": "[encoded data removed]",
      "text/plain": [
       "<Figure size 576x576 with 1 Axes>"
      ]
     },
     "metadata": {
      "needs_background": "light"
     },
     "output_type": "display_data"
    }
   ],
   "source": [
    "from time import sleep\n",
    "from IPython.display import clear_output\n",
    "import matplotlib.pyplot as plt\n",
    "from agentes import *\n",
    "\n",
    "lab = Laberinto(pos_inicial=(11,11))\n",
    "agente = Agente()'\n",
    "agente.tabla = tabla\n",
    "\n",
    "for i in range(20):\n",
    "    agente.perceptos = lab.para_sentidos()\n",
    "    a = agente.reaccionar() # <= ver definición en agentes.py\n",
    "    lab.transicion(a)\n",
    "    clear_output(wait=True)\n",
    "    lab.pintar()\n",
    "    plt.show()\n",
    "    sleep(.25)   "
   ]
  },
  {
   "cell_type": "markdown",
   "metadata": {},
   "source": [
    "**Ejercicio 3:**\n",
    "\n",
    "En la tabla falta incluir instrucciones que digan que \"si el flanco derecho no está bloqueado, voltear a la derecha y avanzar una casilla\". Extienda la tabla del ejercicio 2 para incluir las líneas que implementan esta regla. Visualice el funcionamiento del agente comenzando desde la casilla $(11,11)$."
   ]
  },
  {
   "cell_type": "code",
   "execution_count": 30,
   "metadata": {},
   "outputs": [],
   "source": [
    "# (sensor frontal, sensor izquierdo, sensor derecho, sensor trasero)\n",
    "tabla = {\n",
    "    # Si el frente no está bloqueado y el flanco derecho está\n",
    "    # bloqueado, avanzar una casilla\n",
    "    (False, True, True, True):['adelante'],\n",
    "    (False, True, True, False):['adelante'],\n",
    "    (False, False, True, True):['adelante'],\n",
    "    (False, False, True, False):['adelante'],\n",
    "    \n",
    "    (True, False, True, False):['voltearIzquierda'],\n",
    "    (True, True, False, False):['voltearDerecha'],\n",
    "    \n",
    "    (True,  True,  False,  True):['voltearDerecha', 'adelante'],\n",
    "    (True,  False, False,  True):['voltearDerecha', 'adelante'],\n",
    "    (False, True,  False,  True):['voltearDerecha', 'adelante'],\n",
    "    (True,  True,  False,  False):['voltearDerecha', 'adelante'],\n",
    "    \n",
    "    (True,  False,  False,  False):['voltearDerecha', 'adelante'],\n",
    "    (False,  True,  False,  False):['voltearDerecha', 'adelante'],\n",
    "    (False,  False,  False,  True):['voltearDerecha', 'adelante'],\n",
    "    (False,  False,  False,  False):['voltearDerecha', 'adelante'],\n",
    " \n",
    "    (True, True,  True,  True):[''],\n",
    "\n",
    "}"
   ]
  },
  {
   "cell_type": "code",
   "execution_count": 31,
   "metadata": {},
   "outputs": [
    {
     "data": {
      "image/png": "[encoded data removed]",
      "text/plain": [
       "<Figure size 576x576 with 1 Axes>"
      ]
     },
     "metadata": {
      "needs_background": "light"
     },
     "output_type": "display_data"
    },
    {
     "ename": "KeyError",
     "evalue": "(True, True, True, False)",
     "output_type": "error",
     "traceback": [
      "\u001b[0;31m---------------------------------------------------------------------------\u001b[0m",
      "\u001b[0;31mKeyError\u001b[0m                                  Traceback (most recent call last)",
      "\u001b[0;32m/tmp/ipykernel_260047/591907447.py\u001b[0m in \u001b[0;36m<module>\u001b[0;34m\u001b[0m\n\u001b[1;32m     10\u001b[0m \u001b[0;32mfor\u001b[0m \u001b[0mi\u001b[0m \u001b[0;32min\u001b[0m \u001b[0mrange\u001b[0m\u001b[0;34m(\u001b[0m\u001b[0;36m50\u001b[0m\u001b[0;34m)\u001b[0m\u001b[0;34m:\u001b[0m\u001b[0;34m\u001b[0m\u001b[0;34m\u001b[0m\u001b[0m\n\u001b[1;32m     11\u001b[0m     \u001b[0magente\u001b[0m\u001b[0;34m.\u001b[0m\u001b[0mperceptos\u001b[0m \u001b[0;34m=\u001b[0m \u001b[0mlab\u001b[0m\u001b[0;34m.\u001b[0m\u001b[0mpara_sentidos\u001b[0m\u001b[0;34m(\u001b[0m\u001b[0;34m)\u001b[0m\u001b[0;34m\u001b[0m\u001b[0;34m\u001b[0m\u001b[0m\n\u001b[0;32m---> 12\u001b[0;31m     \u001b[0ma\u001b[0m \u001b[0;34m=\u001b[0m \u001b[0magente\u001b[0m\u001b[0;34m.\u001b[0m\u001b[0mreaccionar\u001b[0m\u001b[0;34m(\u001b[0m\u001b[0;34m)\u001b[0m \u001b[0;31m# <= ver definición en agentes.py\u001b[0m\u001b[0;34m\u001b[0m\u001b[0;34m\u001b[0m\u001b[0m\n\u001b[0m\u001b[1;32m     13\u001b[0m     \u001b[0mlab\u001b[0m\u001b[0;34m.\u001b[0m\u001b[0mtransicion\u001b[0m\u001b[0;34m(\u001b[0m\u001b[0ma\u001b[0m\u001b[0;34m)\u001b[0m\u001b[0;34m\u001b[0m\u001b[0;34m\u001b[0m\u001b[0m\n\u001b[1;32m     14\u001b[0m     \u001b[0mclear_output\u001b[0m\u001b[0;34m(\u001b[0m\u001b[0mwait\u001b[0m\u001b[0;34m=\u001b[0m\u001b[0;32mTrue\u001b[0m\u001b[0;34m)\u001b[0m\u001b[0;34m\u001b[0m\u001b[0;34m\u001b[0m\u001b[0m\n",
      "\u001b[0;32m~/Documents/univ/6toSemestre/ia/taller/notebook5_1/agentes.py\u001b[0m in \u001b[0;36mreaccionar\u001b[0;34m(self)\u001b[0m\n\u001b[1;32m    171\u001b[0m         \u001b[0;32mdef\u001b[0m \u001b[0mreaccionar\u001b[0m\u001b[0;34m(\u001b[0m\u001b[0mself\u001b[0m\u001b[0;34m)\u001b[0m\u001b[0;34m:\u001b[0m\u001b[0;34m\u001b[0m\u001b[0;34m\u001b[0m\u001b[0m\n\u001b[1;32m    172\u001b[0m                 \u001b[0;32mif\u001b[0m \u001b[0mlen\u001b[0m\u001b[0;34m(\u001b[0m\u001b[0mself\u001b[0m\u001b[0;34m.\u001b[0m\u001b[0macciones\u001b[0m\u001b[0;34m)\u001b[0m \u001b[0;34m==\u001b[0m \u001b[0;36m0\u001b[0m\u001b[0;34m:\u001b[0m\u001b[0;34m\u001b[0m\u001b[0;34m\u001b[0m\u001b[0m\n\u001b[0;32m--> 173\u001b[0;31m                         \u001b[0mself\u001b[0m\u001b[0;34m.\u001b[0m\u001b[0mprograma\u001b[0m\u001b[0;34m(\u001b[0m\u001b[0;34m)\u001b[0m\u001b[0;34m\u001b[0m\u001b[0;34m\u001b[0m\u001b[0m\n\u001b[0m\u001b[1;32m    174\u001b[0m                 \u001b[0ma\u001b[0m \u001b[0;34m=\u001b[0m \u001b[0mself\u001b[0m\u001b[0;34m.\u001b[0m\u001b[0macciones\u001b[0m\u001b[0;34m.\u001b[0m\u001b[0mpop\u001b[0m\u001b[0;34m(\u001b[0m\u001b[0;36m0\u001b[0m\u001b[0;34m)\u001b[0m\u001b[0;34m\u001b[0m\u001b[0;34m\u001b[0m\u001b[0m\n\u001b[1;32m    175\u001b[0m                 \u001b[0mself\u001b[0m\u001b[0;34m.\u001b[0m\u001b[0mturno\u001b[0m \u001b[0;34m+=\u001b[0m \u001b[0;36m1\u001b[0m\u001b[0;34m\u001b[0m\u001b[0;34m\u001b[0m\u001b[0m\n",
      "\u001b[0;32m/tmp/ipykernel_260047/2684960535.py\u001b[0m in \u001b[0;36mprogramaTD\u001b[0;34m(self)\u001b[0m\n\u001b[1;32m      1\u001b[0m \u001b[0;32mdef\u001b[0m \u001b[0mprogramaTD\u001b[0m\u001b[0;34m(\u001b[0m\u001b[0mself\u001b[0m\u001b[0;34m)\u001b[0m\u001b[0;34m:\u001b[0m\u001b[0;34m\u001b[0m\u001b[0;34m\u001b[0m\u001b[0m\n\u001b[0;32m----> 2\u001b[0;31m     \u001b[0mself\u001b[0m\u001b[0;34m.\u001b[0m\u001b[0macciones\u001b[0m \u001b[0;34m+=\u001b[0m \u001b[0mself\u001b[0m\u001b[0;34m.\u001b[0m\u001b[0mtabla\u001b[0m\u001b[0;34m[\u001b[0m\u001b[0mtuple\u001b[0m\u001b[0;34m(\u001b[0m\u001b[0mself\u001b[0m\u001b[0;34m.\u001b[0m\u001b[0mperceptos\u001b[0m\u001b[0;34m)\u001b[0m\u001b[0;34m]\u001b[0m\u001b[0;34m\u001b[0m\u001b[0;34m\u001b[0m\u001b[0m\n\u001b[0m\u001b[1;32m      3\u001b[0m \u001b[0;34m\u001b[0m\u001b[0m\n\u001b[1;32m      4\u001b[0m \u001b[0msetattr\u001b[0m\u001b[0;34m(\u001b[0m\u001b[0mAgente\u001b[0m\u001b[0;34m,\u001b[0m \u001b[0;34m'programa'\u001b[0m\u001b[0;34m,\u001b[0m \u001b[0mprogramaTD\u001b[0m\u001b[0;34m)\u001b[0m\u001b[0;34m\u001b[0m\u001b[0;34m\u001b[0m\u001b[0m\n",
      "\u001b[0;31mKeyError\u001b[0m: (True, True, True, False)"
     ]
    }
   ],
   "source": [
    "from time import sleep\n",
    "from IPython.display import clear_output\n",
    "import matplotlib.pyplot as plt\n",
    "from agentes import *\n",
    "\n",
    "lab = Laberinto(pos_inicial=(11,11))\n",
    "agente = Agente()\n",
    "agente.tabla = tabla\n",
    "\n",
    "for i in range(50):\n",
    "    agente.perceptos = lab.para_sentidos()\n",
    "    a = agente.reaccionar() # <= ver definición en agentes.py\n",
    "    lab.transicion(a)\n",
    "    clear_output(wait=True)\n",
    "    lab.pintar()\n",
    "    plt.show()\n",
    "    sleep(.25)   "
   ]
  },
  {
   "cell_type": "markdown",
   "metadata": {},
   "source": [
    "---"
   ]
  },
  {
   "cell_type": "markdown",
   "metadata": {},
   "source": [
    "**Ejercicio 4:**\n",
    "\n",
    "* ¿Qué pasa cuando el agente comienza en la casilla $(6,3)$? Describa el comportamiento del agente y explique si el programa de agente resulta adecuado o no para este caso.\n",
    "\n",
    "* ¿Qué pasa cuando el agente comienza en la casilla $(7,3)$? Describa el comportamiento del agente y explique si el programa de agente resulta adecuado o no para este caso."
   ]
  },
  {
   "cell_type": "markdown",
   "metadata": {},
   "source": [
    "---"
   ]
  },
  {
   "cell_type": "code",
   "execution_count": 32,
   "metadata": {},
   "outputs": [
    {
     "data": {
      "image/png": "[encoded data removed]",
      "text/plain": [
       "<Figure size 576x576 with 1 Axes>"
      ]
     },
     "metadata": {
      "needs_background": "light"
     },
     "output_type": "display_data"
    }
   ],
   "source": [
    "from time import sleep\n",
    "from IPython.display import clear_output\n",
    "import matplotlib.pyplot as plt\n",
    "from agentes import *\n",
    "\n",
    "lab = Laberinto(pos_inicial=(6,3))\n",
    "agente = Agente()\n",
    "agente.tabla = tabla\n",
    "\n",
    "for i in range(20):\n",
    "    agente.perceptos = lab.para_sentidos()\n",
    "    a = agente.reaccionar() # <= ver definición en agentes.py\n",
    "    lab.transicion(a)\n",
    "    clear_output(wait=True)\n",
    "    lab.pintar()\n",
    "    plt.show()\n",
    "    sleep(.25)   "
   ]
  },
  {
   "cell_type": "code",
   "execution_count": 34,
   "metadata": {},
   "outputs": [
    {
     "data": {
      "image/png": "[encoded data removed]",
      "text/plain": [
       "<Figure size 576x576 with 1 Axes>"
      ]
     },
     "metadata": {
      "needs_background": "light"
     },
     "output_type": "display_data"
    }
   ],
   "source": [
    "from time import sleep\n",
    "from IPython.display import clear_output\n",
    "import matplotlib.pyplot as plt\n",
    "from agentes import *\n",
    "\n",
    "lab = Laberinto(pos_inicial=(7,3))\n",
    "agente = Agente()\n",
    "agente.tabla = tabla\n",
    "\n",
    "for i in range(20):\n",
    "    agente.perceptos = lab.para_sentidos()\n",
    "    a = agente.reaccionar() # <= ver definición en agentes.py\n",
    "    lab.transicion(a)\n",
    "    clear_output(wait=True)\n",
    "    lab.pintar()\n",
    "    plt.show()\n",
    "    sleep(.25)   "
   ]
  },
  {
   "cell_type": "markdown",
   "metadata": {},
   "source": [
    "## Un agente de reflejo simple <a class=\"anchor\" id=\"agenteSR\"></a>\n",
    "\n",
    "([Volver al inicio](#inicio))\n",
    "\n",
    "El proceso de escribir una tabla es bastante dispendioso, pues hay que considerar una gran cantidad de combinaciones de valores para los sensores. Un tipo de agente de nivel un poco más elevado que resuelve esta situación son los agentes de reflejo simple. El programa de este tipo de agentes está basado en relgas de condición-acción, las cuales relacionan condiciones sobre los sensores y las acciones. Al considerar condiciones en lugar de combinaciones de valores, la escritura es más eficiente.\n",
    "\n",
    "A continuación presentamos una posible implementación de un agente de reflejo simple para el problema del laberinto."
   ]
  },
  {
   "cell_type": "code",
   "execution_count": 46,
   "metadata": {},
   "outputs": [],
   "source": [
    "# perceptos[0]  =>  sensor forntal\n",
    "# perceptos[1]  =>  sensor izquierdo\n",
    "# perceptos[2]  =>  sensor derecho\n",
    "# perceptos[3]  =>  sensor trasero\n",
    "reglas = {\n",
    "    # Si el frente no está bloqueado y el flanco derecho está\n",
    "    # bloqueado, avanzar una casilla\n",
    "    'not self.perceptos[0] and self.perceptos[2]': ['adelante'],\n",
    "\n",
    "}"
   ]
  },
  {
   "cell_type": "code",
   "execution_count": 47,
   "metadata": {},
   "outputs": [],
   "source": [
    "def programaSR(self):\n",
    "    reaccion = self.reglas\n",
    "    for antecedente in self.reglas:\n",
    "        if eval(antecedente):\n",
    "            self.acciones += reaccion[antecedente]\n",
    "            break\n",
    "\n",
    "setattr(Agente, 'programa', programaSR)"
   ]
  },
  {
   "cell_type": "code",
   "execution_count": 48,
   "metadata": {},
   "outputs": [
    {
     "data": {
      "image/png": "[encoded data removed]",
      "text/plain": [
       "<Figure size 576x576 with 1 Axes>"
      ]
     },
     "metadata": {
      "needs_background": "light"
     },
     "output_type": "display_data"
    },
    {
     "ename": "IndexError",
     "evalue": "pop from empty list",
     "output_type": "error",
     "traceback": [
      "\u001b[0;31m---------------------------------------------------------------------------\u001b[0m",
      "\u001b[0;31mIndexError\u001b[0m                                Traceback (most recent call last)",
      "\u001b[0;32m/tmp/ipykernel_260047/2183621087.py\u001b[0m in \u001b[0;36m<module>\u001b[0;34m\u001b[0m\n\u001b[1;32m     10\u001b[0m \u001b[0;32mfor\u001b[0m \u001b[0mi\u001b[0m \u001b[0;32min\u001b[0m \u001b[0mrange\u001b[0m\u001b[0;34m(\u001b[0m\u001b[0;36m50\u001b[0m\u001b[0;34m)\u001b[0m\u001b[0;34m:\u001b[0m\u001b[0;34m\u001b[0m\u001b[0;34m\u001b[0m\u001b[0m\n\u001b[1;32m     11\u001b[0m     \u001b[0magente\u001b[0m\u001b[0;34m.\u001b[0m\u001b[0mperceptos\u001b[0m \u001b[0;34m=\u001b[0m \u001b[0mlab\u001b[0m\u001b[0;34m.\u001b[0m\u001b[0mpara_sentidos\u001b[0m\u001b[0;34m(\u001b[0m\u001b[0;34m)\u001b[0m\u001b[0;34m\u001b[0m\u001b[0;34m\u001b[0m\u001b[0m\n\u001b[0;32m---> 12\u001b[0;31m     \u001b[0ma\u001b[0m \u001b[0;34m=\u001b[0m \u001b[0magente\u001b[0m\u001b[0;34m.\u001b[0m\u001b[0mreaccionar\u001b[0m\u001b[0;34m(\u001b[0m\u001b[0;34m)\u001b[0m\u001b[0;34m\u001b[0m\u001b[0;34m\u001b[0m\u001b[0m\n\u001b[0m\u001b[1;32m     13\u001b[0m     \u001b[0mlab\u001b[0m\u001b[0;34m.\u001b[0m\u001b[0mtransicion\u001b[0m\u001b[0;34m(\u001b[0m\u001b[0ma\u001b[0m\u001b[0;34m)\u001b[0m\u001b[0;34m\u001b[0m\u001b[0;34m\u001b[0m\u001b[0m\n\u001b[1;32m     14\u001b[0m     \u001b[0mclear_output\u001b[0m\u001b[0;34m(\u001b[0m\u001b[0mwait\u001b[0m\u001b[0;34m=\u001b[0m\u001b[0;32mTrue\u001b[0m\u001b[0;34m)\u001b[0m\u001b[0;34m\u001b[0m\u001b[0;34m\u001b[0m\u001b[0m\n",
      "\u001b[0;32m~/Documents/univ/6toSemestre/ia/taller/notebook5_1/agentes.py\u001b[0m in \u001b[0;36mreaccionar\u001b[0;34m(self)\u001b[0m\n\u001b[1;32m    172\u001b[0m                 \u001b[0;32mif\u001b[0m \u001b[0mlen\u001b[0m\u001b[0;34m(\u001b[0m\u001b[0mself\u001b[0m\u001b[0;34m.\u001b[0m\u001b[0macciones\u001b[0m\u001b[0;34m)\u001b[0m \u001b[0;34m==\u001b[0m \u001b[0;36m0\u001b[0m\u001b[0;34m:\u001b[0m\u001b[0;34m\u001b[0m\u001b[0;34m\u001b[0m\u001b[0m\n\u001b[1;32m    173\u001b[0m                         \u001b[0mself\u001b[0m\u001b[0;34m.\u001b[0m\u001b[0mprograma\u001b[0m\u001b[0;34m(\u001b[0m\u001b[0;34m)\u001b[0m\u001b[0;34m\u001b[0m\u001b[0;34m\u001b[0m\u001b[0m\n\u001b[0;32m--> 174\u001b[0;31m                 \u001b[0ma\u001b[0m \u001b[0;34m=\u001b[0m \u001b[0mself\u001b[0m\u001b[0;34m.\u001b[0m\u001b[0macciones\u001b[0m\u001b[0;34m.\u001b[0m\u001b[0mpop\u001b[0m\u001b[0;34m(\u001b[0m\u001b[0;36m0\u001b[0m\u001b[0;34m)\u001b[0m\u001b[0;34m\u001b[0m\u001b[0;34m\u001b[0m\u001b[0m\n\u001b[0m\u001b[1;32m    175\u001b[0m                 \u001b[0mself\u001b[0m\u001b[0;34m.\u001b[0m\u001b[0mturno\u001b[0m \u001b[0;34m+=\u001b[0m \u001b[0;36m1\u001b[0m\u001b[0;34m\u001b[0m\u001b[0;34m\u001b[0m\u001b[0m\n\u001b[1;32m    176\u001b[0m                 \u001b[0;32mreturn\u001b[0m \u001b[0ma\u001b[0m\u001b[0;34m\u001b[0m\u001b[0;34m\u001b[0m\u001b[0m\n",
      "\u001b[0;31mIndexError\u001b[0m: pop from empty list"
     ]
    }
   ],
   "source": [
    "from time import sleep\n",
    "from IPython.display import clear_output\n",
    "import matplotlib.pyplot as plt\n",
    "from agentes import *\n",
    "\n",
    "lab = Laberinto(pos_inicial=(11,11))\n",
    "agente = Agente()\n",
    "agente.reglas = reglas\n",
    "\n",
    "for i in range(50):\n",
    "    agente.perceptos = lab.para_sentidos()\n",
    "    a = agente.reaccionar()\n",
    "    lab.transicion(a)\n",
    "    clear_output(wait=True)\n",
    "    lab.pintar()\n",
    "    plt.show()\n",
    "    sleep(.25) "
   ]
  },
  {
   "cell_type": "markdown",
   "metadata": {},
   "source": [
    "El error `IndexError: pop from empty list` ocurre porque la lista de acciones es vacía, toda vez que el programa aún no está equipado para dar una decisión cuando hay un muro enfrente."
   ]
  },
  {
   "cell_type": "markdown",
   "metadata": {},
   "source": [
    "**Ejercicio 5:**\n",
    "\n",
    "Extienda el programa de agente anterior para implementar las reglas condición-acción siguientes:\n",
    "\n",
    "* Si el frente y el flanco derecho están bloqueados pero el flanco izquierdo no está bloqueado, voltear a la izquierda.\n",
    "* Si el flanco derecho no está bloqueado, voltear a la derecha y avanzar una casilla.\n",
    "\n",
    "Visualice el funcionamiento del agente desde la casilla $(11,11)$."
   ]
  },
  {
   "cell_type": "code",
   "execution_count": 49,
   "metadata": {},
   "outputs": [],
   "source": [
    "# perceptos[0]  =>  sensor forntal\n",
    "# perceptos[1]  =>  sensor izquierdo\n",
    "# perceptos[2]  =>  sensor derecho\n",
    "# perceptos[3]  =>  sensor trasero\n",
    "reglas = {\n",
    "    # Si el frente no está bloqueado y el flanco derecho está\n",
    "    # bloqueado, avanzar una casilla\n",
    "    'not self.perceptos[0] and self.perceptos[2]': ['adelante'],\n",
    "    'not self.perceptos[2]': ['voltearDerecha', 'adelante'],\n",
    "    'self.perceptos[0] and self.perceptos[1]': ['voltearDerecha'],\n",
    "    'self.perceptos[0] and self.perceptos[2]': ['voltearIzquierda'],\n",
    "}\n"
   ]
  },
  {
   "cell_type": "code",
   "execution_count": 50,
   "metadata": {
    "scrolled": false
   },
   "outputs": [
    {
     "data": {
      "image/png": "[encoded data removed]",
      "text/plain": [
       "<Figure size 576x576 with 1 Axes>"
      ]
     },
     "metadata": {
      "needs_background": "light"
     },
     "output_type": "display_data"
    }
   ],
   "source": [
    "from time import sleep\n",
    "from IPython.display import clear_output\n",
    "import matplotlib.pyplot as plt\n",
    "from agentes import *\n",
    "\n",
    "lab = Laberinto(pos_inicial=(11,11))\n",
    "agente = Agente()\n",
    "agente.reglas = reglas\n",
    "\n",
    "for i in range(50):\n",
    "    agente.perceptos = lab.para_sentidos()\n",
    "    a = agente.reaccionar()\n",
    "    lab.transicion(a)\n",
    "    clear_output(wait=True)\n",
    "    lab.pintar()\n",
    "    plt.show()\n",
    "    sleep(.25) "
   ]
  },
  {
   "cell_type": "markdown",
   "metadata": {},
   "source": [
    "---"
   ]
  },
  {
   "cell_type": "markdown",
   "metadata": {},
   "source": [
    "**Ejercicio 6:**\n",
    "\n",
    "Complete las reglas del agente para que siempre tome alguna dirección y no aparezca el error `pop from empty list`."
   ]
  },
  {
   "cell_type": "code",
   "execution_count": 328,
   "metadata": {},
   "outputs": [],
   "source": [
    "# perceptos[0]  =>  sensor forntal\n",
    "# perceptos[1]  =>  sensor izquierdo\n",
    "# perceptos[2]  =>  sensor derecho\n",
    "# perceptos[3]  =>  sensor trasero\n",
    "reglas = {\n",
    "    # Si el frente no está bloqueado y el flanco derecho está\n",
    "    # bloqueado, avanzar una casilla\n",
    "    'not self.perceptos[0] and self.perceptos[2]': ['adelante'],\n",
    "    'self.perceptos[0] and self.perceptos[2] and not self.perceptos[1]': ['voltearIzquierda'],   \n",
    "    'not self.perceptos[2]': ['voltearDerecha', 'adelante'],\n",
    "    'not self.perceptos[3]': ['voltearIzquierda', 'voltearDerecha', 'voltearIzquierda'],\n",
    "}\n"
   ]
  },
  {
   "cell_type": "code",
   "execution_count": 130,
   "metadata": {},
   "outputs": [
    {
     "data": {
      "image/png": "[encoded data removed]",
      "text/plain": [
       "<Figure size 576x576 with 1 Axes>"
      ]
     },
     "metadata": {
      "needs_background": "light"
     },
     "output_type": "display_data"
    }
   ],
   "source": [
    "from time import sleep\n",
    "from IPython.display import clear_output\n",
    "import matplotlib.pyplot as plt\n",
    "from agentes import *\n",
    "\n",
    "lab = Laberinto(pos_inicial=(11,11))\n",
    "agente = Agente()\n",
    "agente.reglas = reglas\n",
    "\n",
    "for i in range(50):\n",
    "    agente.perceptos = lab.para_sentidos()\n",
    "    a = agente.reaccionar()\n",
    "    lab.transicion(a)\n",
    "    clear_output(wait=True)\n",
    "    lab.pintar()\n",
    "    plt.show()\n",
    "    sleep(.10) "
   ]
  },
  {
   "cell_type": "markdown",
   "metadata": {},
   "source": [
    "---"
   ]
  },
  {
   "cell_type": "markdown",
   "metadata": {},
   "source": [
    "**Ejercicio 7:**\n",
    "\n",
    "¿Cree usted que es posible implementar un agente de respuesta simple para encontrar una salida al comenzar en las casillas $(6,3)$ y $(7,3)$? Justifique su respuesta."
   ]
  },
  {
   "cell_type": "markdown",
   "metadata": {},
   "source": [
    "---"
   ]
  },
  {
   "cell_type": "markdown",
   "metadata": {},
   "source": [
    "## Pruebas de desempeño <a class=\"anchor\" id=\"pruebas\"></a>\n",
    "\n",
    "([Volver al inicio](#inicio))\n",
    "\n"
   ]
  },
  {
   "cell_type": "markdown",
   "metadata": {},
   "source": [
    "**Ejercicio 8:**\n",
    "\n",
    "Implemente la función `lab_aleatorio(p)` para generar un laberinto de $12\\times 12$ de manera aleatoria, de tal manera que en cada casilla, excepto la salida $(0,0)$ y la inicial $(11,11)$, haya un muro con probabilidad `p` (con $0\\leq p\\leq 1$). "
   ]
  },
  {
   "cell_type": "code",
   "execution_count": 248,
   "metadata": {},
   "outputs": [],
   "source": [
    "import numpy as np\n",
    "\n",
    "def lab_aleatorio(p: float)-> Laberinto:\n",
    "    \n",
    "    tamaño_laberinto = 12*12\n",
    "    laberinto_flattened = np.random.choice([0, 1], size=(tamaño_laberinto,), p=[1-p, p])\n",
    "    \n",
    "    laberinto = laberinto_flattened.reshape((12,12))\n",
    "    laberinto[11,0] = 0\n",
    "    laberinto[0,11] = 0\n",
    "        \n",
    "    ans = Laberinto(pos_inicial=(11,11))\n",
    "    ans.laberinto = laberinto\n",
    "    \n",
    "    return ans"
   ]
  },
  {
   "cell_type": "code",
   "execution_count": 266,
   "metadata": {},
   "outputs": [
    {
     "data": {
      "image/png": "[encoded data removed]",
      "text/plain": [
       "<Figure size 576x576 with 1 Axes>"
      ]
     },
     "metadata": {
      "needs_background": "light"
     },
     "output_type": "display_data"
    }
   ],
   "source": [
    "clear_output(wait=True)\n",
    "lab_aleatorio(0.2).pintar()\n",
    "plt.show()"
   ]
  },
  {
   "cell_type": "markdown",
   "metadata": {},
   "source": [
    "---"
   ]
  },
  {
   "cell_type": "markdown",
   "metadata": {},
   "source": [
    "**Ejercicio 9:**\n",
    "\n",
    "Determine el porcentaje de éxito del agente de respuesta simple en 100 laberintos aleatorios con $p=0.2$, iniciando en la casilla $(11,11)$, y una cantidad máxima de pasos igual a 200.\n",
    "\n",
    "**Nota:**\n",
    "\n",
    "El porcentaje de éxito debe estar cerca del 70%."
   ]
  },
  {
   "cell_type": "code",
   "execution_count": 343,
   "metadata": {},
   "outputs": [],
   "source": [
    "# perceptos[0]  =>  sensor forntal\n",
    "# perceptos[1]  =>  sensor izquierdo\n",
    "# perceptos[2]  =>  sensor derecho\n",
    "# perceptos[3]  =>  sensor trasero\n",
    "reglas = {\n",
    "    # Si el frente no está bloqueado y el flanco derecho está\n",
    "    # bloqueado, avanzar una casilla\n",
    "    'not self.perceptos[0] and self.perceptos[2]': ['adelante'],\n",
    "    'self.perceptos[0] and self.perceptos[2] and not self.perceptos[1]': ['voltearIzquierda'],   \n",
    "    'not self.perceptos[2]': ['voltearDerecha', 'adelante'],\n",
    "    'not self.perceptos[3]': ['voltearIzquierda', 'voltearDerecha', 'voltearIzquierda'],\n",
    "    'False not in self.perceptos': ['voltearIzquierda', 'voltearDerecha', 'voltearIzquierda'],\n",
    "}\n"
   ]
  },
  {
   "cell_type": "code",
   "execution_count": 344,
   "metadata": {},
   "outputs": [],
   "source": [
    "from time import time\n",
    "\n",
    "agente = Agente()\n",
    "agente.reglas = reglas\n",
    "\n",
    "#número de pasos máximos para solucionar el laberinto\n",
    "max_iterations = 150"
   ]
  },
  {
   "cell_type": "code",
   "execution_count": 345,
   "metadata": {},
   "outputs": [],
   "source": [
    "stepsize = 0.01\n",
    "probs  = np.arange(0, 1, stepsize)\n",
    "solves = np.zeros( probs.shape[0] )\n",
    "\n",
    "nreps_per_probability = 250\n",
    "\n",
    "# para cada probabilidad hace el ejercicio de crear \"nreps_per_probability\" problemas \n",
    "# y mira de esos problemas cuántos pudo solucionar exitosamente.\n",
    "\n",
    "for i, p in enumerate(probs):\n",
    "    \n",
    "    # crea el laberinto aleatorio\n",
    "    lab = lab_aleatorio(p = p)\n",
    "    \n",
    "    # variable que indica si hubo éxito o no\n",
    "    done = False\n",
    "\n",
    "    # loop para probar varias veces si logra resolver un problema\n",
    "    # que tiene la misma cantidad de muros\n",
    "    for trial in range(nreps_per_probability):\n",
    "        \n",
    "        # crea el laberinto aleatorio\n",
    "        lab = lab_aleatorio(p = p)\n",
    "        \n",
    "        # hace la iteración en busca de la solución\n",
    "        for j in range(max_iterations):\n",
    "            agente.perceptos = lab.para_sentidos()\n",
    "            a = agente.reaccionar()\n",
    "            lab.transicion(a)\n",
    "\n",
    "            if lab.test_objetivo():\n",
    "                done = True\n",
    "                break\n",
    "        \n",
    "        solves[i] += done\n",
    "        done = False\n",
    "\n",
    "    # normaliza\n",
    "    solves[i] /= nreps_per_probability\n"
   ]
  },
  {
   "cell_type": "code",
   "execution_count": 348,
   "metadata": {},
   "outputs": [
    {
     "name": "stderr",
     "output_type": "stream",
     "text": [
      "/home/dave/anaconda3/lib/python3.9/site-packages/seaborn/_decorators.py:36: FutureWarning: Pass the following variables as keyword args: x, y. From version 0.12, the only valid positional argument will be `data`, and passing other arguments without an explicit keyword will result in an error or misinterpretation.\n",
      "  warnings.warn(\n"
     ]
    },
    {
     "data": {
      "text/plain": [
       "<AxesSubplot:>"
      ]
     },
     "execution_count": 348,
     "metadata": {},
     "output_type": "execute_result"
    },
    {
     "data": {
      "image/png": "[encoded data removed]",
      "text/plain": [
       "<Figure size 432x288 with 1 Axes>"
      ]
     },
     "metadata": {
      "needs_background": "light"
     },
     "output_type": "display_data"
    }
   ],
   "source": [
    "import seaborn as sns\n",
    "\n",
    "sns.lineplot(probs, solves)"
   ]
  },
  {
   "cell_type": "markdown",
   "metadata": {},
   "source": [
    "---"
   ]
  },
  {
   "cell_type": "markdown",
   "metadata": {},
   "source": [
    "**Ejercicio 10:**\n",
    "\n",
    "Dibuje el porcentaje de éxito como una función de $p$ en las mismas condiciones del ejercicio pasado."
   ]
  },
  {
   "cell_type": "markdown",
   "metadata": {},
   "source": [
    "---"
   ]
  },
  {
   "cell_type": "markdown",
   "metadata": {},
   "source": [
    "## En este notebook usted aprendió\n",
    "\n",
    "* Los detalles de la implementación de un programa de agente dirigido por tablas y de reflejo simple.\n",
    "* Realizar pruebas de desempeño a los programas.\n"
   ]
  }
 ],
 "metadata": {
  "kernelspec": {
   "display_name": "Python 3 (ipykernel)",
   "language": "python",
   "name": "python3"
  },
  "language_info": {
   "codemirror_mode": {
    "name": "ipython",
    "version": 3
   },
   "file_extension": ".py",
   "mimetype": "text/x-python",
   "name": "python",
   "nbconvert_exporter": "python",
   "pygments_lexer": "ipython3",
   "version": "3.9.7"
  }
 },
 "nbformat": 4,
 "nbformat_minor": 4
}
