{
 "cells": [
  {
   "cell_type": "markdown",
   "metadata": {
    "colab_type": "text",
    "id": "TpmFfXsQ0dYI"
   },
   "source": [
    "<table>\n",
    "    <tr>\n",
    "        <td><img src=\"./imagenes/Macc.png\" width=\"400\"/></td>\n",
    "        <td>&nbsp;</td>\n",
    "        <td>\n",
    "            <h1 style=\"color:blue;text-align:left\">Inteligencia Artificial</h1></td>\n",
    "        <td>\n",
    "            <table><tr>\n",
    "            <tp><p style=\"font-size:150%;text-align:center\">Notebook</p></tp>\n",
    "            <tp><p style=\"font-size:150%;text-align:center\">Juegos (1/3) </p></tp>\n",
    "            </tr></table>\n",
    "        </td>\n",
    "    </tr>\n",
    "</table>\n",
    "\n",
    "---"
   ]
  },
  {
   "cell_type": "markdown",
   "metadata": {
    "colab_type": "text",
    "id": "V3SkDSWJ0dYJ"
   },
   "source": [
    "## Objetivo <a class=\"anchor\" id=\"inicio\"></a>\n",
    "\n",
    "En los notebooks anteriores hemos visto cómo representar un problema mediante un ambiente de tarea. Allí vimos que solucionar un problema es hacer una búsqueda sistematica en el espacio de estados, para encontrar un camino desde el estado inicial a algún estado objetivo. Ahora veremos el problema de ganar un juego competitivo contra un humano como el desafío que debe superar una máquina y así, al hacerlo, exhibir una dosis de inteligencia. El desafío respecto al caso anterior es que ahora el entorno es dinámico, toda vez que éste cambiará de acuerdo a las acciones del contrincante. \n",
    "\n",
    "En este notebook estudiaremos algunas estrategias para la búsqueda de la mejor jugada en juegos de dos jugadores. Estos escenarios, a pesar de ser dinámicos, todavía son muy convenientes, toda vez que corresponden a entornos completamente observables, deterministas, discretos y conocidos. \n",
    "\n",
    "Adaptado de (Russell & Norvig, 2020), secciones 5.1.1, 5.2.1 y 5.2.3."
   ]
  },
  {
   "cell_type": "markdown",
   "metadata": {
    "colab_type": "text",
    "id": "5HnQ_gA70dYL"
   },
   "source": [
    "## Secciones\n",
    "\n",
    "Desarrollaremos la explicación de la siguiente manera:\n",
    "\n",
    "* [Definición formal del problema de confrontación](#triqui).\n",
    "* [Algoritmo minimax](#minimax).\n",
    "    1. [Árbol de confrontación](#arbol)\n",
    "    2. [Pseudocódigo](#codigo)\n",
    "    3. [Engine](#engine)\n"
   ]
  },
  {
   "cell_type": "markdown",
   "metadata": {},
   "source": [
    "## Definición formal del problema de confrontación en juegos competitivos <a class=\"anchor\" id=\"triqui\"></a>\n",
    "\n",
    "([Volver al inicio](#inicio))\n",
    "\n",
    "Mostraremos a continuación la **definición formal de un juego competitivo**. Para ello, nos valdremos de un ejemplo. Consideraremos el juego de tres en línea (o triqui), que todos conocemos desde niños. La definición formal se hace con base en las siguientes características:\n",
    "\n",
    "* **estado_inicial:** Situación del entorno desde el cual comienza el juego. En el caso del triqui, el estado inicial es el tablero $3\\times 3$ vacío.\n",
    "\n",
    "* **a_jugar(s):** Define cuál jugador tiene el turno en el estado `s`, el cual puede ser `O` o `X`.\n",
    "\n",
    "* **acciones(s):** Descripción de las posibles acciones del jugador dado por `a_jugar(s)` en el estado `s`. En este caso, poner o bien una `O` o bien una `X` en una casilla vacía.\n",
    "\n",
    "* **resultado(s, a):** Descripción del entorno que resulta de la ejecución de la acción `a` por el jugador dado por `a_jugar(s)` en el estado `s`. \n",
    "\n",
    "* **es_terminal(s):** Permite determinar si el juego se termina cuando se obtiene el estado `s`. \n",
    "\n",
    "* **utilidad(s, j):** Función definida sólo para aquellos estados `s` en los cuales el juego se termina. Esta función establece la utilidad en el estado `s` que se obtiene después de haber jugado el jugador `j`. En nuestro caso del triqui, asumiremos que si el ganador es $O$, la utilidad es -1; si el ganador es $X$, la utilidad es 1; y en caso de empate la utilidad es 0.\n",
    "\n",
    "Asumiremos la siguiente manera de referirnos a las casillas del tablero:\n",
    "\n",
    "<img src=\"imagenes/triqui.png\" width=\"300px\">\n",
    "\n",
    "La siguiente es una posible implementación en Python del ambiente de tarea para el triqui:"
   ]
  },
  {
   "cell_type": "code",
   "execution_count": 10,
   "metadata": {},
   "outputs": [],
   "source": [
    "from Juegos import Triqui\n",
    "from random import choice\n",
    "import numpy as np"
   ]
  },
  {
   "cell_type": "code",
   "execution_count": 11,
   "metadata": {},
   "outputs": [
    {
     "name": "stdout",
     "output_type": "stream",
     "text": [
      "Este es el tablero con una X en (1, 2)\n",
      "Juego terminado?: False\n",
      "Le corresponde el turno a: O\n",
      "Utilidad: None\n"
     ]
    },
    {
     "data": {
      "image/png": "[encoded data removed]",
      "text/plain": [
       "<Figure size 432x288 with 1 Axes>"
      ]
     },
     "metadata": {
      "needs_background": "light"
     },
     "output_type": "display_data"
    }
   ],
   "source": [
    "tri = Triqui()\n",
    "s = tri.estado_inicial\n",
    "a = choice(tri.acciones(s))\n",
    "print(\"Este es el tablero con una X en\", a)\n",
    "s1 = tri.resultado(s, a)\n",
    "tri.pintar_estado(s1)\n",
    "print(\"Juego terminado?:\", tri.es_terminal(s1)) # Debe ser False\n",
    "print(\"Le corresponde el turno a:\", 'O' if tri.a_jugar(s1) == 1 else 'X') # Debe ser O\n",
    "print(\"Utilidad:\", tri.utilidad(s1, tri.a_jugar(s1))) # Debe ser None"
   ]
  },
  {
   "cell_type": "code",
   "execution_count": 17,
   "metadata": {},
   "outputs": [
    {
     "data": {
      "text/plain": [
       "matrix([[0, 0, 0],\n",
       "        [0, 0, 0],\n",
       "        [0, 0, 0]])"
      ]
     },
     "execution_count": 17,
     "metadata": {},
     "output_type": "execute_result"
    }
   ],
   "source": [
    "s\n",
    "tri.a_jugar(s)"
   ]
  },
  {
   "cell_type": "markdown",
   "metadata": {},
   "source": [
    "# Algoritmo minimax <a class=\"anchor\" id=\"minimax\"></a>\n",
    "\n",
    "([Volver al inicio](#inicio))\n",
    "\n",
    "Debemos ahora definir un programa para el agente que juega triqui. Este programa debe consistir, de manera general, en una función que percibe un tablero de triqui y devuelve una acción. Más concretamente, el agente recibe un estado `s` y devuelve una jugada, en forma de un índice `(x,y)` que representa la casilla en la cual ha de ponerse el símbolo correspondiente (o bien $O$ o bien $X$). \n",
    "\n",
    "El algoritmo que utilizaremos para encontrar la mejor jugada se llama *minimax*. Este nombre es muy acertado, toda vez que evoca simultáneamente la confrontación entre los jugadores así como la manera como se representa dicha confrontación. Esto es, un jugador buscará el mínimo y el otro el máximo de la utilidad. Esta es la razón por la cual se definió la función de utilidad de tal manera que un estado en el que gane $O$ valga -1 y uno en que gane $X$ valga 1. El primer jugador será MIN y el segundo MAX."
   ]
  },
  {
   "cell_type": "markdown",
   "metadata": {},
   "source": [
    "## Árbol de confrontación <a class=\"anchor\" id=\"arbol\"></a>\n",
    "\n",
    "([Volver a minimax](#minimax))\n",
    "\n",
    "Dado un estado `s`, se define un árbol de confrontación para `s` de la siguiente manera. Se consideran para el jugador que tiene el turno, digamos MAX, todas las acciones `i` que se pueden aplicar, y para cada una de ellas se encuentra el correspondiente estado `s`$_i$. Luego, para cada uno de estos, se consideran para MIN todas las acciones que se pueden aplicar y se encuentran los correspondientes estados. Esta iteración se repite hasta llegar a los estados en los cuales el juego se termina. En estos estados podemos hallar la utilidad y aquí comenzamos a encontrar los valores minimax de todo el arbol. Es decir, hemos construido el árbol de arriba hacia abajo (de la raíz hacia las hojas) siguiendo las acciones posibles. Ahora encontraremos los valores minimax para cada estado yendo de abajo hacia arriba (de las hojas hacia la raíz). Así pues, obtenemos los valores minimax a partir de la utilidad de los estados terminales, por ejemplo:\n",
    "\n",
    "<img src=\"imagenes/ejemplo1.png\" width=\"250px\">\n",
    "\n",
    "Suponiendo que estos estados provienen de una acción de las $X$, ellos provienen de estados más arriba en el árbol, como por ejemplo:\n",
    "\n",
    "<img src=\"imagenes/ejemplo2.png\" width=\"250px\">\n",
    "\n",
    "Como la acción en dichos estados es de $X$, que es MAX, entonces el valor minimax se obtiene al encontrar el máximo dentro de todas las opciones posibles. Esto no es interesante en este caso, pues sólo hay una acción posible para $X$, el cual determina el valor minimax para dicho estado.\n",
    "\n",
    "El siguiente nivel hacia arriba es más interesante, pues $O$ (es decir, MIN), tiene varias opciones:\n",
    "\n",
    "<img src=\"imagenes/ejemplo3.png\" width=\"260px\">\n",
    "\n",
    "En este caso $O$ tiene dos opciones, cada una reportando un valor minimax. El valor que MIN escogerá es el mínimo entre los dos valores, es decir, 0. Este es el valor minimax de este estado.\n",
    "\n",
    "Ahora consideremos un nivel más arriba. Juega $X$ (es decir, MAX):\n",
    "\n",
    "<img src=\"imagenes/ejemplo4.png\" width=\"550px\">\n",
    "\n",
    "En el estado que vemos más arriba, el jugador de las $X$ es quien tiene el turno, es decir, juega MAX. Él debe seleccionar la opción que le reporte el máximo de los valores minimax de sus hijos. En este caso, debe seleccionar la única opción con valor 0. Observe que si $X$ seleccionara cualquier otra opción (las cuales tienen valor $-1$), entonces MIN ganaría (suponiendo que MIN juega de la mejor manera posible). Esto es, MAX busca la acción cuyo resultado tenga el mayor valor minimax, por lo que decide poner una $X$ en la casilla de abajo a la izquierda para bloquear el triqui de $O$. Esta acción resulta en el estado de la derecha. \n"
   ]
  },
  {
   "cell_type": "markdown",
   "metadata": {},
   "source": [
    "## Pseudo código para minimax <a class=\"anchor\" id=\"codigo\"></a>\n",
    "\n",
    "([Volver a minimax](#minimax))\n",
    "\n",
    "El siguiente es el pseudo código del algoritmo de decisión minimax, el cual genera, mediante una metodología depth-first, el árbol de confrontación para un estado `s` en el cual le corresponde el turno a MAX:\n",
    "\n",
    "<img src=\"imagenes/busqueda-minimax.png\" width=\"500px\">\n"
   ]
  },
  {
   "cell_type": "markdown",
   "metadata": {},
   "source": [
    "**Ejercicio 1:**\n",
    "\n",
    "Implemente el anterior pseudocódigo para la función `minimax_search`. Compruebe que la respuesta de $X$ para el siguiente tablero debe ser bloquear el triqui de $O$ en la casilla $(0,0)$."
   ]
  },
  {
   "cell_type": "markdown",
   "metadata": {},
   "source": [
    "---"
   ]
  },
  {
   "cell_type": "code",
   "execution_count": 44,
   "metadata": {},
   "outputs": [],
   "source": [
    "def max_value(game: Triqui, state:np.matrix):\n",
    "\n",
    "    player = game.a_jugar(state)\n",
    "    \n",
    "    if game.es_terminal(state):\n",
    "        return (game.utilidad(state, player), None)\n",
    "    \n",
    "    v = - np.inf\n",
    "    \n",
    "    for action in game.acciones(state):\n",
    "        v2, action2 = min_value(game, game.resultado(state, action))\n",
    "        \n",
    "        if v2 > v: \n",
    "            v, move = (v2, action)\n",
    "    \n",
    "    \n",
    "    return (v, move)"
   ]
  },
  {
   "cell_type": "code",
   "execution_count": 45,
   "metadata": {},
   "outputs": [],
   "source": [
    "def min_value(game: Triqui, state:np.matrix):\n",
    "\n",
    "    player = game.a_jugar(state)\n",
    "    \n",
    "    if game.es_terminal(state):\n",
    "        return (game.utilidad(state, player), None)\n",
    "    \n",
    "    v = np.inf\n",
    "    \n",
    "    for action in game.acciones(state):\n",
    "        v2, action2 = max_value(game, game.resultado(state, action))\n",
    "        \n",
    "        if v2 < v: \n",
    "            v, move = (v2, action)\n",
    "    \n",
    "    \n",
    "    return (v, move)"
   ]
  },
  {
   "cell_type": "code",
   "execution_count": 46,
   "metadata": {},
   "outputs": [],
   "source": [
    "def minimax_search(game: Triqui, state:np.matrix):\n",
    "    \n",
    "    player = game.a_jugar(state)\n",
    "    v, move = max_value(game, state)\n",
    "    \n",
    "    return move"
   ]
  },
  {
   "cell_type": "markdown",
   "metadata": {},
   "source": [
    "**Ejercicio 2:**\n",
    "\n",
    "Compruebe la correctitud de su algoritmo mediante los siguientes tableros de prueba:"
   ]
  },
  {
   "cell_type": "code",
   "execution_count": 47,
   "metadata": {},
   "outputs": [
    {
     "name": "stdout",
     "output_type": "stream",
     "text": [
      "Computador juega en: (1, 2)\n"
     ]
    },
    {
     "data": {
      "image/png": "[encoded data removed]",
      "text/plain": [
       "<Figure size 432x288 with 1 Axes>"
      ]
     },
     "metadata": {
      "needs_background": "light"
     },
     "output_type": "display_data"
    }
   ],
   "source": [
    "# Primer tablero de prueba\n",
    "s1 = tri.resultado(tri.estado_inicial, (1,1))  # Juega X\n",
    "s1 = tri.resultado(s1, (0,1)) # Juega O\n",
    "s1 = tri.resultado(s1, (2,1)) # Juega X\n",
    "s1 = tri.resultado(s1, (2,2)) # Juega O\n",
    "s1 = tri.resultado(s1, (1,0)) # Juega X\n",
    "s1 = tri.resultado(s1, (2,0)) # Juega O\n",
    "tri.pintar_estado(s1)\n",
    "print(\"Computador juega en:\", minimax_search(tri, s1)) \n",
    "# La respuesta debe ser (1, 2)"
   ]
  },
  {
   "cell_type": "code",
   "execution_count": 48,
   "metadata": {},
   "outputs": [
    {
     "name": "stdout",
     "output_type": "stream",
     "text": [
      "Computador juega en: (0, 0)\n"
     ]
    },
    {
     "data": {
      "image/png": "[encoded data removed]",
      "text/plain": [
       "<Figure size 432x288 with 1 Axes>"
      ]
     },
     "metadata": {
      "needs_background": "light"
     },
     "output_type": "display_data"
    }
   ],
   "source": [
    "# Segundo tablero de prueba\n",
    "s1 = tri.resultado(tri.estado_inicial, (2,1)) # Juega X\n",
    "s1 = tri.resultado(s1, (0,1)) # Juega O\n",
    "s1 = tri.resultado(s1, (1,2)) # Juega X\n",
    "s1 = tri.resultado(s1, (1,0)) # Juega O\n",
    "s1 = tri.resultado(s1, (1,1)) # Juega X\n",
    "s1 = tri.resultado(s1, (0,2)) # Juega O\n",
    "tri.pintar_estado(s1)\n",
    "print(\"Computador juega en:\", minimax_search(tri, s1)) \n",
    "# La respuesta debe ser (0, 0)"
   ]
  },
  {
   "cell_type": "code",
   "execution_count": 58,
   "metadata": {},
   "outputs": [
    {
     "name": "stdout",
     "output_type": "stream",
     "text": [
      "Computador juega en: (1, 0)\n"
     ]
    },
    {
     "data": {
      "image/png": "[encoded data removed]",
      "text/plain": [
       "<Figure size 432x288 with 1 Axes>"
      ]
     },
     "metadata": {
      "needs_background": "light"
     },
     "output_type": "display_data"
    }
   ],
   "source": [
    "# Tercer tablero de prueba\n",
    "s1 = tri.resultado(tri.estado_inicial, (1,1)) # Juega X\n",
    "s1 = tri.resultado(s1, (0,1)) # Juega O\n",
    "s1 = tri.resultado(s1, (0,0)) # Juega X\n",
    "s1 = tri.resultado(s1, (2,2)) # Juega O\n",
    "tri.pintar_estado(s1)\n",
    "print(\"Computador juega en:\", minimax_search(tri, s1)) \n",
    "# La respuesta debe ser (1, 0) o (2, 0)"
   ]
  },
  {
   "cell_type": "markdown",
   "metadata": {},
   "source": [
    "---"
   ]
  },
  {
   "cell_type": "markdown",
   "metadata": {},
   "source": [
    "Observe que la clase `Triqui` tiene el método `a_jugar`, el cual recibe un estado `s` y devuelve el jugador al que le corresponde el turno en `s`. La codificación es que si `a_jugar(s)` es 1, le corresponde el turno a $O$; y si es 2, le corresponde el turno a $X$:"
   ]
  },
  {
   "cell_type": "code",
   "execution_count": 51,
   "metadata": {},
   "outputs": [
    {
     "name": "stdout",
     "output_type": "stream",
     "text": [
      "Le corresponde el turno a X\n"
     ]
    }
   ],
   "source": [
    "tri = Triqui()\n",
    "s = tri.estado_inicial\n",
    "s = tri.resultado(s, (1,1)) # Juega X\n",
    "s = tri.resultado(s, (0,2)) # Juega O\n",
    "if tri.a_jugar(s)==2:\n",
    "    print('Le corresponde el turno a X')\n",
    "elif tri.a_jugar(s)==1:\n",
    "    print('Le corresponde el turno a O')    "
   ]
  },
  {
   "cell_type": "markdown",
   "metadata": {},
   "source": [
    "**Ejercicio 3:**\n",
    "\n",
    "Adapte la función `minimax_search` para que la decisión que se tome sea sensible al jugador al que le corresponde el turno. De esta manera, si juegan las $X$, se busca maximizar el valor, pero si juegan las $O$, se busca minimizar el valor. Confirme la correctitud de su respuesta con el cuarto tablero de prueba:"
   ]
  },
  {
   "cell_type": "markdown",
   "metadata": {},
   "source": [
    "---"
   ]
  },
  {
   "cell_type": "code",
   "execution_count": 69,
   "metadata": {},
   "outputs": [],
   "source": [
    "def minimax_search(game: Triqui, state: np.matrix):\n",
    "    \n",
    "    player = game.a_jugar(state)\n",
    "    \n",
    "    if player == 2: \n",
    "        v, move = max_value(game, state)\n",
    "\n",
    "    elif player == 1:\n",
    "        v, move = min_value(game, state)\n",
    "    \n",
    "    else:\n",
    "        print(\"Are you messing with me?\")\n",
    "        return None\n",
    "    \n",
    "    return move"
   ]
  },
  {
   "cell_type": "markdown",
   "metadata": {},
   "source": [
    "## Implementando el engine <a class=\"anchor\" id=\"engine\"></a>\n",
    "\n",
    "([Volver a minimax](#minimax))\n",
    "\n",
    "¡Ya podemos jugar contra el computador! Intente ganarle al engine que acabamos de construir mediante el análisis minimax:"
   ]
  },
  {
   "cell_type": "code",
   "execution_count": 122,
   "metadata": {},
   "outputs": [],
   "source": [
    "# Corra esta celda para comenzar un juego nuevo\n",
    "\n",
    "from Juegos import Triqui\n",
    "from IPython.display import clear_output\n",
    "from time import sleep\n",
    "import matplotlib.pyplot as plt\n",
    "\n",
    "tri = Triqui()\n",
    "s = tri.estado_inicial"
   ]
  },
  {
   "cell_type": "code",
   "execution_count": 123,
   "metadata": {
    "scrolled": true
   },
   "outputs": [
    {
     "data": {
      "image/png": "[encoded data removed]",
      "text/plain": [
       "<Figure size 432x288 with 1 Axes>"
      ]
     },
     "metadata": {
      "needs_background": "light"
     },
     "output_type": "display_data"
    }
   ],
   "source": [
    "# Introduzca aquí su jugada, corra la celda y espere\n",
    "# la jugada de O. Luego, vuelva a cambiar aquí mismo \n",
    "# su jugada y corra la celda de nuevo, etc.\n",
    "a = (0,1)\n",
    "\n",
    "assert(a in tri.acciones(s)), 'Acción no permitida. Intente de nuevo.'\n",
    "\n",
    "###################\n",
    "s = tri.resultado(s, a)\n",
    "#clear_output(wait=True)\n",
    "tri.pintar_estado(s)\n",
    "plt.show()\n",
    "\n",
    "# Computador responde\n",
    "if not tri.es_terminal(s):\n",
    "    a = minimax_search(tri, s)\n",
    "    s = tri.resultado(s, a)\n",
    "    sleep(1)\n",
    "    clear_output(wait=True)\n",
    "    tri.pintar_estado(s)\n",
    "    plt.show()\n",
    "    if tri.es_terminal(s):\n",
    "        print('Juego terminado. ¡Gana O!')\n",
    "else:\n",
    "    jugador = tri.a_jugar(s)\n",
    "    if tri.utilidad(s, jugador)==0:\n",
    "        print('Juego terminado. ¡Empate!')\n",
    "    else:\n",
    "        print('Juego terminado. ¡Gana X!')"
   ]
  },
  {
   "cell_type": "code",
   "execution_count": 142,
   "metadata": {},
   "outputs": [],
   "source": [
    "tri = Triqui()\n",
    "s = tri.estado_inicial\n",
    "# Introduzca aquí su jugada, corra la celda y espere\n",
    "# la jugada de O. Luego, vuelva a cambiar aquí mismo \n",
    "# su jugada y corra la celda de nuevo, etc.\n",
    "a = (2,2)\n",
    "\n",
    "###################\n",
    "s = tri.resultado(s, a)\n",
    "jugador = tri.a_jugar(s)\n"
   ]
  },
  {
   "cell_type": "code",
   "execution_count": 136,
   "metadata": {
    "scrolled": false
   },
   "outputs": [
    {
     "data": {
      "image/png": "[encoded data removed]",
      "text/plain": [
       "<Figure size 432x288 with 1 Axes>"
      ]
     },
     "metadata": {
      "needs_background": "light"
     },
     "output_type": "display_data"
    }
   ],
   "source": [
    "while tri.utilidad(s, jugador) not in [0, 1, 2]:\n",
    "    \n",
    "    jugador = tri.a_jugar(s)\n",
    "    \n",
    "    \n",
    "    # Computador responde\n",
    "    if not tri.es_terminal(s):\n",
    "        a = minimax_search(tri, s)\n",
    "        s = tri.resultado(s, a)\n",
    "\n",
    "    else:\n",
    "        \n",
    "        if tri.utilidad(s, jugador)==0:\n",
    "            print('Juego terminado. ¡Empate!')\n",
    "        else:\n",
    "            print('Juego terminado. ¡Gana X!')\n",
    "            \n",
    "    sleep(1)\n",
    "    clear_output(wait=True)\n",
    "    tri.pintar_estado(s)\n",
    "    plt.show()\n",
    "    "
   ]
  },
  {
   "cell_type": "code",
   "execution_count": 146,
   "metadata": {
    "scrolled": true
   },
   "outputs": [
    {
     "name": "stdout",
     "output_type": "stream",
     "text": [
      "\n",
      " Pick your player X or O: O\n"
     ]
    }
   ],
   "source": [
    "players = {'X': 1, 'O': 2}\n",
    "\n",
    "p = input(\"\\r Pick your player X or O: \")\n",
    "\n",
    "while p not in ['X', 'O']:\n",
    "    p = input(\"\\r Pick your player X or O: \")\n",
    "\n",
    "me = players[p]"
   ]
  },
  {
   "cell_type": "code",
   "execution_count": null,
   "metadata": {},
   "outputs": [],
   "source": [
    "while tri.utilidad(s, jugador) not in [0, 1, 2]:\n",
    "    \n",
    "    jugador = tri.a_jugar(s)\n",
    "    \n",
    "    # Computador responde\n",
    "    if not tri.es_terminal(s):\n",
    "        \n",
    "        \n",
    "        a = minimax_search(tri, s)\n",
    "        s = tri.resultado(s, a)\n",
    "\n",
    "    else:\n",
    "        \n",
    "        if tri.utilidad(s, jugador)==0:\n",
    "            print('Juego terminado. ¡Empate!')\n",
    "        else:\n",
    "            print('Juego terminado. ¡Gana X!')\n",
    "            \n",
    "    sleep(1)\n",
    "    clear_output(wait=True)\n",
    "    tri.pintar_estado(s)\n",
    "    plt.show()\n",
    "    "
   ]
  },
  {
   "cell_type": "markdown",
   "metadata": {},
   "source": [
    "----"
   ]
  },
  {
   "cell_type": "markdown",
   "metadata": {},
   "source": [
    "El algoritmo minimax realiza una exploración completa del espacio de estados mediante una metodología depth-first. Si la profundidad máxima del árbol fuera $m$ y en cada estado hubiera $b$ acciones posibles, entonces la complejidad de tiempo del algoritmo es $O(b^m)$. Como se están generando todos los hijos de cada nodo al mismo tiempo, la complejidad de espacio (memoria) es de $O(bm)$.\n",
    "\n",
    "La complejidad exponencial de este algoritmo lo hace ineficiente para muchos juegos complejos. Una manera de prevenir que el árbol de estados crezca tan rápido es dejando de explorar opciones que no parecen viables. Una de estas alternativas se llama el algoritmo de poda alfa-beta, que veremos a continuación."
   ]
  },
  {
   "cell_type": "markdown",
   "metadata": {},
   "source": [
    "---"
   ]
  },
  {
   "cell_type": "markdown",
   "metadata": {},
   "source": [
    "## En este notebook usted aprendió \n",
    "\n",
    "([Volver al inicio](#inicio))\n",
    "\n",
    "* El algoritmo minimax para la toma de decisiones perfecta en un juego competitivo de 2 jugadores."
   ]
  }
 ],
 "metadata": {
  "colab": {
   "name": "arboles_busqueda.ipynb",
   "provenance": []
  },
  "kernelspec": {
   "display_name": "Python 3 (ipykernel)",
   "language": "python",
   "name": "python3"
  },
  "language_info": {
   "codemirror_mode": {
    "name": "ipython",
    "version": 3
   },
   "file_extension": ".py",
   "mimetype": "text/x-python",
   "name": "python",
   "nbconvert_exporter": "python",
   "pygments_lexer": "ipython3",
   "version": "3.9.7"
  }
 },
 "nbformat": 4,
 "nbformat_minor": 1
}
