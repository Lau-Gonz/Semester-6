{
 "cells": [
  {
   "cell_type": "markdown",
   "metadata": {
    "id": "JAe9E_hkHNvi"
   },
   "source": [
    "<table>\n",
    "    <tr>\n",
    "        <td><img src=\"./imagenes/Macc.png\" width=\"400\"/></td>\n",
    "        <td>&nbsp;</td>\n",
    "        <td>\n",
    "            <h1 style=\"color:blue;text-align:left\">Inteligencia Artificial</h1></td>\n",
    "        <td>\n",
    "            <table><tr>\n",
    "            <tp><p style=\"font-size:150%;text-align:center\">Notebook</p></tp>\n",
    "            <tp><p style=\"font-size:150%;text-align:center\">Arquitecturas de agente</p></tp>\n",
    "            </tr></table>\n",
    "        </td>\n",
    "    </tr>\n",
    "</table>\n",
    "\n",
    "---\n"
   ]
  },
  {
   "cell_type": "markdown",
   "metadata": {
    "id": "vxs-Q2quHNvj"
   },
   "source": [
    "## Objetivo <a class=\"anchor\" id=\"inicio\"></a>\n",
    "\n",
    "En este notebook ejemplificaremos dos tipos de agente: dirigido por tabla y de respuesta simple. Usaremos el problema del laberinto para implementar los programa de agente y mostraremos una manera de comparar sus desempeños.\n"
   ]
  },
  {
   "cell_type": "markdown",
   "metadata": {
    "id": "1-krTaTYHNvj"
   },
   "source": [
    "[Ir al ejercicio 1](#ej1)"
   ]
  },
  {
   "cell_type": "markdown",
   "metadata": {
    "id": "B-DGqTqGHNvk"
   },
   "source": [
    "## Dependencias\n",
    "\n",
    "Al iniciar el notebook o reiniciar el kerner se pueden cargar todas las dependencias de este notebook corriendo las siguientes celdas. Este también es el lugar para instalar las dependencias que podrían hacer falta."
   ]
  },
  {
   "cell_type": "code",
   "execution_count": 43,
   "metadata": {
    "colab": {
     "base_uri": "https://localhost:8080/"
    },
    "id": "PATGRLgyHNvk",
    "outputId": "aa05389d-5ac0-4872-d95a-6db364e11d14"
   },
   "outputs": [],
   "source": [
    "#!pip install -r requirements.txt"
   ]
  },
  {
   "cell_type": "markdown",
   "metadata": {
    "id": "x6crHBTKHNvl"
   },
   "source": [
    "**De Python:**"
   ]
  },
  {
   "cell_type": "code",
   "execution_count": 44,
   "metadata": {
    "id": "WoeS_HMiHNvl"
   },
   "outputs": [],
   "source": [
    "import numpy as np"
   ]
  },
  {
   "cell_type": "markdown",
   "metadata": {
    "id": "_FstgTO3HNvl"
   },
   "source": [
    "**Del notebook:**"
   ]
  },
  {
   "cell_type": "code",
   "execution_count": 45,
   "metadata": {
    "id": "j-uyutB3HNvl"
   },
   "outputs": [],
   "source": [
    "from agentes import Random, TableDriven, RuleBased\n",
    "from ambientes import Laberinto\n",
    "import utils\n",
    "\n",
    "%reload_ext autoreload\n",
    "%autoreload 2"
   ]
  },
  {
   "cell_type": "markdown",
   "metadata": {
    "id": "vpYovykzHNvl"
   },
   "source": [
    "## Secciones\n",
    "\n",
    "Desarrollaremos la explicación en las siguientes secciones:\n",
    "\n",
    "1. [El ambiente del laberinto](#lab)\n",
    "2. [Un agente dirigido por tabla](#agenteTD)\n",
    "3. [Un agente de reflejo simple](#agenteSR)\n",
    "4. [Pruebas de desempeño](#pruebas)"
   ]
  },
  {
   "cell_type": "markdown",
   "metadata": {
    "id": "zUZe9RSEHNvm"
   },
   "source": [
    "## El ambiente del laberinto <a class=\"anchor\" id=\"lab\"></a>\n",
    "\n",
    "([Volver al inicio](#inicio))\n",
    "\n",
    "Imagine un agente dentro de un laberinto, el cual consiste de una rejilla de doce por doce casillas. El laberinto tiene solo una casilla que sirve de entrada y de salida, que es la casilla $(0,0)$. Observe que en la notación de las casillas, la primera coordenada representa la posición en el ejer horizontal y la segunda en el vertical, con origen la esquina inferior izquierda. Esta casilla es la única forma de salir o entrar al laberinto. Cada rejilla es o bien un pasadizo o bien un muro. El agente puede moverse una casilla en dirección vertical u horizontal (nunca diagonal) siempre y cuando la casilla a la que se mueve no sea un muro o el fin de la rejilla. El problema que debe resolver el agente es encontrar un camino que lo lleve hasta la salida."
   ]
  },
  {
   "cell_type": "code",
   "execution_count": 46,
   "metadata": {
    "colab": {
     "base_uri": "https://localhost:8080/",
     "height": 467
    },
    "id": "OssgcxaTHNvm",
    "outputId": "2a9d1635-91db-4830-d1b8-89c65523ef40"
   },
   "outputs": [
    {
     "data": {
      "image/png": "[encoded data removed]",
      "text/plain": [
       "<Figure size 576x576 with 1 Axes>"
      ]
     },
     "metadata": {
      "needs_background": "light"
     },
     "output_type": "display_data"
    }
   ],
   "source": [
    "lab = Laberinto()\n",
    "lab.render()"
   ]
  },
  {
   "cell_type": "markdown",
   "metadata": {
    "id": "ITc4furXHNvm"
   },
   "source": [
    "La percepción del agente consiste en una colección de sensores que se encienden cuando detectan un obstáculo, organizados de la siguiente manera:\n",
    "\n",
    "`[sensor frontal, sensor izquierdo, sensor derecho, sensor trasero]`\n",
    "\n",
    "Los estados del `Laberinto` los constituyen los valores de los sensores:"
   ]
  },
  {
   "cell_type": "code",
   "execution_count": 47,
   "metadata": {
    "colab": {
     "base_uri": "https://localhost:8080/"
    },
    "id": "DpaX8QF_HNvm",
    "outputId": "996624b8-7a7a-4837-8fa2-b28ed9892580"
   },
   "outputs": [
    {
     "name": "stdout",
     "output_type": "stream",
     "text": [
      "El estado inicial es:\n",
      "[sensor frontal=False, sensor izquierdo=False, sensor derecho=True, sensor trasero=True]\n"
     ]
    }
   ],
   "source": [
    "lab = Laberinto()\n",
    "state = lab.reset()\n",
    "print('El estado inicial es:')\n",
    "print(f'[sensor frontal={state[0]}, sensor izquierdo={state[1]}, sensor derecho={state[2]}, sensor trasero={state[3]}]')"
   ]
  },
  {
   "cell_type": "markdown",
   "metadata": {
    "id": "Xn3k6Xg_HNvm"
   },
   "source": [
    "Las acciones posibles del agente son:\n",
    "\n",
    "* adelante: el agente avanza una casilla.\n",
    "* voltearIzquierda: el agente gira 90º en contra de las manecillas del reloj.\n",
    "* voltearDerecha: el agente gira 90º a favor de las manecillas del reloj.\n",
    "\n",
    "Cada acción del agente tiene un efecto en el entorno, implementado mediante el método `step(action)` de la clase `Laberinto`. Este método recibe la acción del agente y devuelve un nuevo estado, una recompensa, y la información de si el entorno sigue activo. Este es el ciclo básico agente-entorno, ejemplificado en el siguiente diagrama:\n",
    "\n",
    "<img src=\"./imagenes/agent_loop.png\" width=\"400\"/>\n",
    "\n",
    "En el módulo `utils` tenemos una serie de clases que nos harán la vida más fácil a la hora de correr los agentes en el entorno. La colección de rondas desde el estado inicial hasta el estado final o hasta el número máximo de rondas se llama un **episodio**. La clase que usaremos para correr un episodio se llama `Episode`. Veamos un ejemplo en donde un agente aleatorio, implementado en la clase `Random` del módulo `agentes`, parte de la casilla $(11,11)$ y deambula aleatoriamente por el laberinto por 15 rondas:"
   ]
  },
  {
   "cell_type": "code",
   "execution_count": 48,
   "metadata": {
    "colab": {
     "base_uri": "https://localhost:8080/",
     "height": 466
    },
    "id": "K_6mJUcQHNvn",
    "outputId": "6a55cc77-9b2f-4e75-b14d-8378706374ad"
   },
   "outputs": [
    {
     "data": {
      "image/png": "[encoded data removed]",
      "text/plain": [
       "<Figure size 576x576 with 1 Axes>"
      ]
     },
     "metadata": {
      "needs_background": "light"
     },
     "output_type": "display_data"
    }
   ],
   "source": [
    "# Create environment\n",
    "lab = Laberinto()\n",
    "# Create agent\n",
    "agent = Random()\n",
    "# Create episode\n",
    "episodio = utils.Episode(environment=lab,\\\n",
    "        agent=agent,\\\n",
    "        model_name='Random',\\\n",
    "        num_rounds=15)\n",
    "# Visualize\n",
    "episodio.renderize()"
   ]
  },
  {
   "cell_type": "markdown",
   "metadata": {
    "id": "97DXACnUHNvn"
   },
   "source": [
    "---"
   ]
  },
  {
   "cell_type": "markdown",
   "metadata": {
    "id": "aLZUwiSDHNvn"
   },
   "source": [
    "## Un agente dirigido por tabla <a class=\"anchor\" id=\"agenteTD\"></a>\n",
    "\n",
    "([Volver al inicio](#inicio))\n",
    "\n",
    "El tipo más sencillo de un programa de agente es cuando hacemos una asociación directa entre input y output, en este caso, entre percepción y acción. Esta asociación se puede realizar mediante una tabla.\n",
    "\n",
    "Definimos la siguiente tabla (que hasta ahora sólo está definida parcialmente), la cual vincula perceptos con acciones. La tabla implementa la idea de que si el agente percibe que el frente no está bloqueado y el flanco derecho está bloqueado, entonces avanza una casilla:"
   ]
  },
  {
   "cell_type": "code",
   "execution_count": 49,
   "metadata": {
    "id": "a63Mv3jiHNvn"
   },
   "outputs": [],
   "source": [
    "# (sensor frontal, sensor izquierdo, sensor derecho, sensor trasero)\n",
    "tabla = {\n",
    "    # Si el frente no está bloqueado y el flanco derecho está\n",
    "    # bloqueado, avanzar una casilla\n",
    "    (False, True, True, True):['adelante'],\n",
    "    (False, True, True, False):['adelante'],\n",
    "    (False, False, True, True):['adelante'],\n",
    "    (False, False, True, False):['adelante'],\n",
    "}"
   ]
  },
  {
   "cell_type": "markdown",
   "metadata": {
    "id": "DIhuYx9fHNvn"
   },
   "source": [
    "Note que esta regla tan simple requiere ser expresada mediante cuatro filas de la tabla.\n",
    "\n",
    "Observemos cómo trabaja el agente que implementa este programa, que se encuentra implementado en la clase `TableDriven` del módulo `agentes`:"
   ]
  },
  {
   "cell_type": "code",
   "execution_count": 50,
   "metadata": {
    "colab": {
     "base_uri": "https://localhost:8080/",
     "height": 466
    },
    "id": "pWh5p3FTHNvn",
    "outputId": "0ad0eef6-b1de-47fd-edce-f3da3d887a3b"
   },
   "outputs": [
    {
     "data": {
      "image/png": "[encoded data removed]",
      "text/plain": [
       "<Figure size 576x576 with 1 Axes>"
      ]
     },
     "metadata": {
      "needs_background": "light"
     },
     "output_type": "display_data"
    },
    {
     "ename": "Exception",
     "evalue": "¡Tabla incompleta! No contempla el estado [True, False, True, False]",
     "output_type": "error",
     "traceback": [
      "\u001b[1;31m---------------------------------------------------------------------------\u001b[0m",
      "\u001b[1;31mKeyError\u001b[0m                                  Traceback (most recent call last)",
      "File \u001b[1;32m~\\Downloads\\Tipos de agente-20230803\\agentes.py:77\u001b[0m, in \u001b[0;36mTableDriven.program\u001b[1;34m(self)\u001b[0m\n\u001b[0;32m     75\u001b[0m \u001b[38;5;28;01mtry\u001b[39;00m:\n\u001b[0;32m     76\u001b[0m     \u001b[38;5;66;03m# Obtenemos un plan de la tabla\u001b[39;00m\n\u001b[1;32m---> 77\u001b[0m     \u001b[38;5;28mself\u001b[39m\u001b[38;5;241m.\u001b[39mplan \u001b[38;5;241m+\u001b[39m\u001b[38;5;241m=\u001b[39m \u001b[38;5;28;43mself\u001b[39;49m\u001b[38;5;241;43m.\u001b[39;49m\u001b[43mtabla\u001b[49m\u001b[43m[\u001b[49m\u001b[38;5;28;43mtuple\u001b[39;49m\u001b[43m(\u001b[49m\u001b[43mstate\u001b[49m\u001b[43m)\u001b[49m\u001b[43m]\u001b[49m\n\u001b[0;32m     78\u001b[0m \u001b[38;5;28;01mexcept\u001b[39;00m:\n",
      "\u001b[1;31mKeyError\u001b[0m: (True, False, True, False)",
      "\nDuring handling of the above exception, another exception occurred:\n",
      "\u001b[1;31mException\u001b[0m                                 Traceback (most recent call last)",
      "Input \u001b[1;32mIn [50]\u001b[0m, in \u001b[0;36m<cell line: 13>\u001b[1;34m()\u001b[0m\n\u001b[0;32m     11\u001b[0m \u001b[38;5;66;03m# Visualize\u001b[39;00m\n\u001b[0;32m     12\u001b[0m episodio\u001b[38;5;241m.\u001b[39msleep_time\u001b[38;5;241m=\u001b[39m\u001b[38;5;241m0\u001b[39m\n\u001b[1;32m---> 13\u001b[0m \u001b[43mepisodio\u001b[49m\u001b[38;5;241;43m.\u001b[39;49m\u001b[43mrenderize\u001b[49m\u001b[43m(\u001b[49m\u001b[43m)\u001b[49m\n",
      "File \u001b[1;32m~\\Downloads\\Tipos de agente-20230803\\utils.py:138\u001b[0m, in \u001b[0;36mEpisode.renderize\u001b[1;34m(self)\u001b[0m\n\u001b[0;32m    136\u001b[0m \u001b[38;5;28;01mfor\u001b[39;00m \u001b[38;5;28mround\u001b[39m \u001b[38;5;129;01min\u001b[39;00m \u001b[38;5;28mrange\u001b[39m(\u001b[38;5;28mself\u001b[39m\u001b[38;5;241m.\u001b[39mnum_rounds):\n\u001b[0;32m    137\u001b[0m     \u001b[38;5;28;01mif\u001b[39;00m \u001b[38;5;129;01mnot\u001b[39;00m \u001b[38;5;28mself\u001b[39m\u001b[38;5;241m.\u001b[39mdone:\n\u001b[1;32m--> 138\u001b[0m         \u001b[38;5;28;43mself\u001b[39;49m\u001b[38;5;241;43m.\u001b[39;49m\u001b[43mplay_round\u001b[49m\u001b[43m(\u001b[49m\u001b[43mverbose\u001b[49m\u001b[38;5;241;43m=\u001b[39;49m\u001b[38;5;241;43m0\u001b[39;49m\u001b[43m)\u001b[49m                \n\u001b[0;32m    139\u001b[0m         clear_output(wait\u001b[38;5;241m=\u001b[39m\u001b[38;5;28;01mTrue\u001b[39;00m)\n\u001b[0;32m    140\u001b[0m         \u001b[38;5;28mself\u001b[39m\u001b[38;5;241m.\u001b[39menvironment\u001b[38;5;241m.\u001b[39mrender()\n",
      "File \u001b[1;32m~\\Downloads\\Tipos de agente-20230803\\utils.py:47\u001b[0m, in \u001b[0;36mEpisode.play_round\u001b[1;34m(self, verbose)\u001b[0m\n\u001b[0;32m     36\u001b[0m \u001b[38;5;124;03m'''\u001b[39;00m\n\u001b[0;32m     37\u001b[0m \u001b[38;5;124;03mPlays one round of the game.\u001b[39;00m\n\u001b[0;32m     38\u001b[0m \u001b[38;5;124;03mInput:\u001b[39;00m\n\u001b[1;32m   (...)\u001b[0m\n\u001b[0;32m     44\u001b[0m \u001b[38;5;124;03m        4: simulation, episode and round information\u001b[39;00m\n\u001b[0;32m     45\u001b[0m \u001b[38;5;124;03m'''\u001b[39;00m\n\u001b[0;32m     46\u001b[0m \u001b[38;5;66;03m# Ask agent to make a decision\u001b[39;00m\n\u001b[1;32m---> 47\u001b[0m action \u001b[38;5;241m=\u001b[39m \u001b[38;5;28;43mself\u001b[39;49m\u001b[38;5;241;43m.\u001b[39;49m\u001b[43magent\u001b[49m\u001b[38;5;241;43m.\u001b[39;49m\u001b[43mmake_decision\u001b[49m\u001b[43m(\u001b[49m\u001b[43m)\u001b[49m\n\u001b[0;32m     48\u001b[0m \u001b[38;5;28mself\u001b[39m\u001b[38;5;241m.\u001b[39magent\u001b[38;5;241m.\u001b[39mactions\u001b[38;5;241m.\u001b[39mappend(action)\n\u001b[0;32m     49\u001b[0m \u001b[38;5;66;03m# Runs the environment and obtains the next_state, reward, done\u001b[39;00m\n",
      "File \u001b[1;32m~\\Downloads\\Tipos de agente-20230803\\agentes.py:24\u001b[0m, in \u001b[0;36mAgent.make_decision\u001b[1;34m(self)\u001b[0m\n\u001b[0;32m     21\u001b[0m \u001b[38;5;66;03m# Chequeamos si ya el agente no tiene un plan (lista de acciones)\u001b[39;00m\n\u001b[0;32m     22\u001b[0m \u001b[38;5;28;01mif\u001b[39;00m \u001b[38;5;28mlen\u001b[39m(\u001b[38;5;28mself\u001b[39m\u001b[38;5;241m.\u001b[39mplan) \u001b[38;5;241m==\u001b[39m \u001b[38;5;241m0\u001b[39m:\n\u001b[0;32m     23\u001b[0m     \u001b[38;5;66;03m# Usamos el programa para crear un plan\u001b[39;00m\n\u001b[1;32m---> 24\u001b[0m     \u001b[38;5;28;43mself\u001b[39;49m\u001b[38;5;241;43m.\u001b[39;49m\u001b[43mprogram\u001b[49m\u001b[43m(\u001b[49m\u001b[43m)\u001b[49m\n\u001b[0;32m     25\u001b[0m \u001b[38;5;28;01mtry\u001b[39;00m:\n\u001b[0;32m     26\u001b[0m     \u001b[38;5;66;03m# La acción a realizar es la primera del plan\u001b[39;00m\n\u001b[0;32m     27\u001b[0m     action \u001b[38;5;241m=\u001b[39m \u001b[38;5;28mself\u001b[39m\u001b[38;5;241m.\u001b[39mplan\u001b[38;5;241m.\u001b[39mpop(\u001b[38;5;241m0\u001b[39m)\n",
      "File \u001b[1;32m~\\Downloads\\Tipos de agente-20230803\\agentes.py:79\u001b[0m, in \u001b[0;36mTableDriven.program\u001b[1;34m(self)\u001b[0m\n\u001b[0;32m     77\u001b[0m     \u001b[38;5;28mself\u001b[39m\u001b[38;5;241m.\u001b[39mplan \u001b[38;5;241m+\u001b[39m\u001b[38;5;241m=\u001b[39m \u001b[38;5;28mself\u001b[39m\u001b[38;5;241m.\u001b[39mtabla[\u001b[38;5;28mtuple\u001b[39m(state)]\n\u001b[0;32m     78\u001b[0m \u001b[38;5;28;01mexcept\u001b[39;00m:\n\u001b[1;32m---> 79\u001b[0m     \u001b[38;5;28;01mraise\u001b[39;00m \u001b[38;5;167;01mException\u001b[39;00m(\u001b[38;5;124mf\u001b[39m\u001b[38;5;124m'\u001b[39m\u001b[38;5;124m¡Tabla incompleta! No contempla el estado \u001b[39m\u001b[38;5;132;01m{\u001b[39;00mstate\u001b[38;5;132;01m}\u001b[39;00m\u001b[38;5;124m'\u001b[39m)\n",
      "\u001b[1;31mException\u001b[0m: ¡Tabla incompleta! No contempla el estado [True, False, True, False]"
     ]
    }
   ],
   "source": [
    "# Create environment\n",
    "lab = Laberinto()\n",
    "# Create agent\n",
    "agent = TableDriven()\n",
    "agent.tabla = tabla\n",
    "# Create episode\n",
    "episodio = utils.Episode(environment=lab,\\\n",
    "        agent=agent,\\\n",
    "        model_name='Tabla',\\\n",
    "        num_rounds=15)\n",
    "# Visualize\n",
    "episodio.sleep_time=0\n",
    "episodio.renderize()"
   ]
  },
  {
   "cell_type": "markdown",
   "metadata": {
    "id": "ikdyHEGVHNvo"
   },
   "source": [
    "El error `¡Tabla incompleta! No contempla el estado [True, False, True, False]` ocurre porque la tabla no tiene ninguna fila para el percepto `(True, False, True, False)` y entonces no puede determinar ninguna acción a tomar. ¡Observe que el agente no sabe qué acción tomar en ninguna situación cuando hay un muro enfrente!"
   ]
  },
  {
   "cell_type": "markdown",
   "metadata": {
    "id": "2H7rmxK1HNvo"
   },
   "source": [
    "<a class=\"anchor\" id=\"ej1\"></a>**Ejercicio 1:**\n",
    "\n",
    "([Próximo ejercicio](#ej2))\n",
    "\n",
    "El agente llega hasta que se topa con un muro y no sabe qué hacer. Extienda la tabla anterior para incluir las líneas que determinan que \"si el frente y el flanco derecho están bloqueados y el flanco izquierdo no está bloqueado, voltear a la izquierda\".\n",
    "\n",
    "Visualice el funcionamiento del agente para comprobar su respuesta."
   ]
  },
  {
   "cell_type": "code",
   "execution_count": 51,
   "metadata": {},
   "outputs": [
    {
     "data": {
      "image/png": "[encoded data removed]",
      "text/plain": [
       "<Figure size 576x576 with 1 Axes>"
      ]
     },
     "metadata": {
      "needs_background": "light"
     },
     "output_type": "display_data"
    },
    {
     "ename": "Exception",
     "evalue": "¡Tabla incompleta! No contempla el estado [True, False, False, False]",
     "output_type": "error",
     "traceback": [
      "\u001b[1;31m---------------------------------------------------------------------------\u001b[0m",
      "\u001b[1;31mKeyError\u001b[0m                                  Traceback (most recent call last)",
      "File \u001b[1;32m~\\Downloads\\Tipos de agente-20230803\\agentes.py:77\u001b[0m, in \u001b[0;36mTableDriven.program\u001b[1;34m(self)\u001b[0m\n\u001b[0;32m     75\u001b[0m \u001b[38;5;28;01mtry\u001b[39;00m:\n\u001b[0;32m     76\u001b[0m     \u001b[38;5;66;03m# Obtenemos un plan de la tabla\u001b[39;00m\n\u001b[1;32m---> 77\u001b[0m     \u001b[38;5;28mself\u001b[39m\u001b[38;5;241m.\u001b[39mplan \u001b[38;5;241m+\u001b[39m\u001b[38;5;241m=\u001b[39m \u001b[38;5;28;43mself\u001b[39;49m\u001b[38;5;241;43m.\u001b[39;49m\u001b[43mtabla\u001b[49m\u001b[43m[\u001b[49m\u001b[38;5;28;43mtuple\u001b[39;49m\u001b[43m(\u001b[49m\u001b[43mstate\u001b[49m\u001b[43m)\u001b[49m\u001b[43m]\u001b[49m\n\u001b[0;32m     78\u001b[0m \u001b[38;5;28;01mexcept\u001b[39;00m:\n",
      "\u001b[1;31mKeyError\u001b[0m: (True, False, False, False)",
      "\nDuring handling of the above exception, another exception occurred:\n",
      "\u001b[1;31mException\u001b[0m                                 Traceback (most recent call last)",
      "Input \u001b[1;32mIn [51]\u001b[0m, in \u001b[0;36m<cell line: 26>\u001b[1;34m()\u001b[0m\n\u001b[0;32m     24\u001b[0m \u001b[38;5;66;03m# Visualize\u001b[39;00m\n\u001b[0;32m     25\u001b[0m episodio\u001b[38;5;241m.\u001b[39msleep_time\u001b[38;5;241m=\u001b[39m\u001b[38;5;241m0\u001b[39m\n\u001b[1;32m---> 26\u001b[0m \u001b[43mepisodio\u001b[49m\u001b[38;5;241;43m.\u001b[39;49m\u001b[43mrenderize\u001b[49m\u001b[43m(\u001b[49m\u001b[43m)\u001b[49m\n",
      "File \u001b[1;32m~\\Downloads\\Tipos de agente-20230803\\utils.py:138\u001b[0m, in \u001b[0;36mEpisode.renderize\u001b[1;34m(self)\u001b[0m\n\u001b[0;32m    136\u001b[0m \u001b[38;5;28;01mfor\u001b[39;00m \u001b[38;5;28mround\u001b[39m \u001b[38;5;129;01min\u001b[39;00m \u001b[38;5;28mrange\u001b[39m(\u001b[38;5;28mself\u001b[39m\u001b[38;5;241m.\u001b[39mnum_rounds):\n\u001b[0;32m    137\u001b[0m     \u001b[38;5;28;01mif\u001b[39;00m \u001b[38;5;129;01mnot\u001b[39;00m \u001b[38;5;28mself\u001b[39m\u001b[38;5;241m.\u001b[39mdone:\n\u001b[1;32m--> 138\u001b[0m         \u001b[38;5;28;43mself\u001b[39;49m\u001b[38;5;241;43m.\u001b[39;49m\u001b[43mplay_round\u001b[49m\u001b[43m(\u001b[49m\u001b[43mverbose\u001b[49m\u001b[38;5;241;43m=\u001b[39;49m\u001b[38;5;241;43m0\u001b[39;49m\u001b[43m)\u001b[49m                \n\u001b[0;32m    139\u001b[0m         clear_output(wait\u001b[38;5;241m=\u001b[39m\u001b[38;5;28;01mTrue\u001b[39;00m)\n\u001b[0;32m    140\u001b[0m         \u001b[38;5;28mself\u001b[39m\u001b[38;5;241m.\u001b[39menvironment\u001b[38;5;241m.\u001b[39mrender()\n",
      "File \u001b[1;32m~\\Downloads\\Tipos de agente-20230803\\utils.py:47\u001b[0m, in \u001b[0;36mEpisode.play_round\u001b[1;34m(self, verbose)\u001b[0m\n\u001b[0;32m     36\u001b[0m \u001b[38;5;124;03m'''\u001b[39;00m\n\u001b[0;32m     37\u001b[0m \u001b[38;5;124;03mPlays one round of the game.\u001b[39;00m\n\u001b[0;32m     38\u001b[0m \u001b[38;5;124;03mInput:\u001b[39;00m\n\u001b[1;32m   (...)\u001b[0m\n\u001b[0;32m     44\u001b[0m \u001b[38;5;124;03m        4: simulation, episode and round information\u001b[39;00m\n\u001b[0;32m     45\u001b[0m \u001b[38;5;124;03m'''\u001b[39;00m\n\u001b[0;32m     46\u001b[0m \u001b[38;5;66;03m# Ask agent to make a decision\u001b[39;00m\n\u001b[1;32m---> 47\u001b[0m action \u001b[38;5;241m=\u001b[39m \u001b[38;5;28;43mself\u001b[39;49m\u001b[38;5;241;43m.\u001b[39;49m\u001b[43magent\u001b[49m\u001b[38;5;241;43m.\u001b[39;49m\u001b[43mmake_decision\u001b[49m\u001b[43m(\u001b[49m\u001b[43m)\u001b[49m\n\u001b[0;32m     48\u001b[0m \u001b[38;5;28mself\u001b[39m\u001b[38;5;241m.\u001b[39magent\u001b[38;5;241m.\u001b[39mactions\u001b[38;5;241m.\u001b[39mappend(action)\n\u001b[0;32m     49\u001b[0m \u001b[38;5;66;03m# Runs the environment and obtains the next_state, reward, done\u001b[39;00m\n",
      "File \u001b[1;32m~\\Downloads\\Tipos de agente-20230803\\agentes.py:24\u001b[0m, in \u001b[0;36mAgent.make_decision\u001b[1;34m(self)\u001b[0m\n\u001b[0;32m     21\u001b[0m \u001b[38;5;66;03m# Chequeamos si ya el agente no tiene un plan (lista de acciones)\u001b[39;00m\n\u001b[0;32m     22\u001b[0m \u001b[38;5;28;01mif\u001b[39;00m \u001b[38;5;28mlen\u001b[39m(\u001b[38;5;28mself\u001b[39m\u001b[38;5;241m.\u001b[39mplan) \u001b[38;5;241m==\u001b[39m \u001b[38;5;241m0\u001b[39m:\n\u001b[0;32m     23\u001b[0m     \u001b[38;5;66;03m# Usamos el programa para crear un plan\u001b[39;00m\n\u001b[1;32m---> 24\u001b[0m     \u001b[38;5;28;43mself\u001b[39;49m\u001b[38;5;241;43m.\u001b[39;49m\u001b[43mprogram\u001b[49m\u001b[43m(\u001b[49m\u001b[43m)\u001b[49m\n\u001b[0;32m     25\u001b[0m \u001b[38;5;28;01mtry\u001b[39;00m:\n\u001b[0;32m     26\u001b[0m     \u001b[38;5;66;03m# La acción a realizar es la primera del plan\u001b[39;00m\n\u001b[0;32m     27\u001b[0m     action \u001b[38;5;241m=\u001b[39m \u001b[38;5;28mself\u001b[39m\u001b[38;5;241m.\u001b[39mplan\u001b[38;5;241m.\u001b[39mpop(\u001b[38;5;241m0\u001b[39m)\n",
      "File \u001b[1;32m~\\Downloads\\Tipos de agente-20230803\\agentes.py:79\u001b[0m, in \u001b[0;36mTableDriven.program\u001b[1;34m(self)\u001b[0m\n\u001b[0;32m     77\u001b[0m     \u001b[38;5;28mself\u001b[39m\u001b[38;5;241m.\u001b[39mplan \u001b[38;5;241m+\u001b[39m\u001b[38;5;241m=\u001b[39m \u001b[38;5;28mself\u001b[39m\u001b[38;5;241m.\u001b[39mtabla[\u001b[38;5;28mtuple\u001b[39m(state)]\n\u001b[0;32m     78\u001b[0m \u001b[38;5;28;01mexcept\u001b[39;00m:\n\u001b[1;32m---> 79\u001b[0m     \u001b[38;5;28;01mraise\u001b[39;00m \u001b[38;5;167;01mException\u001b[39;00m(\u001b[38;5;124mf\u001b[39m\u001b[38;5;124m'\u001b[39m\u001b[38;5;124m¡Tabla incompleta! No contempla el estado \u001b[39m\u001b[38;5;132;01m{\u001b[39;00mstate\u001b[38;5;132;01m}\u001b[39;00m\u001b[38;5;124m'\u001b[39m)\n",
      "\u001b[1;31mException\u001b[0m: ¡Tabla incompleta! No contempla el estado [True, False, False, False]"
     ]
    }
   ],
   "source": [
    "# (sensor frontal, sensor izquierdo, sensor derecho, sensor trasero)\n",
    "tabla = {\n",
    "    # Si el frente no está bloqueado y el flanco derecho está\n",
    "    # bloqueado, avanzar una casilla\n",
    "    (False, True, True, True):['adelante'],\n",
    "    (False, True, True, False):['adelante'],\n",
    "    (False, False, True, True):['adelante'],\n",
    "    (False, False, True, False):['adelante'],\n",
    "    # Adición 1: \"si el frente y el flanco derecho están bloqueados y el flanco izquierdo no está bloqueado, voltear a la izquierda\".\n",
    "    (True, False, True, False):['voltearIzquierda'],\n",
    "    (True, False, True, True):['voltearIzquierda'],\n",
    "}\n",
    "\n",
    "# Create environment\n",
    "lab = Laberinto()\n",
    "# Create agent\n",
    "agent = TableDriven()\n",
    "agent.tabla = tabla\n",
    "# Create episode\n",
    "episodio = utils.Episode(environment=lab,\\\n",
    "        agent=agent,\\\n",
    "        model_name='Tabla',\\\n",
    "        num_rounds=15)\n",
    "# Visualize\n",
    "episodio.sleep_time=0\n",
    "episodio.renderize()"
   ]
  },
  {
   "cell_type": "markdown",
   "metadata": {
    "id": "Mz027la7HNvo"
   },
   "source": [
    "---"
   ]
  },
  {
   "cell_type": "markdown",
   "metadata": {
    "id": "tX9jYWK1HNvo"
   },
   "source": [
    "<a class=\"anchor\" id=\"ej2\"></a>**Ejercicio 2:**\n",
    "\n",
    "([Anterior ejercicio](#ej1)) ([Próximo ejercicio](#ej3))\n",
    "\n",
    "En la tabla falta incluir instrucciones que digan que \"si el flanco derecho no está bloqueado, voltear a la derecha y avanzar una casilla\". Extienda la tabla del ejercicio 2 para incluir las líneas que implementan esta regla. Visualice el funcionamiento del agente comenzando desde la casilla $(11,11)$.\n",
    "\n",
    "**Nota:** cambie el parámetro `num_rounds` del episodio a 70."
   ]
  },
  {
   "cell_type": "code",
   "execution_count": 52,
   "metadata": {},
   "outputs": [
    {
     "data": {
      "image/png": "[encoded data removed]",
      "text/plain": [
       "<Figure size 576x576 with 1 Axes>"
      ]
     },
     "metadata": {
      "needs_background": "light"
     },
     "output_type": "display_data"
    }
   ],
   "source": [
    "# (sensor frontal, sensor izquierdo, sensor derecho, sensor trasero)\n",
    "tabla = {\n",
    "    # Si el frente no está bloqueado y el flanco derecho está\n",
    "    # bloqueado, avanzar una casilla\n",
    "    (False, True, True, True):['adelante'],\n",
    "    (False, True, True, False):['adelante'],\n",
    "    (False, False, True, True):['adelante'],\n",
    "    (False, False, True, False):['adelante'],\n",
    "    # Adición 1: \"si el frente y el flanco derecho están bloqueados y el flanco izquierdo no está bloqueado, voltear a la izquierda\".\n",
    "    (True, False, True, False):['voltearIzquierda'],\n",
    "    (True, False, True, True):['voltearIzquierda'],\n",
    "    # Adición 2: \"si el flanco derecho no está bloqueado, voltear a la derecha y avanzar una casilla\"\n",
    "    (False, False, False, False):['voltearDerecha', 'adelante'],\n",
    "    (False, False, False, True):['voltearDerecha', 'adelante'],\n",
    "    (False, True, False, False):['voltearDerecha', 'adelante'],\n",
    "    (False, True, False, True):['voltearDerecha', 'adelante'],\n",
    "    (True, False, False, False):['voltearDerecha', 'adelante'],\n",
    "    (True, False, False, True):['voltearDerecha', 'adelante'],\n",
    "    (True, True, False, False):['voltearDerecha', 'adelante'],\n",
    "    (True, True, False, True):['voltearDerecha', 'adelante'],\n",
    "}\n",
    "\n",
    "# Create environment\n",
    "lab = Laberinto()\n",
    "# Create agent\n",
    "agent = TableDriven()\n",
    "agent.tabla = tabla\n",
    "# Create episode\n",
    "episodio = utils.Episode(environment=lab,\\\n",
    "        agent=agent,\\\n",
    "        model_name='Tabla',\\\n",
    "        num_rounds=70)\n",
    "# Visualize\n",
    "episodio.sleep_time=0\n",
    "episodio.renderize()"
   ]
  },
  {
   "cell_type": "markdown",
   "metadata": {
    "id": "N__Pe_aeHNvo"
   },
   "source": [
    "---"
   ]
  },
  {
   "cell_type": "markdown",
   "metadata": {
    "id": "BtQJfeI4HNvo"
   },
   "source": [
    "<a class=\"anchor\" id=\"ej3\"></a>**Ejercicio 3:**\n",
    "\n",
    "([Anterior ejercicio](#ej2)) ([Próximo ejercicio](#ej4))\n",
    "\n",
    "* ¿Qué pasa cuando el agente comienza en la casilla $(6,3)$? Describa el comportamiento del agente y explique si el programa de agente resulta adecuado o no para este caso.\n",
    "\n",
    "El agente esta programado para moverse siguiendo los muros a la derecha, es decir, si el flanco derecho esta bloqueado gira y se mueve. Por lo que en este caso, donde las casillas derechas siempre estan bloquadas, se queda en un bucle en forma de infinito. Generando un resultado poco adecuado para este caso.\n",
    "\n",
    "* ¿Qué pasa cuando el agente comienza en la casilla $(7,3)$? Describa el comportamiento del agente y explique si el programa de agente resulta adecuado o no para este caso.\n",
    "\n",
    "El agente esta programado para que si el flanco derecho no está bloqueado, voltear a la derecha y avanzar una casilla. Por su posición inicial, el agente siempre tendra el flanco derecho libre, llevandolo a un bucle en forma de cuadrado. En consecuencia, resulta poco adecuado su comportamiento para este caso."
   ]
  },
  {
   "cell_type": "markdown",
   "metadata": {
    "id": "bgKozLOWHNvo"
   },
   "source": [
    "---"
   ]
  },
  {
   "cell_type": "markdown",
   "metadata": {
    "id": "dYDSBEL8HNvo"
   },
   "source": [
    "## Un agente de reflejo simple <a class=\"anchor\" id=\"agenteSR\"></a>\n",
    "\n",
    "([Volver al inicio](#inicio))\n",
    "\n",
    "El proceso de escribir una tabla es bastante dispendioso, pues hay que considerar una gran cantidad de combinaciones de perceptos de los sensores. Un tipo de agente de nivel un poco más elevado que resuelve esta situación son los agentes de reflejo simple. El programa de este tipo de agentes está basado en relgas de condición-acción, las cuales relacionan condiciones sobre los sensores y las acciones. Al considerar condiciones en lugar de combinaciones de perceptos, la escritura es más eficiente.\n",
    "\n",
    "A continuación presentamos una posible implementación de un agente de reflejo simple para el problema del laberinto, implementado en la clase `RuleBased` del módulo `agentes`."
   ]
  },
  {
   "cell_type": "code",
   "execution_count": 53,
   "metadata": {
    "id": "Rsxju19QHNvo"
   },
   "outputs": [],
   "source": [
    "# state[0]  =>  sensor forntal\n",
    "# state[1]  =>  sensor izquierdo\n",
    "# state[2]  =>  sensor derecho\n",
    "# state[3]  =>  sensor trasero\n",
    "reglas = {\n",
    "    # Si el frente no está bloqueado y el flanco derecho está\n",
    "    # bloqueado, avanzar una casilla.\n",
    "    'not state[0] and state[2]': ['adelante'],\n",
    "}"
   ]
  },
  {
   "cell_type": "code",
   "execution_count": 54,
   "metadata": {
    "colab": {
     "base_uri": "https://localhost:8080/",
     "height": 469
    },
    "id": "aT6MrjHpHNvp",
    "outputId": "ace6f30c-65f6-4ec7-d5e5-ebcae9670aa4"
   },
   "outputs": [
    {
     "data": {
      "image/png": "[encoded data removed]",
      "text/plain": [
       "<Figure size 576x576 with 1 Axes>"
      ]
     },
     "metadata": {
      "needs_background": "light"
     },
     "output_type": "display_data"
    },
    {
     "ename": "Exception",
     "evalue": "¡Plan vacío! Revisar reglas en estado [True, False, True, False]",
     "output_type": "error",
     "traceback": [
      "\u001b[1;31m---------------------------------------------------------------------------\u001b[0m",
      "\u001b[1;31mIndexError\u001b[0m                                Traceback (most recent call last)",
      "File \u001b[1;32m~\\Downloads\\Tipos de agente-20230803\\agentes.py:27\u001b[0m, in \u001b[0;36mAgent.make_decision\u001b[1;34m(self)\u001b[0m\n\u001b[0;32m     25\u001b[0m \u001b[38;5;28;01mtry\u001b[39;00m:\n\u001b[0;32m     26\u001b[0m     \u001b[38;5;66;03m# La acción a realizar es la primera del plan\u001b[39;00m\n\u001b[1;32m---> 27\u001b[0m     action \u001b[38;5;241m=\u001b[39m \u001b[38;5;28;43mself\u001b[39;49m\u001b[38;5;241;43m.\u001b[39;49m\u001b[43mplan\u001b[49m\u001b[38;5;241;43m.\u001b[39;49m\u001b[43mpop\u001b[49m\u001b[43m(\u001b[49m\u001b[38;5;241;43m0\u001b[39;49m\u001b[43m)\u001b[49m\n\u001b[0;32m     28\u001b[0m \u001b[38;5;28;01mexcept\u001b[39;00m:\n\u001b[0;32m     29\u001b[0m     \u001b[38;5;66;03m# ¡No hay plan!\u001b[39;00m\n",
      "\u001b[1;31mIndexError\u001b[0m: pop from empty list",
      "\nDuring handling of the above exception, another exception occurred:\n",
      "\u001b[1;31mException\u001b[0m                                 Traceback (most recent call last)",
      "Input \u001b[1;32mIn [54]\u001b[0m, in \u001b[0;36m<cell line: 13>\u001b[1;34m()\u001b[0m\n\u001b[0;32m     11\u001b[0m \u001b[38;5;66;03m# Visualize\u001b[39;00m\n\u001b[0;32m     12\u001b[0m episodio\u001b[38;5;241m.\u001b[39msleep_time\u001b[38;5;241m=\u001b[39m\u001b[38;5;241m0\u001b[39m\n\u001b[1;32m---> 13\u001b[0m \u001b[43mepisodio\u001b[49m\u001b[38;5;241;43m.\u001b[39;49m\u001b[43mrenderize\u001b[49m\u001b[43m(\u001b[49m\u001b[43m)\u001b[49m\n",
      "File \u001b[1;32m~\\Downloads\\Tipos de agente-20230803\\utils.py:138\u001b[0m, in \u001b[0;36mEpisode.renderize\u001b[1;34m(self)\u001b[0m\n\u001b[0;32m    136\u001b[0m \u001b[38;5;28;01mfor\u001b[39;00m \u001b[38;5;28mround\u001b[39m \u001b[38;5;129;01min\u001b[39;00m \u001b[38;5;28mrange\u001b[39m(\u001b[38;5;28mself\u001b[39m\u001b[38;5;241m.\u001b[39mnum_rounds):\n\u001b[0;32m    137\u001b[0m     \u001b[38;5;28;01mif\u001b[39;00m \u001b[38;5;129;01mnot\u001b[39;00m \u001b[38;5;28mself\u001b[39m\u001b[38;5;241m.\u001b[39mdone:\n\u001b[1;32m--> 138\u001b[0m         \u001b[38;5;28;43mself\u001b[39;49m\u001b[38;5;241;43m.\u001b[39;49m\u001b[43mplay_round\u001b[49m\u001b[43m(\u001b[49m\u001b[43mverbose\u001b[49m\u001b[38;5;241;43m=\u001b[39;49m\u001b[38;5;241;43m0\u001b[39;49m\u001b[43m)\u001b[49m                \n\u001b[0;32m    139\u001b[0m         clear_output(wait\u001b[38;5;241m=\u001b[39m\u001b[38;5;28;01mTrue\u001b[39;00m)\n\u001b[0;32m    140\u001b[0m         \u001b[38;5;28mself\u001b[39m\u001b[38;5;241m.\u001b[39menvironment\u001b[38;5;241m.\u001b[39mrender()\n",
      "File \u001b[1;32m~\\Downloads\\Tipos de agente-20230803\\utils.py:47\u001b[0m, in \u001b[0;36mEpisode.play_round\u001b[1;34m(self, verbose)\u001b[0m\n\u001b[0;32m     36\u001b[0m \u001b[38;5;124;03m'''\u001b[39;00m\n\u001b[0;32m     37\u001b[0m \u001b[38;5;124;03mPlays one round of the game.\u001b[39;00m\n\u001b[0;32m     38\u001b[0m \u001b[38;5;124;03mInput:\u001b[39;00m\n\u001b[1;32m   (...)\u001b[0m\n\u001b[0;32m     44\u001b[0m \u001b[38;5;124;03m        4: simulation, episode and round information\u001b[39;00m\n\u001b[0;32m     45\u001b[0m \u001b[38;5;124;03m'''\u001b[39;00m\n\u001b[0;32m     46\u001b[0m \u001b[38;5;66;03m# Ask agent to make a decision\u001b[39;00m\n\u001b[1;32m---> 47\u001b[0m action \u001b[38;5;241m=\u001b[39m \u001b[38;5;28;43mself\u001b[39;49m\u001b[38;5;241;43m.\u001b[39;49m\u001b[43magent\u001b[49m\u001b[38;5;241;43m.\u001b[39;49m\u001b[43mmake_decision\u001b[49m\u001b[43m(\u001b[49m\u001b[43m)\u001b[49m\n\u001b[0;32m     48\u001b[0m \u001b[38;5;28mself\u001b[39m\u001b[38;5;241m.\u001b[39magent\u001b[38;5;241m.\u001b[39mactions\u001b[38;5;241m.\u001b[39mappend(action)\n\u001b[0;32m     49\u001b[0m \u001b[38;5;66;03m# Runs the environment and obtains the next_state, reward, done\u001b[39;00m\n",
      "File \u001b[1;32m~\\Downloads\\Tipos de agente-20230803\\agentes.py:31\u001b[0m, in \u001b[0;36mAgent.make_decision\u001b[1;34m(self)\u001b[0m\n\u001b[0;32m     28\u001b[0m \u001b[38;5;28;01mexcept\u001b[39;00m:\n\u001b[0;32m     29\u001b[0m     \u001b[38;5;66;03m# ¡No hay plan!\u001b[39;00m\n\u001b[0;32m     30\u001b[0m     state \u001b[38;5;241m=\u001b[39m \u001b[38;5;28mself\u001b[39m\u001b[38;5;241m.\u001b[39mstates[\u001b[38;5;241m-\u001b[39m\u001b[38;5;241m1\u001b[39m]\n\u001b[1;32m---> 31\u001b[0m     \u001b[38;5;28;01mraise\u001b[39;00m \u001b[38;5;167;01mException\u001b[39;00m(\u001b[38;5;124mf\u001b[39m\u001b[38;5;124m'\u001b[39m\u001b[38;5;124m¡Plan vacío! Revisar reglas en estado \u001b[39m\u001b[38;5;132;01m{\u001b[39;00mstate\u001b[38;5;132;01m}\u001b[39;00m\u001b[38;5;124m'\u001b[39m)\n\u001b[0;32m     32\u001b[0m \u001b[38;5;28mself\u001b[39m\u001b[38;5;241m.\u001b[39mturn \u001b[38;5;241m+\u001b[39m\u001b[38;5;241m=\u001b[39m \u001b[38;5;241m1\u001b[39m\n\u001b[0;32m     33\u001b[0m \u001b[38;5;28;01mreturn\u001b[39;00m action\n",
      "\u001b[1;31mException\u001b[0m: ¡Plan vacío! Revisar reglas en estado [True, False, True, False]"
     ]
    }
   ],
   "source": [
    "# Create environment\n",
    "lab = Laberinto()\n",
    "# Create agent\n",
    "agent = RuleBased()\n",
    "agent.reglas = reglas\n",
    "# Create episode\n",
    "episodio = utils.Episode(environment=lab,\\\n",
    "        agent=agent,\\\n",
    "        model_name='Reglas',\\\n",
    "        num_rounds=70)\n",
    "# Visualize\n",
    "episodio.sleep_time=0\n",
    "episodio.renderize()"
   ]
  },
  {
   "cell_type": "markdown",
   "metadata": {
    "id": "8HU8V_T6HNvp"
   },
   "source": [
    "El error `¡Plan vacío! Revisar reglas en estado [True, False, True, False]` ocurre porque el programa aún no está equipado para dar una decisión cuando haya un muro enfrente."
   ]
  },
  {
   "cell_type": "markdown",
   "metadata": {
    "id": "F3f3uEDkHNvp"
   },
   "source": [
    "<a class=\"anchor\" id=\"ej4\"></a>**Ejercicio 4:**\n",
    "\n",
    "([Anterior ejercicio](#ej3)) ([Próximo ejercicio](#ej5))\n",
    "\n",
    "Extienda el programa de agente anterior para implementar las reglas condición-acción siguientes:\n",
    "\n",
    "* Si el frente y el flanco derecho están bloqueados pero el flanco izquierdo no está bloqueado, voltear a la izquierda.\n",
    "* Si el flanco derecho no está bloqueado, voltear a la derecha y avanzar una casilla.\n",
    "* Si solo la casilla trasera no está bloqueada, voltear dos veces a la izquierda y avanzar una casilla.\n",
    "\n",
    "Visualice el funcionamiento del agente desde la casilla $(11,11)$."
   ]
  },
  {
   "cell_type": "code",
   "execution_count": 55,
   "metadata": {},
   "outputs": [
    {
     "data": {
      "image/png": "[encoded data removed]",
      "text/plain": [
       "<Figure size 576x576 with 1 Axes>"
      ]
     },
     "metadata": {
      "needs_background": "light"
     },
     "output_type": "display_data"
    }
   ],
   "source": [
    "# state[0]  =>  sensor forntal\n",
    "# state[1]  =>  sensor izquierdo\n",
    "# state[2]  =>  sensor derecho\n",
    "# state[3]  =>  sensor trasero\n",
    "reglas = {\n",
    "    # Si el frente no está bloqueado y el flanco derecho está\n",
    "    # bloqueado, avanzar una casilla.\n",
    "    'not state[0] and state[2]': ['adelante'],\n",
    "    # Si el frente y el flanco derecho están bloqueados pero el\n",
    "    # flanco izquierdo no está bloqueado, voltear a la izquierda.\n",
    "    'state[0] and state[2] and not state[1]': ['voltearIzquierda'],\n",
    "    # Si el flanco derecho no está bloqueado, voltear a la derecha\n",
    "    # y avanzar una casilla.\n",
    "    'not state[2] ': ['voltearDerecha', 'adelante'],\n",
    "    # Si solo la casilla trasera no está bloqueada, voltear dos\n",
    "    # veces a la izquierda y avanzar una casilla.\n",
    "    'state[0] and state[1] and state[2] and not state[3]': ['voltearIzquierda', 'voltearIzquierda', 'adelante']\n",
    "}\n",
    "\n",
    "# Create environment\n",
    "lab = Laberinto()\n",
    "# Create agent\n",
    "agent = RuleBased()\n",
    "agent.reglas = reglas\n",
    "# Create episode\n",
    "episodio = utils.Episode(environment=lab,\\\n",
    "        agent=agent,\\\n",
    "        model_name='Reglas',\\\n",
    "        num_rounds=70)\n",
    "# Visualize\n",
    "episodio.sleep_time=0\n",
    "episodio.renderize()"
   ]
  },
  {
   "cell_type": "markdown",
   "metadata": {
    "id": "DAUMQbtvHNvp"
   },
   "source": [
    "---"
   ]
  },
  {
   "cell_type": "markdown",
   "metadata": {
    "id": "WxabkUrEHNvp"
   },
   "source": [
    "## Pruebas de desempeño <a class=\"anchor\" id=\"pruebas\"></a>\n",
    "\n",
    "([Volver al inicio](#inicio))\n",
    "\n",
    "Vamos a evaluar el desempeño de un solo agente respecto a qué tan rápido encuentra la salida y qué proporción de veces encuentra la salida. Luego compararemos el desempeño de dos agentes respecto a estas medidas."
   ]
  },
  {
   "cell_type": "markdown",
   "metadata": {
    "id": "DRb-in6_HNvp"
   },
   "source": [
    "**Evaluación de un agente**\n",
    "\n",
    "En la clase `Experiment` del módulo `utils` tenemos el método `run_experiment()`, el cual nos sirve para simular varios episodios. En cada episodio el agente inicia en un lugar distinto del laberinto. Esto se logra cambiando a `True` el parámetro de inicialización de la clase `Laberinto`.\n",
    "\n",
    "Corra varias veces la siguiente celda para comprobar que el agente comienza en distintas casillas cada vez:"
   ]
  },
  {
   "cell_type": "code",
   "execution_count": 58,
   "metadata": {
    "colab": {
     "base_uri": "https://localhost:8080/",
     "height": 466
    },
    "id": "ksY-yFAOHNvp",
    "outputId": "7ade7010-5b31-43ca-a8c4-795ab5945eac",
    "scrolled": false
   },
   "outputs": [
    {
     "data": {
      "image/png": "[encoded data removed]",
      "text/plain": [
       "<Figure size 576x576 with 1 Axes>"
      ]
     },
     "metadata": {
      "needs_background": "light"
     },
     "output_type": "display_data"
    }
   ],
   "source": [
    "# Create environment\n",
    "lab = Laberinto(aleatorio=True)\n",
    "lab.render()"
   ]
  },
  {
   "cell_type": "markdown",
   "metadata": {
    "id": "ft7SU-taHNvp"
   },
   "source": [
    "Ahora correremos la simulación. Nuestros parámetros serán un máximo de 300 rondas por cada episodio y correremos 100 episodios.\n",
    "\n",
    "Observe que vamos a obtener un error del agente que tendremos que atender:"
   ]
  },
  {
   "cell_type": "code",
   "execution_count": 59,
   "metadata": {
    "colab": {
     "base_uri": "https://localhost:8080/",
     "height": 494
    },
    "id": "QOyPjO-1HNvq",
    "outputId": "650f1480-cf05-4957-db96-9ce74de8d423"
   },
   "outputs": [
    {
     "name": "stderr",
     "output_type": "stream",
     "text": [
      "Testing agents over environment:   0%|                                                           | 0/1 [00:00<?, ?it/s]\n",
      "\t Running simulations:   0%|                                                                     | 0/1 [00:00<?, ?it/s]\u001b[A\n",
      "\t Running simulations: 100%|█████████████████████████████████████████████████████████████| 1/1 [00:00<00:00,  1.40it/s]\u001b[A\n",
      "Testing agents over environment: 100%|███████████████████████████████████████████████████| 1/1 [00:00<00:00,  1.39it/s]\n"
     ]
    },
    {
     "name": "stdout",
     "output_type": "stream",
     "text": [
      "Average sum of rewards:\n",
      " model\n",
      "Reglas   -181.66\n",
      "Name: reward, dtype: float64\n",
      "\n",
      "Success percentage:\n",
      " model\n",
      "Reglas    48.0\n",
      "Name: done, dtype: float64\n"
     ]
    },
    {
     "data": {
      "image/png": "[encoded data removed]",
      "text/plain": [
       "<Figure size 288x252 with 1 Axes>"
      ]
     },
     "metadata": {
      "needs_background": "light"
     },
     "output_type": "display_data"
    }
   ],
   "source": [
    "# Create experiment\n",
    "exp = utils.Experiment(num_rounds=300, \\\n",
    "                       num_episodes=100)\n",
    "# Create and load environment\n",
    "lab = Laberinto(aleatorio=True)\n",
    "exp.load_env(lab, \"laberinto\")\n",
    "# Create list of agents\n",
    "agent_rules = RuleBased()\n",
    "agent_rules.reglas = reglas\n",
    "agents_list = [agent_rules]\n",
    "names = ['Reglas']\n",
    "# Run the experiment\n",
    "exp.run_experiment(agents=agents_list, \\\n",
    "                   names=names, \\\n",
    "                   measures=['histogram'])"
   ]
  },
  {
   "cell_type": "markdown",
   "metadata": {
    "id": "MgHszO16HNvz"
   },
   "source": [
    "El histograma nos muestra una columna muy alta para valores de -300 en la variable de recompensa total (sum of rewards), y otras columnas más pequeñas para valores más cercanos a 0. Observe que la recompensa total es igual al número de pasos que da el agente en el laberinto. Los resultados numéricos que arroja la celda anterior incluyen el promedio de este número de pasos. Observe también que el porcentaje de episodios en los cuales el entorno finaliza antes de las 300 rondas se presenta como el porcentaje de éxito."
   ]
  },
  {
   "cell_type": "markdown",
   "metadata": {
    "id": "DxMR1VHLHNvz"
   },
   "source": [
    "**Comparación de varios agentes**\n",
    "\n",
    "Usaremos el método `run_experiment()` con una lista de varios agentes. El entorno se corre para cada uno de los agentes y se guardan los desempeños, para finalmente presentar los resultados de manera gráfica y tabular.\n",
    "\n",
    "En el siguiente ejemplo compararemos el agente aleatorio y el basado en reglas:"
   ]
  },
  {
   "cell_type": "code",
   "execution_count": 60,
   "metadata": {
    "colab": {
     "base_uri": "https://localhost:8080/",
     "height": 528
    },
    "id": "A-VxJA8PHNvz",
    "outputId": "219594e3-9213-4169-d143-341f629b33ce",
    "scrolled": true
   },
   "outputs": [
    {
     "name": "stderr",
     "output_type": "stream",
     "text": [
      "Testing agents over environment:   0%|                                                           | 0/1 [00:00<?, ?it/s]\n",
      "\t Running simulations:   0%|                                                                     | 0/1 [00:00<?, ?it/s]\u001b[A\n",
      "\t Running simulations: 100%|█████████████████████████████████████████████████████████████| 1/1 [00:01<00:00,  1.27s/it]\u001b[A\n",
      "Testing agents over environment: 100%|███████████████████████████████████████████████████| 1/1 [00:01<00:00,  1.28s/it]\n"
     ]
    },
    {
     "name": "stdout",
     "output_type": "stream",
     "text": [
      "Average sum of rewards:\n",
      " model\n",
      "Aleatorio   -286.25\n",
      "Reglas      -185.26\n",
      "Name: reward, dtype: float64\n",
      "\n",
      "Success percentage:\n",
      " model\n",
      "Aleatorio     9.0\n",
      "Reglas       47.0\n",
      "Name: done, dtype: float64\n"
     ]
    },
    {
     "data": {
      "image/png": "[encoded data removed]",
      "text/plain": [
       "<Figure size 288x252 with 1 Axes>"
      ]
     },
     "metadata": {
      "needs_background": "light"
     },
     "output_type": "display_data"
    }
   ],
   "source": [
    "# Create experiment\n",
    "exp = utils.Experiment(num_rounds=300, \\\n",
    "                       num_episodes=100)\n",
    "# Create and load environment\n",
    "# exp.load_test_suite(\"./testsuite_laberinto.json\")\n",
    "lab = Laberinto(aleatorio=True)\n",
    "exp.load_env(lab, \"laberinto\")\n",
    "# Create list of agents\n",
    "agent_random = Random()\n",
    "agent_rules = RuleBased()\n",
    "agent_rules.reglas = reglas\n",
    "agents_list = [agent_random, agent_rules]\n",
    "names = ['Aleatorio', 'Reglas']\n",
    "# Run the experiment\n",
    "exp.run_experiment(agents=agents_list, \\\n",
    "                   names=names, \\\n",
    "                   measures=['histogram'])"
   ]
  },
  {
   "cell_type": "markdown",
   "metadata": {
    "id": "Vbopf1ZlHNvz"
   },
   "source": [
    "El agente basado en reglas tiene un mejor desempeño que el agente aleatorio. Observe que la recompensa promedio del agente basado en reglas es -188, superior a -271 del agente aleatorio. Adicionalmente, el porcentaje de éxito del primero es 47%, mucho mayor que 14% del aleatorio."
   ]
  },
  {
   "cell_type": "markdown",
   "metadata": {
    "id": "1fECpMRDHNvz"
   },
   "source": [
    "---"
   ]
  },
  {
   "cell_type": "markdown",
   "metadata": {
    "id": "dkFb_yJxHNv0"
   },
   "source": [
    "<a class=\"anchor\" id=\"ej5\"></a>**Ejercicio 5:**\n",
    "\n",
    "([Anterior ejercicio](#ej4)) ([Próximo ejercicio](#ej6))\n",
    "\n",
    "Compare el desempeño de los agentes dirigido por tabla y basado en reglas. Comente los resultados del histograma."
   ]
  },
  {
   "cell_type": "code",
   "execution_count": 61,
   "metadata": {
    "colab": {
     "base_uri": "https://localhost:8080/",
     "height": 528
    },
    "id": "3iprxsb5SaUa",
    "outputId": "a697631d-f102-49a3-ac3d-d433d5412cd6"
   },
   "outputs": [
    {
     "name": "stderr",
     "output_type": "stream",
     "text": [
      "Testing agents over environment:   0%|                                                           | 0/1 [00:00<?, ?it/s]\n",
      "\t Running simulations:   0%|                                                                     | 0/1 [00:00<?, ?it/s]\u001b[A\n",
      "\t Running simulations: 100%|█████████████████████████████████████████████████████████████| 1/1 [00:01<00:00,  1.21s/it]\u001b[A\n",
      "Testing agents over environment: 100%|███████████████████████████████████████████████████| 1/1 [00:01<00:00,  1.24s/it]\n"
     ]
    },
    {
     "name": "stdout",
     "output_type": "stream",
     "text": [
      "Average sum of rewards:\n",
      " model\n",
      "Reglas   -202.45\n",
      "Tabla    -202.45\n",
      "Name: reward, dtype: float64\n",
      "\n",
      "Success percentage:\n",
      " model\n",
      "Reglas    40.0\n",
      "Tabla     40.0\n",
      "Name: done, dtype: float64\n"
     ]
    },
    {
     "data": {
      "image/png": "[encoded data removed]",
      "text/plain": [
       "<Figure size 288x252 with 1 Axes>"
      ]
     },
     "metadata": {
      "needs_background": "light"
     },
     "output_type": "display_data"
    }
   ],
   "source": [
    "# (sensor frontal, sensor izquierdo, sensor derecho, sensor trasero)\n",
    "tabla = {\n",
    "    # Si el frente no está bloqueado y el flanco derecho está\n",
    "    # bloqueado, avanzar una casilla\n",
    "    (False, True, True, True):['adelante'],\n",
    "    (False, True, True, False):['adelante'],\n",
    "    (False, False, True, True):['adelante'],\n",
    "    (False, False, True, False):['adelante'],\n",
    "    # Adición 1: \"si el frente y el flanco derecho están bloqueados y el flanco izquierdo no está bloqueado, voltear a la izquierda\".\n",
    "    (True, False, True, False):['voltearIzquierda'],\n",
    "    (True, False, True, True):['voltearIzquierda'],\n",
    "    # Adición 2: \"si el flanco derecho no está bloqueado, voltear a la derecha y avanzar una casilla\"\n",
    "    (False, False, False, False):['voltearDerecha', 'adelante'],\n",
    "    (False, False, False, True):['voltearDerecha', 'adelante'],\n",
    "    (False, True, False, False):['voltearDerecha', 'adelante'],\n",
    "    (False, True, False, True):['voltearDerecha', 'adelante'],\n",
    "    (True, False, False, False):['voltearDerecha', 'adelante'],\n",
    "    (True, False, False, True):['voltearDerecha', 'adelante'],\n",
    "    (True, True, False, False):['voltearDerecha', 'adelante'],\n",
    "    (True, True, False, True):['voltearDerecha', 'adelante'],\n",
    "    # Adición 3: para el histograma\n",
    "    (True, True, True, False): ['voltearIzquierda', 'voltearIzquierda', 'adelante']\n",
    "}\n",
    "\n",
    "# Create experiment\n",
    "exp = utils.Experiment(num_rounds=300, \\\n",
    "                       num_episodes=100)\n",
    "# Create and load environment\n",
    "# exp.load_test_suite(\"./testsuite_laberinto.json\")\n",
    "lab = Laberinto(aleatorio=True)\n",
    "exp.load_env(lab, \"laberinto\")\n",
    "# Create list of agents\n",
    "agent_rules = RuleBased()\n",
    "agent_rules.reglas = reglas\n",
    "agent_tabla = TableDriven()\n",
    "agent_tabla.tabla = tabla\n",
    "agents_list = [agent_rules, agent_tabla]\n",
    "names = ['Reglas', 'Tabla']\n",
    "# Run the experiment\n",
    "exp.run_experiment(agents=agents_list, \\\n",
    "                   names=names, \\\n",
    "                   measures=['histogram'])"
   ]
  },
  {
   "cell_type": "markdown",
   "metadata": {
    "id": "g75uRyFNStWB"
   },
   "source": [
    "Los resultados seran los mismos, pues el funcionamiento del agente tabla y el agente regla siguen las mismas normas, solo que su programación es de manera diferente. Formalmente, tienen la misma función de agente, pero difiere en el programa (asignación de preceptos y acciones). Lo que se reafirma al observar el histograma, con una recompensa promedio para los agentes de -202 y un porcentaje de exito del 40%.\n"
   ]
  },
  {
   "cell_type": "markdown",
   "metadata": {
    "id": "bSeAFj0cHNv0"
   },
   "source": [
    "---"
   ]
  },
  {
   "cell_type": "markdown",
   "metadata": {
    "id": "txsjsK6HHNv0"
   },
   "source": [
    "<a class=\"anchor\" id=\"ej6\"></a>**Ejercicio 6:**\n",
    "\n",
    "([Anterior ejercicio](#ej5))\n",
    "\n",
    "1. Modifique el agente basado en reglas para implementar las siguientes reglas:\n",
    "    * Si el frente no está bloqueado, avanzar una casilla.\n",
    "    * Si el frente está bloqueado y el flanco derecho no está bloqueado, voltear a la derecha y avanzar una casilla.\n",
    "    * Si el frente y el flanco derecho están bloqueados y el flanco izquierdo no está bloqueado, voltear a la izquierda.\n",
    "    * Si solo la espalda no está bloqueada, voltear a la izquierda dos veces y avanzar una casilla.\n",
    "\n",
    "2. Compare y comente el desempeño de los dos agentes basados en reglas."
   ]
  },
  {
   "cell_type": "code",
   "execution_count": 62,
   "metadata": {
    "id": "jvOEYrBnUURL"
   },
   "outputs": [
    {
     "name": "stderr",
     "output_type": "stream",
     "text": [
      "Testing agents over environment:   0%|                                                           | 0/1 [00:00<?, ?it/s]\n",
      "\t Running simulations:   0%|                                                                     | 0/1 [00:00<?, ?it/s]\u001b[A\n",
      "\t Running simulations: 100%|█████████████████████████████████████████████████████████████| 1/1 [00:01<00:00,  1.07s/it]\u001b[A\n",
      "Testing agents over environment: 100%|███████████████████████████████████████████████████| 1/1 [00:01<00:00,  1.08s/it]\n"
     ]
    },
    {
     "name": "stdout",
     "output_type": "stream",
     "text": [
      "Average sum of rewards:\n",
      " model\n",
      "Reglas_Nueva      -112.17\n",
      "Reglas_Original   -189.40\n",
      "Name: reward, dtype: float64\n",
      "\n",
      "Success percentage:\n",
      " model\n",
      "Reglas_Nueva       86.0\n",
      "Reglas_Original    46.0\n",
      "Name: done, dtype: float64\n"
     ]
    },
    {
     "data": {
      "image/png": "[encoded data removed]",
      "text/plain": [
       "<Figure size 288x252 with 1 Axes>"
      ]
     },
     "metadata": {
      "needs_background": "light"
     },
     "output_type": "display_data"
    }
   ],
   "source": [
    "# state[0]  =>  sensor forntal\n",
    "# state[1]  =>  sensor izquierdo\n",
    "# state[2]  =>  sensor derecho\n",
    "# state[3]  =>  sensor trasero\n",
    "reglas_2 = {\n",
    "    # Si el frente no está bloqueado, avanzar una casilla\n",
    "    'not state[0]':['adelante'],\n",
    "    # Si el frente está bloqueado y el flanco derecho no está\n",
    "    # bloqueado, voltear a la derecha y avanzar una casilla\n",
    "    'state[0] and not state[2]':['voltearDerecha', 'adelante'],\n",
    "    # Si el frente y el flanco derecho están bloqueados y el\n",
    "    # flanco izquierdo no está bloqueado, voltear a la izquierda.\n",
    "    'state[0] and state[2] and not state[1]':['voltearIzquierda'],\n",
    "    # Si solo la casilla trasera no está bloqueada, voltear dos\n",
    "    # veces a la izquierda y avanzar una casilla.\n",
    "    'state[0] and state[1] and state[2] and not state[3]': ['voltearIzquierda', 'voltearIzquierda', 'adelante'],\n",
    "}\n",
    "\n",
    "# Create experiment\n",
    "exp = utils.Experiment(num_rounds=300, \\\n",
    "                       num_episodes=100)\n",
    "# Create and load environment\n",
    "# exp.load_test_suite(\"./testsuite_laberinto.json\")\n",
    "lab = Laberinto(aleatorio=True)\n",
    "exp.load_env(lab, \"laberinto\")\n",
    "# Create list of agents\n",
    "agent_rules = RuleBased()\n",
    "agent_rules.reglas = reglas\n",
    "agent_rules_new = RuleBased()\n",
    "agent_rules_new.reglas = reglas_2\n",
    "agents_list = [agent_rules, agent_rules_new]\n",
    "names = ['Reglas_Original', 'Reglas_Nueva']\n",
    "# Run the experiment\n",
    "exp.run_experiment(agents=agents_list, \\\n",
    "                   names=names, \\\n",
    "                   measures=['histogram'])"
   ]
  },
  {
   "cell_type": "markdown",
   "metadata": {},
   "source": [
    "El agente basado en las reglas nuevas tiene un mejor desempeño que el agente basado en reglas viejas. La recompensa promedio del agente basado las reglas nuevas es -112, superior a -189 del agente viejo. Adicionalmente, el porcentaje de éxito del primero es 86%, mucho mayor que 46%. En general, se puede atribuir este cambio a no limitar el movimiento del agente a tener la derecha bloqueada. La decisión de qué reglas serán más utiles, afecta significativamente el rendimiento del agente."
   ]
  },
  {
   "cell_type": "markdown",
   "metadata": {
    "id": "w-aW2olHHNv0"
   },
   "source": [
    "---"
   ]
  },
  {
   "cell_type": "markdown",
   "metadata": {
    "id": "nRLKEEwRHNv0"
   },
   "source": [
    "## En este notebook usted aprendió\n",
    "\n",
    "* Los detalles de la implementación de programas de agente dirigido por tabla y de reflejo simple.\n",
    "* Realizar pruebas de desempeño a los agentes.\n"
   ]
  }
 ],
 "metadata": {
  "colab": {
   "provenance": []
  },
  "kernelspec": {
   "display_name": "Python 3 (ipykernel)",
   "language": "python",
   "name": "python3"
  },
  "language_info": {
   "codemirror_mode": {
    "name": "ipython",
    "version": 3
   },
   "file_extension": ".py",
   "mimetype": "text/x-python",
   "name": "python",
   "nbconvert_exporter": "python",
   "pygments_lexer": "ipython3",
   "version": "3.9.12"
  }
 },
 "nbformat": 4,
 "nbformat_minor": 1
}
