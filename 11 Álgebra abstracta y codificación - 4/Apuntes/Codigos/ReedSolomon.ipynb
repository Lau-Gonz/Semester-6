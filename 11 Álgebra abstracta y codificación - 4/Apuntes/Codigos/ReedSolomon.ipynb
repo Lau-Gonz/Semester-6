{
 "cells": [
  {
   "cell_type": "markdown",
   "metadata": {
    "collapsed": false
   },
   "source": [
    "# Ejemplo de decodificación con Reed-Solomon\n",
    "\n",
    "Vamos a trabajar en $F_{11}$. Nuestro código tendrá dimensión $k=5$ y longitud $n=|F^\\times|=10$.\n",
    "En este caso podemos corregir hasta\n",
    "$$\n",
    "    \\left\\lfloor\\frac{n-k}{2}\\right\\rfloor = 2\n",
    "$$\n",
    "errores.\n",
    "Un elemento primitivo en $F_{11}$ es $\\alpha=2$. Por esta razón vamos a definir $x_1 = \\alpha^{i-1}$ para $i=1,\\dotsc,n$.\n",
    "\n",
    "### Paso 1:\n",
    "Supongamos de haber recibido la palabra $w = (5,9,0,9,0,1,0,7,0,5)$.\n",
    "Definimos\n",
    "$$\n",
    "    l_0 = n - t - 1 = 7 \\qquad l_1 = n - t - 1 - (k - 1) = 3.\n",
    "$$\n",
    "\n",
    "### Paso 2:\n",
    "Vamos a definir la matriz para encontrar los polinomios $Q_0$ y $Q_1$."
   ]
  },
  {
   "cell_type": "code",
   "execution_count": 1,
   "metadata": {
    "collapsed": false
   },
   "outputs": [
    {
     "data": {
      "text/html": [
       "<html>\\(\\displaystyle \\left(\\begin{array}{rrrrrrrrrrrr}\n",
       "1 & 1 & 1 & 1 & 1 & 1 & 1 & 1 & 5 & 5 & 5 & 5 \\\\\n",
       "1 & 2 & 4 & 8 & 5 & 10 & 9 & 7 & 9 & 7 & 3 & 6 \\\\\n",
       "1 & 4 & 5 & 9 & 3 & 1 & 4 & 5 & 0 & 0 & 0 & 0 \\\\\n",
       "1 & 8 & 9 & 6 & 4 & 10 & 3 & 2 & 9 & 6 & 4 & 10 \\\\\n",
       "1 & 5 & 3 & 4 & 9 & 1 & 5 & 3 & 0 & 0 & 0 & 0 \\\\\n",
       "1 & 10 & 1 & 10 & 1 & 10 & 1 & 10 & 1 & 10 & 1 & 10 \\\\\n",
       "1 & 9 & 4 & 3 & 5 & 1 & 9 & 4 & 0 & 0 & 0 & 0 \\\\\n",
       "1 & 7 & 5 & 2 & 3 & 10 & 4 & 6 & 7 & 5 & 2 & 3 \\\\\n",
       "1 & 3 & 9 & 5 & 4 & 1 & 3 & 9 & 0 & 0 & 0 & 0 \\\\\n",
       "1 & 6 & 3 & 7 & 9 & 10 & 5 & 8 & 5 & 8 & 4 & 2\n",
       "\\end{array}\\right)\\)</html>"
      ],
      "text/latex": [
       "$\\displaystyle \\left(\\begin{array}{rrrrrrrrrrrr}\n",
       "1 & 1 & 1 & 1 & 1 & 1 & 1 & 1 & 5 & 5 & 5 & 5 \\\\\n",
       "1 & 2 & 4 & 8 & 5 & 10 & 9 & 7 & 9 & 7 & 3 & 6 \\\\\n",
       "1 & 4 & 5 & 9 & 3 & 1 & 4 & 5 & 0 & 0 & 0 & 0 \\\\\n",
       "1 & 8 & 9 & 6 & 4 & 10 & 3 & 2 & 9 & 6 & 4 & 10 \\\\\n",
       "1 & 5 & 3 & 4 & 9 & 1 & 5 & 3 & 0 & 0 & 0 & 0 \\\\\n",
       "1 & 10 & 1 & 10 & 1 & 10 & 1 & 10 & 1 & 10 & 1 & 10 \\\\\n",
       "1 & 9 & 4 & 3 & 5 & 1 & 9 & 4 & 0 & 0 & 0 & 0 \\\\\n",
       "1 & 7 & 5 & 2 & 3 & 10 & 4 & 6 & 7 & 5 & 2 & 3 \\\\\n",
       "1 & 3 & 9 & 5 & 4 & 1 & 3 & 9 & 0 & 0 & 0 & 0 \\\\\n",
       "1 & 6 & 3 & 7 & 9 & 10 & 5 & 8 & 5 & 8 & 4 & 2\n",
       "\\end{array}\\right)$"
      ],
      "text/plain": [
       "[ 1  1  1  1  1  1  1  1  5  5  5  5]\n",
       "[ 1  2  4  8  5 10  9  7  9  7  3  6]\n",
       "[ 1  4  5  9  3  1  4  5  0  0  0  0]\n",
       "[ 1  8  9  6  4 10  3  2  9  6  4 10]\n",
       "[ 1  5  3  4  9  1  5  3  0  0  0  0]\n",
       "[ 1 10  1 10  1 10  1 10  1 10  1 10]\n",
       "[ 1  9  4  3  5  1  9  4  0  0  0  0]\n",
       "[ 1  7  5  2  3 10  4  6  7  5  2  3]\n",
       "[ 1  3  9  5  4  1  3  9  0  0  0  0]\n",
       "[ 1  6  3  7  9 10  5  8  5  8  4  2]"
      ]
     },
     "execution_count": 1,
     "metadata": {
     },
     "output_type": "execute_result"
    }
   ],
   "source": [
    "FF = GF(11)\n",
    "A = matrix(FF,[[1,1,1,1,1,1,1,1,5,5,5,5],\n",
    "            [1,2,4,8,5,10,9,7,9,7,3,6],\n",
    "            [1,4,5,9,3,1,4,5,0,0,0,0],\n",
    "            [1,8,9,6,4,10,3,2,9,6,4,10],\n",
    "            [1,5,3,4,9,1,5,3,0,0,0,0],\n",
    "            [1,10,1,10,1,10,1,10,1,10,1,10],\n",
    "            [1,9,4,3,5,1,9,4,0,0,0,0],\n",
    "            [1,7,5,2,3,10,4,6,7,5,2,3],\n",
    "            [1,3,9,5,4,1,3,9,0,0,0,0],\n",
    "            [1,6,3,7,9,10,5,8,5,8,4,2]])\n",
    "show(A)"
   ]
  },
  {
   "cell_type": "code",
   "execution_count": 2,
   "metadata": {
    "collapsed": false
   },
   "outputs": [
    {
     "data": {
      "text/html": [
       "<html>\\(\\displaystyle \\left(\\begin{array}{rrrrrrrrrrrr}\n",
       "1 & 0 & 0 & 0 & 0 & 0 & 0 & 0 & 0 & 0 & 4 & 1 \\\\\n",
       "0 & 1 & 0 & 0 & 0 & 0 & 0 & 0 & 0 & 0 & 1 & 7 \\\\\n",
       "0 & 0 & 1 & 0 & 0 & 0 & 0 & 0 & 0 & 0 & 2 & 7 \\\\\n",
       "0 & 0 & 0 & 1 & 0 & 0 & 0 & 0 & 0 & 0 & 2 & 8 \\\\\n",
       "0 & 0 & 0 & 0 & 1 & 0 & 0 & 0 & 0 & 0 & 2 & 8 \\\\\n",
       "0 & 0 & 0 & 0 & 0 & 1 & 0 & 0 & 0 & 0 & 9 & 7 \\\\\n",
       "0 & 0 & 0 & 0 & 0 & 0 & 1 & 0 & 0 & 0 & 1 & 1 \\\\\n",
       "0 & 0 & 0 & 0 & 0 & 0 & 0 & 1 & 0 & 0 & 0 & 1 \\\\\n",
       "0 & 0 & 0 & 0 & 0 & 0 & 0 & 0 & 1 & 0 & 7 & 10 \\\\\n",
       "0 & 0 & 0 & 0 & 0 & 0 & 0 & 0 & 0 & 1 & 3 & 5\n",
       "\\end{array}\\right)\\)</html>"
      ],
      "text/latex": [
       "$\\displaystyle \\left(\\begin{array}{rrrrrrrrrrrr}\n",
       "1 & 0 & 0 & 0 & 0 & 0 & 0 & 0 & 0 & 0 & 4 & 1 \\\\\n",
       "0 & 1 & 0 & 0 & 0 & 0 & 0 & 0 & 0 & 0 & 1 & 7 \\\\\n",
       "0 & 0 & 1 & 0 & 0 & 0 & 0 & 0 & 0 & 0 & 2 & 7 \\\\\n",
       "0 & 0 & 0 & 1 & 0 & 0 & 0 & 0 & 0 & 0 & 2 & 8 \\\\\n",
       "0 & 0 & 0 & 0 & 1 & 0 & 0 & 0 & 0 & 0 & 2 & 8 \\\\\n",
       "0 & 0 & 0 & 0 & 0 & 1 & 0 & 0 & 0 & 0 & 9 & 7 \\\\\n",
       "0 & 0 & 0 & 0 & 0 & 0 & 1 & 0 & 0 & 0 & 1 & 1 \\\\\n",
       "0 & 0 & 0 & 0 & 0 & 0 & 0 & 1 & 0 & 0 & 0 & 1 \\\\\n",
       "0 & 0 & 0 & 0 & 0 & 0 & 0 & 0 & 1 & 0 & 7 & 10 \\\\\n",
       "0 & 0 & 0 & 0 & 0 & 0 & 0 & 0 & 0 & 1 & 3 & 5\n",
       "\\end{array}\\right)$"
      ],
      "text/plain": [
       "[ 1  0  0  0  0  0  0  0  0  0  4  1]\n",
       "[ 0  1  0  0  0  0  0  0  0  0  1  7]\n",
       "[ 0  0  1  0  0  0  0  0  0  0  2  7]\n",
       "[ 0  0  0  1  0  0  0  0  0  0  2  8]\n",
       "[ 0  0  0  0  1  0  0  0  0  0  2  8]\n",
       "[ 0  0  0  0  0  1  0  0  0  0  9  7]\n",
       "[ 0  0  0  0  0  0  1  0  0  0  1  1]\n",
       "[ 0  0  0  0  0  0  0  1  0  0  0  1]\n",
       "[ 0  0  0  0  0  0  0  0  1  0  7 10]\n",
       "[ 0  0  0  0  0  0  0  0  0  1  3  5]"
      ]
     },
     "execution_count": 2,
     "metadata": {
     },
     "output_type": "execute_result"
    }
   ],
   "source": [
    "show(A.echelon_form())"
   ]
  },
  {
   "cell_type": "markdown",
   "metadata": {
    "collapsed": false
   },
   "source": [
    "Una solución es\n",
    "$$\n",
    "    (4,1,2,2,2,9,1,0,7,3,10,0)\n",
    "$$\n",
    "que corresponde a\n",
    "$$\n",
    "Q_0 (x) = x^6+9x^5+2x^4+2x^3+2x^2+x+4, \\qquad Q_1(x)= 10x^2+3x+7.\n",
    "$$"
   ]
  },
  {
   "cell_type": "markdown",
   "metadata": {
    "collapsed": false
   },
   "source": [
    "### Paso 3:\n",
    "Definimos los polinomios $Q_0$ y $Q_1$"
   ]
  },
  {
   "cell_type": "code",
   "execution_count": 3,
   "metadata": {
    "collapsed": false
   },
   "outputs": [
   ],
   "source": [
    "x = polygen(FF, 'x')\n",
    "Q0 = x^6+9*x^5+2*x^4+2*x^3+2*x^2+x+4\n",
    "Q1 = 10*x^2+3*x+7"
   ]
  },
  {
   "cell_type": "markdown",
   "metadata": {
    "collapsed": false
   },
   "source": [
    "Cálculamos el polinomio $g(x)$."
   ]
  },
  {
   "cell_type": "code",
   "execution_count": 4,
   "metadata": {
    "collapsed": false
   },
   "outputs": [
    {
     "data": {
      "text/plain": [
       "x^4 + x^3 + x^2 + x + 1"
      ]
     },
     "execution_count": 4,
     "metadata": {
     },
     "output_type": "execute_result"
    }
   ],
   "source": [
    "g = - Q0/Q1; g"
   ]
  },
  {
   "cell_type": "markdown",
   "metadata": {
    "collapsed": false
   },
   "source": [
    "Siendo $g(x)\\in F_{11}[x]$ la decodificación fue exitosa.\n",
    "\n",
    "Cálculando $g(x)$ en $x_i$ por $i=1,\\dotsc,10$ obtenemos\n",
    "$$\n",
    "c = (5,9,0,6,0,1,0,7,0,4).\n",
    "$$\n",
    "Veamos las raices de $Q_1(x)$:"
   ]
  },
  {
   "cell_type": "code",
   "execution_count": 5,
   "metadata": {
    "collapsed": false
   },
   "outputs": [
    {
     "data": {
      "text/plain": [
       "[(8, 1), (6, 1)]"
      ]
     },
     "execution_count": 5,
     "metadata": {
     },
     "output_type": "execute_result"
    }
   ],
   "source": [
    "Q1.roots()b"
   ]
  },
  {
   "cell_type": "markdown",
   "metadata": {
    "collapsed": false
   },
   "source": [
    "Esto significa que los errores corresponden a $x_i = 8$ y $x_i = 6$, es decir ocurrieron en las posiciones $4$ y $10$ siendo $8=2^3$ y $6=2^9$.  \n",
    "\n"
   ]
  }
 ],
 "metadata": {
  "kernelspec": {
   "argv": [
    "sage-9.8",
    "--python",
    "-m",
    "sage.repl.ipython_kernel",
    "--matplotlib=inline",
    "-f",
    "{connection_file}"
   ],
   "display_name": "SageMath 9.8",
   "env": {
   },
   "language": "sagemath",
   "metadata": {
    "cocalc": {
     "description": "Open-source mathematical software system",
     "priority": 1,
     "url": "https://www.sagemath.org/"
    }
   },
   "name": "sage-9.8",
   "resource_dir": "/ext/jupyter/kernels/sage-9.8"
  },
  "language_info": {
   "codemirror_mode": {
    "name": "ipython",
    "version": 3
   },
   "file_extension": ".py",
   "mimetype": "text/x-python",
   "name": "python",
   "nbconvert_exporter": "python",
   "pygments_lexer": "ipython3",
   "version": "3.11.1"
  }
 },
 "nbformat": 4,
 "nbformat_minor": 4
}